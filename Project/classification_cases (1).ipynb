{
  "nbformat": 4,
  "nbformat_minor": 0,
  "metadata": {
    "accelerator": "GPU",
    "colab": {
      "name": "classification_cases.ipynb",
      "provenance": [],
      "collapsed_sections": [],
      "machine_shape": "hm"
    },
    "kernelspec": {
      "display_name": "Python 3",
      "name": "python3"
    }
  },
  "cells": [
    {
      "cell_type": "markdown",
      "metadata": {
        "id": "QFR4qZZSdsV1"
      },
      "source": [
        "Classification models \n",
        "\n",
        "Import the required library/packages "
      ]
    },
    {
      "cell_type": "code",
      "metadata": {
        "colab": {
          "base_uri": "https://localhost:8080/"
        },
        "id": "K_6Nrl6HkgKV",
        "outputId": "91758db7-91f0-4534-e4e0-b7dc7714f533"
      },
      "source": [
        "%matplotlib inline\n",
        "import matplotlib.pyplot as plt\n",
        "import pandas as pd\n",
        "import numpy as np\n",
        "from sklearn.linear_model import LinearRegression\n",
        "from sklearn.model_selection import train_test_split\n",
        "from sklearn.linear_model import LogisticRegression\n",
        "from sklearn.feature_extraction.text import CountVectorizer,TfidfVectorizer\n",
        "import matplotlib.pyplot as plt\n",
        "import os\n",
        "\n",
        "import re\n",
        "import nltk\n",
        "from nltk.corpus import stopwords\n",
        "import nltk\n",
        "nltk.download('stopwords')"
      ],
      "execution_count": 36,
      "outputs": [
        {
          "output_type": "stream",
          "text": [
            "[nltk_data] Downloading package stopwords to /root/nltk_data...\n",
            "[nltk_data]   Package stopwords is already up-to-date!\n"
          ],
          "name": "stdout"
        },
        {
          "output_type": "execute_result",
          "data": {
            "text/plain": [
              "True"
            ]
          },
          "metadata": {
            "tags": []
          },
          "execution_count": 36
        }
      ]
    },
    {
      "cell_type": "code",
      "metadata": {
        "colab": {
          "base_uri": "https://localhost:8080/",
          "height": 97
        },
        "id": "Eot08en6kugf",
        "outputId": "fa6441de-48e3-494d-9b95-2e3846281fa0"
      },
      "source": [
        "filename = '/content/News_Category2.csv' \n",
        "df = pd.read_csv(filename) #read the file \n",
        "df.head(1) #display the first row"
      ],
      "execution_count": 37,
      "outputs": [
        {
          "output_type": "execute_result",
          "data": {
            "text/html": [
              "<div>\n",
              "<style scoped>\n",
              "    .dataframe tbody tr th:only-of-type {\n",
              "        vertical-align: middle;\n",
              "    }\n",
              "\n",
              "    .dataframe tbody tr th {\n",
              "        vertical-align: top;\n",
              "    }\n",
              "\n",
              "    .dataframe thead th {\n",
              "        text-align: right;\n",
              "    }\n",
              "</style>\n",
              "<table border=\"1\" class=\"dataframe\">\n",
              "  <thead>\n",
              "    <tr style=\"text-align: right;\">\n",
              "      <th></th>\n",
              "      <th>category</th>\n",
              "      <th>headline</th>\n",
              "      <th>authors</th>\n",
              "      <th>link</th>\n",
              "      <th>short_description</th>\n",
              "      <th>date</th>\n",
              "      <th>key_words</th>\n",
              "    </tr>\n",
              "  </thead>\n",
              "  <tbody>\n",
              "    <tr>\n",
              "      <th>0</th>\n",
              "      <td>CRIME</td>\n",
              "      <td>Children, Same-Sex Couple Identified In 'Horri...</td>\n",
              "      <td>Carla Herreria</td>\n",
              "      <td>https://www.huffingtonpost.com/entry/troy-new-...</td>\n",
              "      <td>The family's bodies were found in a basement a...</td>\n",
              "      <td>2017-12-26</td>\n",
              "      <td>['dewolf also told news 10 abc reporter lauren...</td>\n",
              "    </tr>\n",
              "  </tbody>\n",
              "</table>\n",
              "</div>"
            ],
            "text/plain": [
              "  category  ...                                          key_words\n",
              "0    CRIME  ...  ['dewolf also told news 10 abc reporter lauren...\n",
              "\n",
              "[1 rows x 7 columns]"
            ]
          },
          "metadata": {
            "tags": []
          },
          "execution_count": 37
        }
      ]
    },
    {
      "cell_type": "code",
      "metadata": {
        "colab": {
          "base_uri": "https://localhost:8080/",
          "height": 97
        },
        "id": "Plx2B9WAxYex",
        "outputId": "6dbd2d31-7de8-4166-dfad-600a2dd80800"
      },
      "source": [
        "df['label_id'] = pd.factorize(df.category)[0] #factorize category \n",
        "df[0:1] #looking at the first row"
      ],
      "execution_count": 38,
      "outputs": [
        {
          "output_type": "execute_result",
          "data": {
            "text/html": [
              "<div>\n",
              "<style scoped>\n",
              "    .dataframe tbody tr th:only-of-type {\n",
              "        vertical-align: middle;\n",
              "    }\n",
              "\n",
              "    .dataframe tbody tr th {\n",
              "        vertical-align: top;\n",
              "    }\n",
              "\n",
              "    .dataframe thead th {\n",
              "        text-align: right;\n",
              "    }\n",
              "</style>\n",
              "<table border=\"1\" class=\"dataframe\">\n",
              "  <thead>\n",
              "    <tr style=\"text-align: right;\">\n",
              "      <th></th>\n",
              "      <th>category</th>\n",
              "      <th>headline</th>\n",
              "      <th>authors</th>\n",
              "      <th>link</th>\n",
              "      <th>short_description</th>\n",
              "      <th>date</th>\n",
              "      <th>key_words</th>\n",
              "      <th>label_id</th>\n",
              "    </tr>\n",
              "  </thead>\n",
              "  <tbody>\n",
              "    <tr>\n",
              "      <th>0</th>\n",
              "      <td>CRIME</td>\n",
              "      <td>Children, Same-Sex Couple Identified In 'Horri...</td>\n",
              "      <td>Carla Herreria</td>\n",
              "      <td>https://www.huffingtonpost.com/entry/troy-new-...</td>\n",
              "      <td>The family's bodies were found in a basement a...</td>\n",
              "      <td>2017-12-26</td>\n",
              "      <td>['dewolf also told news 10 abc reporter lauren...</td>\n",
              "      <td>0</td>\n",
              "    </tr>\n",
              "  </tbody>\n",
              "</table>\n",
              "</div>"
            ],
            "text/plain": [
              "  category  ... label_id\n",
              "0    CRIME  ...        0\n",
              "\n",
              "[1 rows x 8 columns]"
            ]
          },
          "metadata": {
            "tags": []
          },
          "execution_count": 38
        }
      ]
    },
    {
      "cell_type": "code",
      "metadata": {
        "colab": {
          "base_uri": "https://localhost:8080/",
          "height": 419
        },
        "id": "aOTs-VIO5hIZ",
        "outputId": "4bbb6ad3-9231-46e9-f8d2-d2d00ef2d55f"
      },
      "source": [
        "label = df[['category','label_id']].copy() #return a new list but does not modify the orginal \n",
        "label[1500:2000]"
      ],
      "execution_count": 39,
      "outputs": [
        {
          "output_type": "execute_result",
          "data": {
            "text/html": [
              "<div>\n",
              "<style scoped>\n",
              "    .dataframe tbody tr th:only-of-type {\n",
              "        vertical-align: middle;\n",
              "    }\n",
              "\n",
              "    .dataframe tbody tr th {\n",
              "        vertical-align: top;\n",
              "    }\n",
              "\n",
              "    .dataframe thead th {\n",
              "        text-align: right;\n",
              "    }\n",
              "</style>\n",
              "<table border=\"1\" class=\"dataframe\">\n",
              "  <thead>\n",
              "    <tr style=\"text-align: right;\">\n",
              "      <th></th>\n",
              "      <th>category</th>\n",
              "      <th>label_id</th>\n",
              "    </tr>\n",
              "  </thead>\n",
              "  <tbody>\n",
              "    <tr>\n",
              "      <th>1500</th>\n",
              "      <td>IMPACT</td>\n",
              "      <td>3</td>\n",
              "    </tr>\n",
              "    <tr>\n",
              "      <th>1501</th>\n",
              "      <td>IMPACT</td>\n",
              "      <td>3</td>\n",
              "    </tr>\n",
              "    <tr>\n",
              "      <th>1502</th>\n",
              "      <td>IMPACT</td>\n",
              "      <td>3</td>\n",
              "    </tr>\n",
              "    <tr>\n",
              "      <th>1503</th>\n",
              "      <td>IMPACT</td>\n",
              "      <td>3</td>\n",
              "    </tr>\n",
              "    <tr>\n",
              "      <th>1504</th>\n",
              "      <td>IMPACT</td>\n",
              "      <td>3</td>\n",
              "    </tr>\n",
              "    <tr>\n",
              "      <th>...</th>\n",
              "      <td>...</td>\n",
              "      <td>...</td>\n",
              "    </tr>\n",
              "    <tr>\n",
              "      <th>1995</th>\n",
              "      <td>POLITICS</td>\n",
              "      <td>4</td>\n",
              "    </tr>\n",
              "    <tr>\n",
              "      <th>1996</th>\n",
              "      <td>POLITICS</td>\n",
              "      <td>4</td>\n",
              "    </tr>\n",
              "    <tr>\n",
              "      <th>1997</th>\n",
              "      <td>POLITICS</td>\n",
              "      <td>4</td>\n",
              "    </tr>\n",
              "    <tr>\n",
              "      <th>1998</th>\n",
              "      <td>POLITICS</td>\n",
              "      <td>4</td>\n",
              "    </tr>\n",
              "    <tr>\n",
              "      <th>1999</th>\n",
              "      <td>POLITICS</td>\n",
              "      <td>4</td>\n",
              "    </tr>\n",
              "  </tbody>\n",
              "</table>\n",
              "<p>500 rows × 2 columns</p>\n",
              "</div>"
            ],
            "text/plain": [
              "      category  label_id\n",
              "1500    IMPACT         3\n",
              "1501    IMPACT         3\n",
              "1502    IMPACT         3\n",
              "1503    IMPACT         3\n",
              "1504    IMPACT         3\n",
              "...        ...       ...\n",
              "1995  POLITICS         4\n",
              "1996  POLITICS         4\n",
              "1997  POLITICS         4\n",
              "1998  POLITICS         4\n",
              "1999  POLITICS         4\n",
              "\n",
              "[500 rows x 2 columns]"
            ]
          },
          "metadata": {
            "tags": []
          },
          "execution_count": 39
        }
      ]
    },
    {
      "cell_type": "code",
      "metadata": {
        "id": "JmS_om8b-sC5"
      },
      "source": [
        "#convert to list\n",
        "cat = list(label.category) \n",
        "id = list(label.label_id)"
      ],
      "execution_count": 40,
      "outputs": []
    },
    {
      "cell_type": "code",
      "metadata": {
        "id": "bXUzGJayexz7"
      },
      "source": [
        "len(cat),cat"
      ],
      "execution_count": null,
      "outputs": []
    },
    {
      "cell_type": "code",
      "metadata": {
        "id": "03RIWRKFe3og"
      },
      "source": [
        "len(id),id"
      ],
      "execution_count": null,
      "outputs": []
    },
    {
      "cell_type": "code",
      "metadata": {
        "id": "fruo3VQx9ENi"
      },
      "source": [
        "label_dict = {cat[i]: id[i] for i in range(len(cat))}  #Making dictionary of the categories and assigning their corresponding id"
      ],
      "execution_count": 41,
      "outputs": []
    },
    {
      "cell_type": "code",
      "metadata": {
        "id": "AY7Z0lth933I",
        "colab": {
          "base_uri": "https://localhost:8080/"
        },
        "outputId": "91f92069-2fc4-40c3-d274-b5c315560c2c"
      },
      "source": [
        "label_dict"
      ],
      "execution_count": 42,
      "outputs": [
        {
          "output_type": "execute_result",
          "data": {
            "text/plain": [
              "{'ARTS': 30,\n",
              " 'ARTS & CULTURE': 21,\n",
              " 'BLACK VOICES': 6,\n",
              " 'BUSINESS': 11,\n",
              " 'COLLEGE': 19,\n",
              " 'COMEDY': 8,\n",
              " 'CRIME': 0,\n",
              " 'CULTURE & ARTS': 40,\n",
              " 'DIVORCE': 35,\n",
              " 'EDUCATION': 18,\n",
              " 'ENTERTAINMENT': 1,\n",
              " 'ENVIRONMENT': 39,\n",
              " 'FIFTY': 29,\n",
              " 'FOOD & DRINK': 37,\n",
              " 'GOOD NEWS': 27,\n",
              " 'GREEN': 23,\n",
              " 'HEALTHY LIVING': 25,\n",
              " 'HOME & LIVING': 33,\n",
              " 'IMPACT': 3,\n",
              " 'LATINO VOICES': 17,\n",
              " 'MEDIA': 13,\n",
              " 'MONEY': 38,\n",
              " 'PARENTING': 32,\n",
              " 'PARENTS': 20,\n",
              " 'POLITICS': 4,\n",
              " 'QUEER VOICES': 9,\n",
              " 'RELIGION': 15,\n",
              " 'SCIENCE': 16,\n",
              " 'SPORTS': 10,\n",
              " 'STYLE': 22,\n",
              " 'STYLE & BEAUTY': 34,\n",
              " 'TASTE': 24,\n",
              " 'TECH': 14,\n",
              " 'THE WORLDPOST': 26,\n",
              " 'TRAVEL': 12,\n",
              " 'WEDDINGS': 36,\n",
              " 'WEIRD NEWS': 5,\n",
              " 'WELLNESS': 31,\n",
              " 'WOMEN': 7,\n",
              " 'WORLD NEWS': 2,\n",
              " 'WORLDPOST': 28}"
            ]
          },
          "metadata": {
            "tags": []
          },
          "execution_count": 42
        }
      ]
    },
    {
      "cell_type": "markdown",
      "metadata": {
        "id": "yWj2cDHYfEt4"
      },
      "source": [
        "TFidfVectorizer is used to convert a collection of raw documnets into matrix of TF-IDF features.\n",
        "TF is the number of times terms that appears in a documnet.\n",
        "IDF is the inverse document frequency.\n",
        "\n",
        "sublinear_tf is a boolean,defualt is False. Applies sublinear tf scalling, replaces tf with 1 + log(tf)\n",
        "\n",
        "min_df is used to remove terms that appear infrequently.\n",
        "if min_df was is set to 3 which means it ignores terms that appear less than 3 documents \n",
        "\n",
        "for encoding latin-1 is used \n",
        "\n",
        "for stop word enlgish is used \n",
        "ngram (1,4) is applied\n"
      ]
    },
    {
      "cell_type": "code",
      "metadata": {
        "id": "Gp5vXtpWxpuf"
      },
      "source": [
        "from sklearn.feature_extraction.text import TfidfVectorizer\n",
        "\n",
        "vectorizer = TfidfVectorizer(sublinear_tf=False, min_df=3, norm='l2', encoding='latin-1', ngram_range=(1,4),stop_words='english')\n",
        "key_words_feat = vectorizer.fit_transform(df.key_words).toarray()\n",
        "categories_label = df.label_id"
      ],
      "execution_count": 43,
      "outputs": []
    },
    {
      "cell_type": "code",
      "metadata": {
        "id": "IQPgoBGWyMWF"
      },
      "source": [
        "vectorizer.vocabulary_"
      ],
      "execution_count": null,
      "outputs": []
    },
    {
      "cell_type": "code",
      "metadata": {
        "colab": {
          "base_uri": "https://localhost:8080/"
        },
        "id": "6waOW80LyXbl",
        "outputId": "ddfe4d6a-0d7b-4df6-dbc3-24b7bd453763"
      },
      "source": [
        "key_words_feat.shape, categories_label.shape"
      ],
      "execution_count": 45,
      "outputs": [
        {
          "output_type": "execute_result",
          "data": {
            "text/plain": [
              "((19298, 52345), (19298,))"
            ]
          },
          "metadata": {
            "tags": []
          },
          "execution_count": 45
        }
      ]
    },
    {
      "cell_type": "markdown",
      "metadata": {
        "id": "nTm3tqvTkJj5"
      },
      "source": [
        "Splitting data into train and test\n",
        "\n",
        "25 percent of the data is used for testing purpose the rest for traning \n",
        "random state is set to 1000"
      ]
    },
    {
      "cell_type": "code",
      "metadata": {
        "id": "ZpB_BjYj1yTk"
      },
      "source": [
        "from sklearn.model_selection import train_test_split\n",
        "X_train, X_test, y_train, y_test=train_test_split(key_words_feat,categories_label,test_size=0.25, random_state=1000)"
      ],
      "execution_count": 46,
      "outputs": []
    },
    {
      "cell_type": "code",
      "metadata": {
        "colab": {
          "base_uri": "https://localhost:8080/"
        },
        "id": "EPpB4g0kwiAU",
        "outputId": "109c5237-5a6d-4365-f2c8-fdd6fa75ff5e"
      },
      "source": [
        "X_train.shape,y_train.shape #looking at the shape rows and columns"
      ],
      "execution_count": 47,
      "outputs": [
        {
          "output_type": "execute_result",
          "data": {
            "text/plain": [
              "((14473, 52345), (14473,))"
            ]
          },
          "metadata": {
            "tags": []
          },
          "execution_count": 47
        }
      ]
    },
    {
      "cell_type": "markdown",
      "metadata": {
        "id": "i5ikJ8ajoFXZ"
      },
      "source": [
        "Three different classifer are used:\n",
        "1. LogisticRegression\n",
        "2. MultinomialNB(used Bayseian model)\n",
        "3. RandomForestClassifier"
      ]
    },
    {
      "cell_type": "code",
      "metadata": {
        "colab": {
          "base_uri": "https://localhost:8080/"
        },
        "id": "azg8jQ6A1R9O",
        "outputId": "09f00870-051b-458b-a8c2-66ba0470c3c5"
      },
      "source": [
        "from sklearn.linear_model import LogisticRegression #load the model \n",
        "clf1 = LogisticRegression(random_state=1000,max_iter=1000, multi_class='multinomial',solver='lbfgs',C=7) \n",
        "clf1.fit(X_train, y_train) #fitting the model\n",
        "score = clf1.score(X_test, y_test) #obtain the score\n",
        "print (\"Accuracy of the model is : \",end=\"\") \n",
        "print (\"{0:.4f}\".format(score)) "
      ],
      "execution_count": null,
      "outputs": [
        {
          "output_type": "stream",
          "text": [
            "Accuracy of the model is : 0.5442\n"
          ],
          "name": "stdout"
        }
      ]
    },
    {
      "cell_type": "code",
      "metadata": {
        "id": "WUHWLPR4lEoB"
      },
      "source": [
        "y_pred = clf1.predict(X_test)"
      ],
      "execution_count": null,
      "outputs": []
    },
    {
      "cell_type": "code",
      "metadata": {
        "colab": {
          "base_uri": "https://localhost:8080/"
        },
        "id": "WQxMWS1Ok7k1",
        "outputId": "6876250b-552b-4faa-ac7e-62cfec28aa1c"
      },
      "source": [
        "from sklearn.metrics import classification_report, confusion_matrix, accuracy_score\n",
        "result = confusion_matrix(y_test, y_pred)\n",
        "print(\"Confusion Matrix:\")\n",
        "print(result)\n",
        "result1 = classification_report(y_test, y_pred)\n",
        "print(\"Classification Report:\",)\n",
        "print (result1)\n",
        "result2 = accuracy_score(y_test,y_pred)\n",
        "print(\"Accuracy:\",result2)"
      ],
      "execution_count": null,
      "outputs": [
        {
          "output_type": "stream",
          "text": [
            "Confusion Matrix:\n",
            "[[90  0  0 ...  0  0  0]\n",
            " [ 1 76  3 ...  0  0  0]\n",
            " [ 3  0 52 ...  0  1  2]\n",
            " ...\n",
            " [ 0  0  0 ... 74  0  0]\n",
            " [ 3  2  0 ...  0 57  0]\n",
            " [ 0  4  0 ...  0  0 69]]\n",
            "Classification Report:\n",
            "              precision    recall  f1-score   support\n",
            "\n",
            "           0       0.60      0.71      0.65       127\n",
            "           1       0.50      0.65      0.57       117\n",
            "           2       0.41      0.45      0.43       115\n",
            "           3       0.48      0.48      0.48       121\n",
            "           4       0.49      0.51      0.50       123\n",
            "           5       0.40      0.21      0.27        82\n",
            "           6       0.60      0.52      0.56       101\n",
            "           7       0.49      0.43      0.46       129\n",
            "           8       0.49      0.62      0.55       113\n",
            "           9       0.81      0.70      0.75        94\n",
            "          10       0.70      0.80      0.75       108\n",
            "          11       0.48      0.50      0.49       106\n",
            "          12       0.56      0.51      0.53       137\n",
            "          13       0.52      0.53      0.52       104\n",
            "          14       0.63      0.61      0.62       120\n",
            "          15       0.73      0.68      0.70       125\n",
            "          16       0.73      0.70      0.71       121\n",
            "          17       0.75      0.60      0.67       116\n",
            "          18       0.69      0.67      0.68       123\n",
            "          19       0.72      0.58      0.65       122\n",
            "          20       0.42      0.44      0.43       108\n",
            "          21       0.50      0.44      0.47       117\n",
            "          22       0.60      0.60      0.60       124\n",
            "          23       0.49      0.52      0.50       116\n",
            "          24       0.38      0.37      0.37       122\n",
            "          25       0.31      0.41      0.36       116\n",
            "          26       0.57      0.35      0.43       126\n",
            "          27       0.60      0.60      0.60       121\n",
            "          28       0.52      0.56      0.54       115\n",
            "          29       0.47      0.64      0.54       135\n",
            "          30       0.40      0.39      0.39       129\n",
            "          31       0.36      0.45      0.40       122\n",
            "          32       0.38      0.33      0.36       120\n",
            "          33       0.57      0.66      0.61       104\n",
            "          34       0.46      0.61      0.52       115\n",
            "          35       0.80      0.56      0.66       116\n",
            "          36       0.81      0.70      0.75       118\n",
            "          37       0.52      0.52      0.52       132\n",
            "          38       0.69      0.62      0.65       119\n",
            "          39       0.56      0.47      0.51       121\n",
            "          40       0.53      0.55      0.54       125\n",
            "\n",
            "    accuracy                           0.54      4825\n",
            "   macro avg       0.55      0.54      0.54      4825\n",
            "weighted avg       0.55      0.54      0.54      4825\n",
            "\n",
            "Accuracy: 0.5442487046632124\n"
          ],
          "name": "stdout"
        }
      ]
    },
    {
      "cell_type": "code",
      "metadata": {
        "colab": {
          "base_uri": "https://localhost:8080/"
        },
        "id": "NLH5ixGT4xbw",
        "outputId": "e012d894-ac43-4d21-ea59-0c16c02a0f25"
      },
      "source": [
        "from sklearn.naive_bayes import MultinomialNB #load the model\n",
        "clf2 = MultinomialNB() \n",
        "clf2.fit(X_train, y_train) #train the model \n",
        "score = clf2.score(X_test, y_test)\n",
        "print (\"Accuracy of the model is : \",end=\"\") \n",
        "print (\"{0:.4f}\".format(score)) "
      ],
      "execution_count": null,
      "outputs": [
        {
          "output_type": "stream",
          "text": [
            "Accuracy of the model is : 0.5161\n"
          ],
          "name": "stdout"
        }
      ]
    },
    {
      "cell_type": "code",
      "metadata": {
        "id": "EkyS33ABlHdf"
      },
      "source": [
        "y_pred = clf2.predict(X_test)"
      ],
      "execution_count": null,
      "outputs": []
    },
    {
      "cell_type": "code",
      "metadata": {
        "colab": {
          "base_uri": "https://localhost:8080/"
        },
        "id": "6HPrwz8hlI7z",
        "outputId": "17793792-a915-4845-b7be-d284ec8baef4"
      },
      "source": [
        "from sklearn.metrics import classification_report, confusion_matrix, accuracy_score\n",
        "result = confusion_matrix(y_test, y_pred)\n",
        "print(\"Confusion Matrix:\")\n",
        "print(result)\n",
        "result1 = classification_report(y_test, y_pred)\n",
        "print(\"Classification Report:\",)\n",
        "print (result1)\n",
        "result2 = accuracy_score(y_test,y_pred)\n",
        "print(\"Accuracy:\",result2)"
      ],
      "execution_count": null,
      "outputs": [
        {
          "output_type": "stream",
          "text": [
            "Confusion Matrix:\n",
            "[[103   0   0 ...   0   0   0]\n",
            " [  2  70   3 ...   1   0   0]\n",
            " [  4   0  63 ...   0   0   1]\n",
            " ...\n",
            " [  0   0   0 ...  69   0   0]\n",
            " [  4   1   1 ...   1  53   0]\n",
            " [  0   3   0 ...   0   0  69]]\n",
            "Classification Report:\n",
            "              precision    recall  f1-score   support\n",
            "\n",
            "           0       0.49      0.81      0.61       127\n",
            "           1       0.51      0.60      0.55       117\n",
            "           2       0.36      0.55      0.44       115\n",
            "           3       0.44      0.57      0.50       121\n",
            "           4       0.42      0.60      0.50       123\n",
            "           5       1.00      0.09      0.16        82\n",
            "           6       0.71      0.36      0.47       101\n",
            "           7       0.62      0.23      0.34       129\n",
            "           8       0.54      0.56      0.55       113\n",
            "           9       0.72      0.68      0.70        94\n",
            "          10       0.65      0.82      0.73       108\n",
            "          11       0.50      0.47      0.48       106\n",
            "          12       0.65      0.50      0.56       137\n",
            "          13       0.61      0.44      0.51       104\n",
            "          14       0.71      0.54      0.61       120\n",
            "          15       0.74      0.63      0.68       125\n",
            "          16       0.76      0.67      0.71       121\n",
            "          17       0.87      0.47      0.61       116\n",
            "          18       0.49      0.78      0.61       123\n",
            "          19       0.72      0.53      0.61       122\n",
            "          20       0.33      0.59      0.43       108\n",
            "          21       0.52      0.38      0.44       117\n",
            "          22       0.53      0.57      0.55       124\n",
            "          23       0.45      0.42      0.44       116\n",
            "          24       0.34      0.39      0.37       122\n",
            "          25       0.28      0.46      0.34       116\n",
            "          26       0.58      0.29      0.39       126\n",
            "          27       0.61      0.48      0.54       121\n",
            "          28       0.43      0.51      0.47       115\n",
            "          29       0.44      0.69      0.54       135\n",
            "          30       0.37      0.49      0.42       129\n",
            "          31       0.39      0.27      0.32       122\n",
            "          32       0.34      0.19      0.25       120\n",
            "          33       0.52      0.65      0.58       104\n",
            "          34       0.42      0.57      0.48       115\n",
            "          35       0.78      0.52      0.62       116\n",
            "          36       0.71      0.68      0.70       118\n",
            "          37       0.48      0.45      0.46       132\n",
            "          38       0.76      0.58      0.66       119\n",
            "          39       0.57      0.44      0.50       121\n",
            "          40       0.53      0.55      0.54       125\n",
            "\n",
            "    accuracy                           0.52      4825\n",
            "   macro avg       0.56      0.51      0.51      4825\n",
            "weighted avg       0.55      0.52      0.51      4825\n",
            "\n",
            "Accuracy: 0.5160621761658031\n"
          ],
          "name": "stdout"
        }
      ]
    },
    {
      "cell_type": "code",
      "metadata": {
        "id": "hR6Fk8W942Zb",
        "colab": {
          "base_uri": "https://localhost:8080/"
        },
        "outputId": "dbc77f51-84b1-4f8e-d5d0-480bea687f26"
      },
      "source": [
        "from sklearn.ensemble import RandomForestClassifier #load the model \n",
        "clf3 = RandomForestClassifier()\n",
        "clf3.fit(X_train, y_train) #fit the model \n",
        "score = clf3.score(X_test, y_test)\n",
        "print (\"Accuracy of the model is : \",end=\"\") \n",
        "print (\"{0:.4f}\".format(score)) "
      ],
      "execution_count": null,
      "outputs": [
        {
          "output_type": "stream",
          "text": [
            "Accuracy of the model is : 0.4528\n"
          ],
          "name": "stdout"
        }
      ]
    },
    {
      "cell_type": "code",
      "metadata": {
        "id": "LI5n-DCfr7AD"
      },
      "source": [
        "y_pred = clf3.predict(X_test)"
      ],
      "execution_count": null,
      "outputs": []
    },
    {
      "cell_type": "code",
      "metadata": {
        "id": "GyXCJxQqCOV0",
        "colab": {
          "base_uri": "https://localhost:8080/"
        },
        "outputId": "a4b044ab-f2cd-4612-ed28-5e97c634aaf5"
      },
      "source": [
        "from sklearn.metrics import classification_report, confusion_matrix, accuracy_score\n",
        "result = confusion_matrix(y_test, y_pred)\n",
        "print(\"Confusion Matrix:\")\n",
        "print(result)\n",
        "result1 = classification_report(y_test, y_pred)\n",
        "print(\"Classification Report:\",)\n",
        "print (result1)\n",
        "result2 = accuracy_score(y_test,y_pred)\n",
        "print(\"Accuracy:\",result2)"
      ],
      "execution_count": null,
      "outputs": [
        {
          "output_type": "stream",
          "text": [
            "Confusion Matrix:\n",
            "[[92  0  1 ...  0  0  1]\n",
            " [ 3 61  4 ...  0  0  3]\n",
            " [ 7  2 36 ...  0  0  2]\n",
            " ...\n",
            " [ 0  0  0 ... 64  0  0]\n",
            " [10  3  2 ...  0 46  0]\n",
            " [ 0  7  0 ...  0  1 72]]\n",
            "Classification Report:\n",
            "              precision    recall  f1-score   support\n",
            "\n",
            "           0       0.39      0.72      0.51       127\n",
            "           1       0.31      0.52      0.39       117\n",
            "           2       0.37      0.31      0.34       115\n",
            "           3       0.39      0.22      0.28       121\n",
            "           4       0.42      0.49      0.45       123\n",
            "           5       0.34      0.17      0.23        82\n",
            "           6       0.44      0.35      0.39       101\n",
            "           7       0.41      0.37      0.39       129\n",
            "           8       0.32      0.59      0.42       113\n",
            "           9       0.74      0.68      0.71        94\n",
            "          10       0.47      0.79      0.59       108\n",
            "          11       0.44      0.42      0.43       106\n",
            "          12       0.54      0.47      0.50       137\n",
            "          13       0.44      0.35      0.39       104\n",
            "          14       0.59      0.56      0.58       120\n",
            "          15       0.58      0.58      0.58       125\n",
            "          16       0.62      0.54      0.58       121\n",
            "          17       0.84      0.41      0.55       116\n",
            "          18       0.48      0.75      0.59       123\n",
            "          19       0.53      0.57      0.55       122\n",
            "          20       0.45      0.49      0.47       108\n",
            "          21       0.37      0.14      0.20       117\n",
            "          22       0.49      0.57      0.53       124\n",
            "          23       0.50      0.45      0.47       116\n",
            "          24       0.35      0.33      0.34       122\n",
            "          25       0.21      0.31      0.25       116\n",
            "          26       0.43      0.28      0.34       126\n",
            "          27       0.48      0.41      0.44       121\n",
            "          28       0.40      0.38      0.39       115\n",
            "          29       0.41      0.39      0.40       135\n",
            "          30       0.30      0.19      0.23       129\n",
            "          31       0.24      0.39      0.29       122\n",
            "          32       0.42      0.23      0.30       120\n",
            "          33       0.52      0.47      0.49       104\n",
            "          34       0.38      0.51      0.44       115\n",
            "          35       0.77      0.53      0.63       116\n",
            "          36       0.79      0.69      0.74       118\n",
            "          37       0.51      0.43      0.47       132\n",
            "          38       0.70      0.54      0.61       119\n",
            "          39       0.55      0.38      0.45       121\n",
            "          40       0.44      0.58      0.50       125\n",
            "\n",
            "    accuracy                           0.45      4825\n",
            "   macro avg       0.47      0.45      0.45      4825\n",
            "weighted avg       0.47      0.45      0.45      4825\n",
            "\n",
            "Accuracy: 0.45284974093264246\n"
          ],
          "name": "stdout"
        }
      ]
    }
  ]
}