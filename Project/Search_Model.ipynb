{
  "nbformat": 4,
  "nbformat_minor": 0,
  "metadata": {
    "colab": {
      "name": "Search_Model.ipynb",
      "provenance": []
    },
    "kernelspec": {
      "name": "python3",
      "display_name": "Python 3"
    }
  },
  "cells": [
    {
      "cell_type": "markdown",
      "metadata": {
        "id": "OgvZ6kgXgOE3"
      },
      "source": [
        "Import required libraries"
      ]
    },
    {
      "cell_type": "code",
      "metadata": {
        "id": "95pvdNtfWDBS",
        "colab": {
          "base_uri": "https://localhost:8080/"
        },
        "outputId": "f54ad9ae-b4f2-460e-b303-57f169593107"
      },
      "source": [
        "import pandas as pd\n",
        "import numpy as np\n",
        "\n",
        "import re\n",
        "import nltk\n",
        "nltk.download('popular')\n",
        "from nltk import word_tokenize\n",
        "from nltk import WordNetLemmatizer\n",
        "from nltk.corpus import stopwords\n",
        "from sklearn.model_selection import train_test_split\n",
        "\n",
        "from keras.layers import Activation, Dense, Input, Subtract, Dropout\n",
        "from keras.models import Model, Sequential\n",
        "from keras.callbacks import EarlyStopping, TensorBoard"
      ],
      "execution_count": null,
      "outputs": [
        {
          "output_type": "stream",
          "text": [
            "[nltk_data] Downloading collection 'popular'\n",
            "[nltk_data]    | \n",
            "[nltk_data]    | Downloading package cmudict to /root/nltk_data...\n",
            "[nltk_data]    |   Package cmudict is already up-to-date!\n",
            "[nltk_data]    | Downloading package gazetteers to /root/nltk_data...\n",
            "[nltk_data]    |   Package gazetteers is already up-to-date!\n",
            "[nltk_data]    | Downloading package genesis to /root/nltk_data...\n",
            "[nltk_data]    |   Package genesis is already up-to-date!\n",
            "[nltk_data]    | Downloading package gutenberg to /root/nltk_data...\n",
            "[nltk_data]    |   Package gutenberg is already up-to-date!\n",
            "[nltk_data]    | Downloading package inaugural to /root/nltk_data...\n",
            "[nltk_data]    |   Package inaugural is already up-to-date!\n",
            "[nltk_data]    | Downloading package movie_reviews to\n",
            "[nltk_data]    |     /root/nltk_data...\n",
            "[nltk_data]    |   Package movie_reviews is already up-to-date!\n",
            "[nltk_data]    | Downloading package names to /root/nltk_data...\n",
            "[nltk_data]    |   Package names is already up-to-date!\n",
            "[nltk_data]    | Downloading package shakespeare to /root/nltk_data...\n",
            "[nltk_data]    |   Package shakespeare is already up-to-date!\n",
            "[nltk_data]    | Downloading package stopwords to /root/nltk_data...\n",
            "[nltk_data]    |   Package stopwords is already up-to-date!\n",
            "[nltk_data]    | Downloading package treebank to /root/nltk_data...\n",
            "[nltk_data]    |   Package treebank is already up-to-date!\n",
            "[nltk_data]    | Downloading package twitter_samples to\n",
            "[nltk_data]    |     /root/nltk_data...\n",
            "[nltk_data]    |   Package twitter_samples is already up-to-date!\n",
            "[nltk_data]    | Downloading package omw to /root/nltk_data...\n",
            "[nltk_data]    |   Package omw is already up-to-date!\n",
            "[nltk_data]    | Downloading package wordnet to /root/nltk_data...\n",
            "[nltk_data]    |   Package wordnet is already up-to-date!\n",
            "[nltk_data]    | Downloading package wordnet_ic to /root/nltk_data...\n",
            "[nltk_data]    |   Package wordnet_ic is already up-to-date!\n",
            "[nltk_data]    | Downloading package words to /root/nltk_data...\n",
            "[nltk_data]    |   Package words is already up-to-date!\n",
            "[nltk_data]    | Downloading package maxent_ne_chunker to\n",
            "[nltk_data]    |     /root/nltk_data...\n",
            "[nltk_data]    |   Package maxent_ne_chunker is already up-to-date!\n",
            "[nltk_data]    | Downloading package punkt to /root/nltk_data...\n",
            "[nltk_data]    |   Package punkt is already up-to-date!\n",
            "[nltk_data]    | Downloading package snowball_data to\n",
            "[nltk_data]    |     /root/nltk_data...\n",
            "[nltk_data]    |   Package snowball_data is already up-to-date!\n",
            "[nltk_data]    | Downloading package averaged_perceptron_tagger to\n",
            "[nltk_data]    |     /root/nltk_data...\n",
            "[nltk_data]    |   Package averaged_perceptron_tagger is already up-\n",
            "[nltk_data]    |       to-date!\n",
            "[nltk_data]    | \n",
            "[nltk_data]  Done downloading collection popular\n"
          ],
          "name": "stdout"
        }
      ]
    },
    {
      "cell_type": "markdown",
      "metadata": {
        "id": "wAcTrK-TgXVL"
      },
      "source": [
        "Import Huffington Post dataset with keywords added from prior step of all articles with their category, link, date of publication and the list of associated key phrases"
      ]
    },
    {
      "cell_type": "code",
      "metadata": {
        "id": "7XSlu9lUWNOB",
        "colab": {
          "base_uri": "https://localhost:8080/",
          "height": 202
        },
        "outputId": "7a7db15d-6a40-49b9-bfc2-31b184903f48"
      },
      "source": [
        "df = pd.read_csv('/content/News_Category.csv', converters={'key_words': eval})\n",
        "df.drop(axis=1, labels=['headline', 'authors','short_description'], inplace=True)\n",
        "df.head(5)"
      ],
      "execution_count": null,
      "outputs": [
        {
          "output_type": "execute_result",
          "data": {
            "text/html": [
              "<div>\n",
              "<style scoped>\n",
              "    .dataframe tbody tr th:only-of-type {\n",
              "        vertical-align: middle;\n",
              "    }\n",
              "\n",
              "    .dataframe tbody tr th {\n",
              "        vertical-align: top;\n",
              "    }\n",
              "\n",
              "    .dataframe thead th {\n",
              "        text-align: right;\n",
              "    }\n",
              "</style>\n",
              "<table border=\"1\" class=\"dataframe\">\n",
              "  <thead>\n",
              "    <tr style=\"text-align: right;\">\n",
              "      <th></th>\n",
              "      <th>category</th>\n",
              "      <th>link</th>\n",
              "      <th>date</th>\n",
              "      <th>key_words</th>\n",
              "    </tr>\n",
              "  </thead>\n",
              "  <tbody>\n",
              "    <tr>\n",
              "      <th>0</th>\n",
              "      <td>CRIME</td>\n",
              "      <td>https://www.huffingtonpost.com/entry/troy-new-...</td>\n",
              "      <td>2017-12-26</td>\n",
              "      <td>[dewolf also told news 10 abc reporter lauren ...</td>\n",
              "    </tr>\n",
              "    <tr>\n",
              "      <th>1</th>\n",
              "      <td>CRIME</td>\n",
              "      <td>https://www.huffingtonpost.com/entry/native-am...</td>\n",
              "      <td>2017-11-17</td>\n",
              "      <td>[american civil liberties union attorney claud...</td>\n",
              "    </tr>\n",
              "    <tr>\n",
              "      <th>2</th>\n",
              "      <td>CRIME</td>\n",
              "      <td>https://www.huffingtonpost.com/entry/hostage-s...</td>\n",
              "      <td>2017-01-10</td>\n",
              "      <td>[tuscaloosa police department spokeswoman teen...</td>\n",
              "    </tr>\n",
              "    <tr>\n",
              "      <th>3</th>\n",
              "      <td>CRIME</td>\n",
              "      <td>https://www.huffingtonpost.com/entry/cocaine-c...</td>\n",
              "      <td>2015-09-04</td>\n",
              "      <td>[crime]</td>\n",
              "    </tr>\n",
              "    <tr>\n",
              "      <th>4</th>\n",
              "      <td>CRIME</td>\n",
              "      <td>https://www.huffingtonpost.com/entry/massachus...</td>\n",
              "      <td>2016-05-23</td>\n",
              "      <td>[local television news outlets showed dozens, ...</td>\n",
              "    </tr>\n",
              "  </tbody>\n",
              "</table>\n",
              "</div>"
            ],
            "text/plain": [
              "  category  ...                                          key_words\n",
              "0    CRIME  ...  [dewolf also told news 10 abc reporter lauren ...\n",
              "1    CRIME  ...  [american civil liberties union attorney claud...\n",
              "2    CRIME  ...  [tuscaloosa police department spokeswoman teen...\n",
              "3    CRIME  ...                                            [crime]\n",
              "4    CRIME  ...  [local television news outlets showed dozens, ...\n",
              "\n",
              "[5 rows x 4 columns]"
            ]
          },
          "metadata": {
            "tags": []
          },
          "execution_count": 2
        }
      ]
    },
    {
      "cell_type": "markdown",
      "metadata": {
        "id": "H5W7VlvmlOya"
      },
      "source": [
        "Producing a list of stop words to remove from keywords list with punctuation and white spaces removed"
      ]
    },
    {
      "cell_type": "code",
      "metadata": {
        "id": "1TVc5LnUHeai"
      },
      "source": [
        "stopwords = stopwords.words(\"english\")\n",
        "for i in range(0, len(stopwords)):\n",
        "  stopwords[i] = re.sub(\"[^\\w\\s]\", \"\", stopwords[i])"
      ],
      "execution_count": null,
      "outputs": []
    },
    {
      "cell_type": "markdown",
      "metadata": {
        "id": "0ErjLwS0lg-H"
      },
      "source": [
        "Creating sets of ages of articles from publication date, word counts of keyword phrases list of all phrases, count of keyword phrases and appending them to the dataset for each respective article. Also creating an inverse index on each word occuring in the keywords list. Each word is a key in a dictionary with the values being dictionaries with keys of the article that the word appears in and the values of that dictionary being a list of positions the word appears in the keywords list for each article. This allows the articles containing a specific word from a query to be found quickly to make a list of all related articles to the query. "
      ]
    },
    {
      "cell_type": "code",
      "metadata": {
        "id": "oY6vZoSUN0IP",
        "colab": {
          "base_uri": "https://localhost:8080/",
          "height": 202
        },
        "outputId": "90d7b544-b380-44af-e19d-21ead006f169"
      },
      "source": [
        "ages = []\n",
        "word_count = []\n",
        "phrase_count = []\n",
        "lemma = WordNetLemmatizer()\n",
        "inverted_index = {}\n",
        "for doc in range(0, len(df.key_words)):\n",
        "  ages.append(2020 - int(df.date[doc][0:4]))\n",
        "  phrase_count.append(len(df.key_words[doc]))\n",
        "  keywords = \" \".join(df.key_words[doc]).lower()\n",
        "  words = word_tokenize(re.sub(\"[^\\w\\s]\", \"\", keywords))\n",
        "  word_count.append(len(words))\n",
        "  for pos in range(0, len(words)):\n",
        "    if words[pos] not in stopwords and words[pos].isalpha():\n",
        "      word = lemma.lemmatize(words[pos])\n",
        "      if inverted_index.get(word) is None:\n",
        "        doc_dict = {}\n",
        "        doc_dict[doc] = [pos]\n",
        "        inverted_index[word] = doc_dict\n",
        "      else:\n",
        "        if inverted_index[word].get(doc) is None:\n",
        "          inverted_index[word][doc] = [pos]\n",
        "        else:\n",
        "          pos_list = inverted_index[word][doc]\n",
        "          pos_list.append(pos)\n",
        "          inverted_index[word][doc] = pos_list\n",
        "          \n",
        "df[\"ages\"] = ages\n",
        "df[\"key_word_count\"] = word_count\n",
        "df[\"key_phase_count\"] = phrase_count\n",
        "df.head(5)"
      ],
      "execution_count": null,
      "outputs": [
        {
          "output_type": "execute_result",
          "data": {
            "text/html": [
              "<div>\n",
              "<style scoped>\n",
              "    .dataframe tbody tr th:only-of-type {\n",
              "        vertical-align: middle;\n",
              "    }\n",
              "\n",
              "    .dataframe tbody tr th {\n",
              "        vertical-align: top;\n",
              "    }\n",
              "\n",
              "    .dataframe thead th {\n",
              "        text-align: right;\n",
              "    }\n",
              "</style>\n",
              "<table border=\"1\" class=\"dataframe\">\n",
              "  <thead>\n",
              "    <tr style=\"text-align: right;\">\n",
              "      <th></th>\n",
              "      <th>category</th>\n",
              "      <th>link</th>\n",
              "      <th>date</th>\n",
              "      <th>key_words</th>\n",
              "      <th>ages</th>\n",
              "      <th>key_word_count</th>\n",
              "      <th>key_phase_count</th>\n",
              "    </tr>\n",
              "  </thead>\n",
              "  <tbody>\n",
              "    <tr>\n",
              "      <th>0</th>\n",
              "      <td>CRIME</td>\n",
              "      <td>https://www.huffingtonpost.com/entry/troy-new-...</td>\n",
              "      <td>2017-12-26</td>\n",
              "      <td>[dewolf also told news 10 abc reporter lauren ...</td>\n",
              "      <td>3</td>\n",
              "      <td>76</td>\n",
              "      <td>20</td>\n",
              "    </tr>\n",
              "    <tr>\n",
              "      <th>1</th>\n",
              "      <td>CRIME</td>\n",
              "      <td>https://www.huffingtonpost.com/entry/native-am...</td>\n",
              "      <td>2017-11-17</td>\n",
              "      <td>[american civil liberties union attorney claud...</td>\n",
              "      <td>3</td>\n",
              "      <td>90</td>\n",
              "      <td>20</td>\n",
              "    </tr>\n",
              "    <tr>\n",
              "      <th>2</th>\n",
              "      <td>CRIME</td>\n",
              "      <td>https://www.huffingtonpost.com/entry/hostage-s...</td>\n",
              "      <td>2017-01-10</td>\n",
              "      <td>[tuscaloosa police department spokeswoman teen...</td>\n",
              "      <td>3</td>\n",
              "      <td>51</td>\n",
              "      <td>20</td>\n",
              "    </tr>\n",
              "    <tr>\n",
              "      <th>3</th>\n",
              "      <td>CRIME</td>\n",
              "      <td>https://www.huffingtonpost.com/entry/cocaine-c...</td>\n",
              "      <td>2015-09-04</td>\n",
              "      <td>[crime]</td>\n",
              "      <td>5</td>\n",
              "      <td>1</td>\n",
              "      <td>1</td>\n",
              "    </tr>\n",
              "    <tr>\n",
              "      <th>4</th>\n",
              "      <td>CRIME</td>\n",
              "      <td>https://www.huffingtonpost.com/entry/massachus...</td>\n",
              "      <td>2016-05-23</td>\n",
              "      <td>[local television news outlets showed dozens, ...</td>\n",
              "      <td>4</td>\n",
              "      <td>65</td>\n",
              "      <td>20</td>\n",
              "    </tr>\n",
              "  </tbody>\n",
              "</table>\n",
              "</div>"
            ],
            "text/plain": [
              "  category  ... key_phase_count\n",
              "0    CRIME  ...              20\n",
              "1    CRIME  ...              20\n",
              "2    CRIME  ...              20\n",
              "3    CRIME  ...               1\n",
              "4    CRIME  ...              20\n",
              "\n",
              "[5 rows x 7 columns]"
            ]
          },
          "metadata": {
            "tags": []
          },
          "execution_count": 4
        }
      ]
    },
    {
      "cell_type": "markdown",
      "metadata": {
        "id": "pC9SQzyqnD4X"
      },
      "source": [
        "This function takes in a list of words in a user entered query and forms a dictionary of all articles containing a word from the query and its associated count of occurrences of words in the query also contained in the article by using the inverted index from the previous step. It is also determining the amount of similarity of the query to the words occurring in the keyword phrases for each article. For example, if the query was \"Black Lives Matters\" and a phrase in the keywords is also \"Black Lives Matters\" then there is 100% match in addition this would be increment the complete match count that is also being collected. If this phrase occurs multiple times, then the complete count would be incremented for each time there is a complete match. If the keyword phrases only matches to \"Days of Our Lives\", there would only be a 33% match and the complete count would not be increased. The dictionary of related articles is then sorted by the amount of occurences of words in each article and all three of these counts are returned."
      ]
    },
    {
      "cell_type": "code",
      "metadata": {
        "id": "3c1BPzKZU_Ml"
      },
      "source": [
        "def run_search(search):\n",
        "  results = {}\n",
        "  positions = {}\n",
        "  for word in search:\n",
        "    if inverted_index.get(word) is not None:\n",
        "      for doc in inverted_index[word]:\n",
        "        if doc not in results:\n",
        "          results[doc] = len(inverted_index[word][doc])\n",
        "          positions[doc] = [inverted_index[word][doc]]\n",
        "        else:\n",
        "          results[doc] = results[doc] + len(inverted_index[word][doc])\n",
        "          positions[doc].append(inverted_index[word][doc])\n",
        "\n",
        "  p_match = {}\n",
        "  complete ={}\n",
        "  search_len = len(search)\n",
        "  for key in positions:\n",
        "    position_len = len(positions[key])\n",
        "    p_match[key] = position_len / search_len\n",
        "    if search_len > 1:\n",
        "      if position_len == search_len:\n",
        "        complete_count = 0\n",
        "        for pos in positions[key][0]:\n",
        "          complete_match = True\n",
        "          for i in range(1, position_len):\n",
        "            if (pos + i) not in positions[key][i]:\n",
        "              complete_match = False\n",
        "              break\n",
        "          complete_count += 1 if complete_match else 0\n",
        "        complete[key] = complete_count\n",
        "      else:\n",
        "        complete[key] = 0\n",
        "  sorted_results = sorted(results.items(), key=lambda item: item[1], reverse=True)\n",
        "  complete_matches = complete if len(search) > 1 else p_match\n",
        "  return ((sorted_results, p_match), complete_matches)"
      ],
      "execution_count": null,
      "outputs": []
    },
    {
      "cell_type": "markdown",
      "metadata": {
        "id": "92k-2d2rqDAl"
      },
      "source": [
        "The next step is to import a dataset of previous query results to train the search engine model. The dataset contains the id, text and word count of the query; id, phrase count, article age and word count for the associated article; and the match rating, term frequency and complete match count for that article and query pairing. The match rating is how well the article reflected a desirable result to the query. An article that would be expected to be at the top of a search for a query will receive a score of 3-4 where as an unrelated article will get a 0. The match rating is used to determine the y for the model whereas the other data are all features."
      ]
    },
    {
      "cell_type": "code",
      "metadata": {
        "id": "mulrNNI5PiaS",
        "colab": {
          "base_uri": "https://localhost:8080/",
          "height": 416
        },
        "outputId": "9aa76966-c530-4157-a3cc-06859018ab3b"
      },
      "source": [
        "rank_data = pd.read_csv('/content/results_ranks.csv')\n",
        "rank_data"
      ],
      "execution_count": null,
      "outputs": [
        {
          "output_type": "execute_result",
          "data": {
            "text/html": [
              "<div>\n",
              "<style scoped>\n",
              "    .dataframe tbody tr th:only-of-type {\n",
              "        vertical-align: middle;\n",
              "    }\n",
              "\n",
              "    .dataframe tbody tr th {\n",
              "        vertical-align: top;\n",
              "    }\n",
              "\n",
              "    .dataframe thead th {\n",
              "        text-align: right;\n",
              "    }\n",
              "</style>\n",
              "<table border=\"1\" class=\"dataframe\">\n",
              "  <thead>\n",
              "    <tr style=\"text-align: right;\">\n",
              "      <th></th>\n",
              "      <th>qid</th>\n",
              "      <th>query</th>\n",
              "      <th>doc_id</th>\n",
              "      <th>rating</th>\n",
              "      <th>tf</th>\n",
              "      <th>p_match</th>\n",
              "      <th>complete_count</th>\n",
              "      <th>key_size</th>\n",
              "      <th>phrase_count</th>\n",
              "      <th>search_size</th>\n",
              "      <th>doc_age</th>\n",
              "    </tr>\n",
              "  </thead>\n",
              "  <tbody>\n",
              "    <tr>\n",
              "      <th>0</th>\n",
              "      <td>1</td>\n",
              "      <td>Trumps tax returns</td>\n",
              "      <td>2371</td>\n",
              "      <td>2</td>\n",
              "      <td>11</td>\n",
              "      <td>0.333333</td>\n",
              "      <td>0</td>\n",
              "      <td>79</td>\n",
              "      <td>20</td>\n",
              "      <td>3</td>\n",
              "      <td>4</td>\n",
              "    </tr>\n",
              "    <tr>\n",
              "      <th>1</th>\n",
              "      <td>1</td>\n",
              "      <td>Trumps tax returns</td>\n",
              "      <td>5481</td>\n",
              "      <td>2</td>\n",
              "      <td>10</td>\n",
              "      <td>0.666667</td>\n",
              "      <td>0</td>\n",
              "      <td>69</td>\n",
              "      <td>20</td>\n",
              "      <td>3</td>\n",
              "      <td>4</td>\n",
              "    </tr>\n",
              "    <tr>\n",
              "      <th>2</th>\n",
              "      <td>1</td>\n",
              "      <td>Trumps tax returns</td>\n",
              "      <td>4324</td>\n",
              "      <td>2</td>\n",
              "      <td>9</td>\n",
              "      <td>0.333333</td>\n",
              "      <td>0</td>\n",
              "      <td>69</td>\n",
              "      <td>20</td>\n",
              "      <td>3</td>\n",
              "      <td>5</td>\n",
              "    </tr>\n",
              "    <tr>\n",
              "      <th>3</th>\n",
              "      <td>1</td>\n",
              "      <td>Trumps tax returns</td>\n",
              "      <td>2271</td>\n",
              "      <td>3</td>\n",
              "      <td>8</td>\n",
              "      <td>0.666667</td>\n",
              "      <td>0</td>\n",
              "      <td>52</td>\n",
              "      <td>20</td>\n",
              "      <td>3</td>\n",
              "      <td>3</td>\n",
              "    </tr>\n",
              "    <tr>\n",
              "      <th>4</th>\n",
              "      <td>1</td>\n",
              "      <td>Trumps tax returns</td>\n",
              "      <td>6437</td>\n",
              "      <td>2</td>\n",
              "      <td>8</td>\n",
              "      <td>0.333333</td>\n",
              "      <td>0</td>\n",
              "      <td>85</td>\n",
              "      <td>20</td>\n",
              "      <td>3</td>\n",
              "      <td>4</td>\n",
              "    </tr>\n",
              "    <tr>\n",
              "      <th>...</th>\n",
              "      <td>...</td>\n",
              "      <td>...</td>\n",
              "      <td>...</td>\n",
              "      <td>...</td>\n",
              "      <td>...</td>\n",
              "      <td>...</td>\n",
              "      <td>...</td>\n",
              "      <td>...</td>\n",
              "      <td>...</td>\n",
              "      <td>...</td>\n",
              "      <td>...</td>\n",
              "    </tr>\n",
              "    <tr>\n",
              "      <th>175</th>\n",
              "      <td>9</td>\n",
              "      <td>walmart gift cards</td>\n",
              "      <td>8895</td>\n",
              "      <td>0</td>\n",
              "      <td>4</td>\n",
              "      <td>0.333333</td>\n",
              "      <td>0</td>\n",
              "      <td>65</td>\n",
              "      <td>20</td>\n",
              "      <td>3</td>\n",
              "      <td>3</td>\n",
              "    </tr>\n",
              "    <tr>\n",
              "      <th>176</th>\n",
              "      <td>9</td>\n",
              "      <td>walmart gift cards</td>\n",
              "      <td>6083</td>\n",
              "      <td>0</td>\n",
              "      <td>2</td>\n",
              "      <td>0.333333</td>\n",
              "      <td>0</td>\n",
              "      <td>54</td>\n",
              "      <td>20</td>\n",
              "      <td>3</td>\n",
              "      <td>3</td>\n",
              "    </tr>\n",
              "    <tr>\n",
              "      <th>177</th>\n",
              "      <td>9</td>\n",
              "      <td>walmart gift cards</td>\n",
              "      <td>2906</td>\n",
              "      <td>0</td>\n",
              "      <td>2</td>\n",
              "      <td>0.333333</td>\n",
              "      <td>0</td>\n",
              "      <td>54</td>\n",
              "      <td>20</td>\n",
              "      <td>3</td>\n",
              "      <td>3</td>\n",
              "    </tr>\n",
              "    <tr>\n",
              "      <th>178</th>\n",
              "      <td>9</td>\n",
              "      <td>walmart gift cards</td>\n",
              "      <td>17892</td>\n",
              "      <td>3</td>\n",
              "      <td>2</td>\n",
              "      <td>0.666667</td>\n",
              "      <td>0</td>\n",
              "      <td>8</td>\n",
              "      <td>3</td>\n",
              "      <td>3</td>\n",
              "      <td>7</td>\n",
              "    </tr>\n",
              "    <tr>\n",
              "      <th>179</th>\n",
              "      <td>9</td>\n",
              "      <td>walmart gift cards</td>\n",
              "      <td>2473</td>\n",
              "      <td>2</td>\n",
              "      <td>2</td>\n",
              "      <td>0.666667</td>\n",
              "      <td>0</td>\n",
              "      <td>65</td>\n",
              "      <td>20</td>\n",
              "      <td>3</td>\n",
              "      <td>2</td>\n",
              "    </tr>\n",
              "  </tbody>\n",
              "</table>\n",
              "<p>180 rows × 11 columns</p>\n",
              "</div>"
            ],
            "text/plain": [
              "     qid               query  doc_id  ...  phrase_count  search_size  doc_age\n",
              "0      1  Trumps tax returns    2371  ...            20            3        4\n",
              "1      1  Trumps tax returns    5481  ...            20            3        4\n",
              "2      1  Trumps tax returns    4324  ...            20            3        5\n",
              "3      1  Trumps tax returns    2271  ...            20            3        3\n",
              "4      1  Trumps tax returns    6437  ...            20            3        4\n",
              "..   ...                 ...     ...  ...           ...          ...      ...\n",
              "175    9  walmart gift cards    8895  ...            20            3        3\n",
              "176    9  walmart gift cards    6083  ...            20            3        3\n",
              "177    9  walmart gift cards    2906  ...            20            3        3\n",
              "178    9  walmart gift cards   17892  ...             3            3        7\n",
              "179    9  walmart gift cards    2473  ...            20            3        2\n",
              "\n",
              "[180 rows x 11 columns]"
            ]
          },
          "metadata": {
            "tags": []
          },
          "execution_count": 6
        }
      ]
    },
    {
      "cell_type": "markdown",
      "metadata": {
        "id": "tSQkgiheu9av"
      },
      "source": [
        "Next I randomly split the data in half to create pairings since the model requires pairing to train. The model gives a relative comparison of 2 query results to determine how much more a result should be ranked higher in a list of results than another."
      ]
    },
    {
      "cell_type": "code",
      "metadata": {
        "id": "8-JxjU1pRUSS",
        "colab": {
          "base_uri": "https://localhost:8080/"
        },
        "outputId": "ecc4a98e-6597-4767-acd7-990479b9fd51"
      },
      "source": [
        "ranking1, ranking2 = train_test_split(rank_data, test_size=0.5)\n",
        "ranking1.shape, ranking2.shape"
      ],
      "execution_count": null,
      "outputs": [
        {
          "output_type": "execute_result",
          "data": {
            "text/plain": [
              "((90, 11), (90, 11))"
            ]
          },
          "metadata": {
            "tags": []
          },
          "execution_count": 7
        }
      ]
    },
    {
      "cell_type": "markdown",
      "metadata": {
        "id": "519YBW4PvNVt"
      },
      "source": [
        "Then we find the difference between each pairing's match rating to provide a y to the model."
      ]
    },
    {
      "cell_type": "code",
      "metadata": {
        "id": "hECXuqNRZfrT",
        "colab": {
          "base_uri": "https://localhost:8080/",
          "height": 294
        },
        "outputId": "a8e1df62-de2a-4e2a-b992-c9d405607ac7"
      },
      "source": [
        "rank_diff = {\"diff\": []}\n",
        "for i in range(0, len(ranking1.rating)):\n",
        "  rank_diff[\"diff\"].append(ranking1.iloc[i].rating - ranking2.iloc[i].rating)\n",
        "\n",
        "rank_diff_data = pd.DataFrame(rank_diff, columns=rank_diff.keys())\n",
        "rank_diff_data.describe()"
      ],
      "execution_count": null,
      "outputs": [
        {
          "output_type": "execute_result",
          "data": {
            "text/html": [
              "<div>\n",
              "<style scoped>\n",
              "    .dataframe tbody tr th:only-of-type {\n",
              "        vertical-align: middle;\n",
              "    }\n",
              "\n",
              "    .dataframe tbody tr th {\n",
              "        vertical-align: top;\n",
              "    }\n",
              "\n",
              "    .dataframe thead th {\n",
              "        text-align: right;\n",
              "    }\n",
              "</style>\n",
              "<table border=\"1\" class=\"dataframe\">\n",
              "  <thead>\n",
              "    <tr style=\"text-align: right;\">\n",
              "      <th></th>\n",
              "      <th>diff</th>\n",
              "    </tr>\n",
              "  </thead>\n",
              "  <tbody>\n",
              "    <tr>\n",
              "      <th>count</th>\n",
              "      <td>90.000000</td>\n",
              "    </tr>\n",
              "    <tr>\n",
              "      <th>mean</th>\n",
              "      <td>0.333333</td>\n",
              "    </tr>\n",
              "    <tr>\n",
              "      <th>std</th>\n",
              "      <td>1.854239</td>\n",
              "    </tr>\n",
              "    <tr>\n",
              "      <th>min</th>\n",
              "      <td>-4.000000</td>\n",
              "    </tr>\n",
              "    <tr>\n",
              "      <th>25%</th>\n",
              "      <td>-1.000000</td>\n",
              "    </tr>\n",
              "    <tr>\n",
              "      <th>50%</th>\n",
              "      <td>0.000000</td>\n",
              "    </tr>\n",
              "    <tr>\n",
              "      <th>75%</th>\n",
              "      <td>2.000000</td>\n",
              "    </tr>\n",
              "    <tr>\n",
              "      <th>max</th>\n",
              "      <td>4.000000</td>\n",
              "    </tr>\n",
              "  </tbody>\n",
              "</table>\n",
              "</div>"
            ],
            "text/plain": [
              "            diff\n",
              "count  90.000000\n",
              "mean    0.333333\n",
              "std     1.854239\n",
              "min    -4.000000\n",
              "25%    -1.000000\n",
              "50%     0.000000\n",
              "75%     2.000000\n",
              "max     4.000000"
            ]
          },
          "metadata": {
            "tags": []
          },
          "execution_count": 8
        }
      ]
    },
    {
      "cell_type": "markdown",
      "metadata": {
        "id": "viMrK9q6wD3v"
      },
      "source": [
        "Next, I drop any columns that will not be used by the model for training."
      ]
    },
    {
      "cell_type": "code",
      "metadata": {
        "id": "IO1_cJ-5jtsI",
        "colab": {
          "base_uri": "https://localhost:8080/"
        },
        "outputId": "c8a28706-278b-4117-e8af-11524bd1583a"
      },
      "source": [
        "ranking1.drop(columns=['rating', 'qid', 'query', 'doc_id'], inplace=True)\n",
        "ranking2.drop(columns=['rating', 'qid', 'query', 'doc_id'], inplace=True)"
      ],
      "execution_count": null,
      "outputs": [
        {
          "output_type": "stream",
          "text": [
            "/usr/local/lib/python3.6/dist-packages/pandas/core/frame.py:4174: SettingWithCopyWarning: \n",
            "A value is trying to be set on a copy of a slice from a DataFrame\n",
            "\n",
            "See the caveats in the documentation: https://pandas.pydata.org/pandas-docs/stable/user_guide/indexing.html#returning-a-view-versus-a-copy\n",
            "  errors=errors,\n"
          ],
          "name": "stderr"
        }
      ]
    },
    {
      "cell_type": "code",
      "metadata": {
        "id": "mmtVuh1iljex",
        "colab": {
          "base_uri": "https://localhost:8080/"
        },
        "outputId": "646aa8d1-7eee-4a28-8d0f-d2f1e5b17a66"
      },
      "source": [
        "ranking1.shape, ranking2.shape, rank_diff_data.shape"
      ],
      "execution_count": null,
      "outputs": [
        {
          "output_type": "execute_result",
          "data": {
            "text/plain": [
              "((90, 7), (90, 7), (90, 1))"
            ]
          },
          "metadata": {
            "tags": []
          },
          "execution_count": 10
        }
      ]
    },
    {
      "cell_type": "markdown",
      "metadata": {
        "id": "BU29Z_azwOwL"
      },
      "source": [
        "The model is a Siamese-like model where it uses 2 neural networks to come up with a score that is then passed to another network to find the difference between the 2 networks and use a sigmoidal activation function to determine the relative ranking for the pairing."
      ]
    },
    {
      "cell_type": "code",
      "metadata": {
        "id": "DCxJQYJ-PzNM"
      },
      "source": [
        "def create_base_model(input_shape):\n",
        "  model = Sequential()\n",
        "  model.add(Dense(64, input_shape=input_shape, activation='relu'))\n",
        "  model.add(Dropout(0.1))\n",
        "  model.add(Dense(32, activation='relu'))\n",
        "  model.add(Dropout(0.1))\n",
        "  model.add(Dense(16, activation='relu'))\n",
        "  model.add(Dropout(0.1))\n",
        "  model.add(Dense(1, activation='sigmoid'))\n",
        "\n",
        "  return model"
      ],
      "execution_count": null,
      "outputs": []
    },
    {
      "cell_type": "code",
      "metadata": {
        "id": "VYbio0S8Pzgc"
      },
      "source": [
        "def create_conjoined_model(input_shape, base_model):\n",
        "  input_a = Input(shape=(input_shape[0],input_shape[1],))\n",
        "  input_b = Input(shape=(input_shape[0],input_shape[1],))\n",
        "\n",
        "  rank_diff = Subtract()([base_model(input_a), base_model(input_b)])\n",
        "  output = Activation(\"sigmoid\")(rank_diff)\n",
        "  model = Model(inputs = [input_a, input_b], outputs = output)\n",
        "  model.compile(optimizer=\"adam\", loss=\"binary_crossentropy\", metrics='accuracy')\n",
        "\n",
        "  return model"
      ],
      "execution_count": null,
      "outputs": []
    },
    {
      "cell_type": "code",
      "metadata": {
        "id": "TrCWSNq5MXAN",
        "colab": {
          "base_uri": "https://localhost:8080/"
        },
        "outputId": "92a64e9f-ad36-4838-e6f5-97af2cdf3c22"
      },
      "source": [
        "scoring_model = create_base_model(ranking1.shape)\n",
        "model = create_conjoined_model(ranking1.shape, scoring_model)\n",
        "model.summary()"
      ],
      "execution_count": null,
      "outputs": [
        {
          "output_type": "stream",
          "text": [
            "Model: \"functional_1\"\n",
            "__________________________________________________________________________________________________\n",
            "Layer (type)                    Output Shape         Param #     Connected to                     \n",
            "==================================================================================================\n",
            "input_1 (InputLayer)            [(None, 90, 7)]      0                                            \n",
            "__________________________________________________________________________________________________\n",
            "input_2 (InputLayer)            [(None, 90, 7)]      0                                            \n",
            "__________________________________________________________________________________________________\n",
            "sequential (Sequential)         (None, 90, 1)        3137        input_1[0][0]                    \n",
            "                                                                 input_2[0][0]                    \n",
            "__________________________________________________________________________________________________\n",
            "subtract (Subtract)             (None, 90, 1)        0           sequential[0][0]                 \n",
            "                                                                 sequential[1][0]                 \n",
            "__________________________________________________________________________________________________\n",
            "activation (Activation)         (None, 90, 1)        0           subtract[0][0]                   \n",
            "==================================================================================================\n",
            "Total params: 3,137\n",
            "Trainable params: 3,137\n",
            "Non-trainable params: 0\n",
            "__________________________________________________________________________________________________\n"
          ],
          "name": "stdout"
        }
      ]
    },
    {
      "cell_type": "markdown",
      "metadata": {
        "id": "nkIB4I9ow0Yq"
      },
      "source": [
        "The model trains very quickly probably due to the small dataset used in training. I have found that the model usually has the best validation accuracy around 200 epochs."
      ]
    },
    {
      "cell_type": "code",
      "metadata": {
        "id": "xrXb33NukJPR",
        "colab": {
          "base_uri": "https://localhost:8080/"
        },
        "outputId": "03d041b2-b9a2-4967-e881-d2b6dad22d45"
      },
      "source": [
        "history = model.fit([ranking1, ranking2], rank_diff_data, validation_split=0.1, epochs= 200, batch_size=10, verbose=1)"
      ],
      "execution_count": null,
      "outputs": [
        {
          "output_type": "stream",
          "text": [
            "Epoch 1/200\n",
            "WARNING:tensorflow:Model was constructed with shape (None, 90, 7) for input Tensor(\"input_1:0\", shape=(None, 90, 7), dtype=float32), but it was called on an input with incompatible shape (None, 7).\n",
            "WARNING:tensorflow:Model was constructed with shape (None, 90, 7) for input Tensor(\"input_2:0\", shape=(None, 90, 7), dtype=float32), but it was called on an input with incompatible shape (None, 7).\n",
            "WARNING:tensorflow:Model was constructed with shape (None, 90, 7) for input Tensor(\"dense_input:0\", shape=(None, 90, 7), dtype=float32), but it was called on an input with incompatible shape (None, 7).\n",
            "WARNING:tensorflow:Model was constructed with shape (None, 90, 7) for input Tensor(\"dense_input:0\", shape=(None, 90, 7), dtype=float32), but it was called on an input with incompatible shape (None, 7).\n",
            "WARNING:tensorflow:Model was constructed with shape (None, 90, 7) for input Tensor(\"input_1:0\", shape=(None, 90, 7), dtype=float32), but it was called on an input with incompatible shape (None, 7).\n",
            "WARNING:tensorflow:Model was constructed with shape (None, 90, 7) for input Tensor(\"input_2:0\", shape=(None, 90, 7), dtype=float32), but it was called on an input with incompatible shape (None, 7).\n",
            "WARNING:tensorflow:Model was constructed with shape (None, 90, 7) for input Tensor(\"dense_input:0\", shape=(None, 90, 7), dtype=float32), but it was called on an input with incompatible shape (None, 7).\n",
            "WARNING:tensorflow:Model was constructed with shape (None, 90, 7) for input Tensor(\"dense_input:0\", shape=(None, 90, 7), dtype=float32), but it was called on an input with incompatible shape (None, 7).\n",
            "1/9 [==>...........................] - ETA: 0s - loss: 0.9205 - accuracy: 0.2000WARNING:tensorflow:Model was constructed with shape (None, 90, 7) for input Tensor(\"input_1:0\", shape=(None, 90, 7), dtype=float32), but it was called on an input with incompatible shape (None, 7).\n",
            "WARNING:tensorflow:Model was constructed with shape (None, 90, 7) for input Tensor(\"input_2:0\", shape=(None, 90, 7), dtype=float32), but it was called on an input with incompatible shape (None, 7).\n",
            "WARNING:tensorflow:Model was constructed with shape (None, 90, 7) for input Tensor(\"dense_input:0\", shape=(None, 90, 7), dtype=float32), but it was called on an input with incompatible shape (None, 7).\n",
            "WARNING:tensorflow:Model was constructed with shape (None, 90, 7) for input Tensor(\"dense_input:0\", shape=(None, 90, 7), dtype=float32), but it was called on an input with incompatible shape (None, 7).\n",
            "9/9 [==============================] - 0s 27ms/step - loss: 0.7847 - accuracy: 0.2963 - val_loss: 0.7348 - val_accuracy: 0.3333\n",
            "Epoch 2/200\n",
            "9/9 [==============================] - 0s 3ms/step - loss: 0.7227 - accuracy: 0.1975 - val_loss: 0.7100 - val_accuracy: 0.3333\n",
            "Epoch 3/200\n",
            "9/9 [==============================] - 0s 3ms/step - loss: 0.7044 - accuracy: 0.2222 - val_loss: 0.7015 - val_accuracy: 0.2222\n",
            "Epoch 4/200\n",
            "9/9 [==============================] - 0s 3ms/step - loss: 0.7006 - accuracy: 0.2593 - val_loss: 0.6986 - val_accuracy: 0.3333\n",
            "Epoch 5/200\n",
            "9/9 [==============================] - 0s 3ms/step - loss: 0.6960 - accuracy: 0.2716 - val_loss: 0.6970 - val_accuracy: 0.3333\n",
            "Epoch 6/200\n",
            "9/9 [==============================] - 0s 3ms/step - loss: 0.6971 - accuracy: 0.2716 - val_loss: 0.6960 - val_accuracy: 0.3333\n",
            "Epoch 7/200\n",
            "9/9 [==============================] - 0s 3ms/step - loss: 0.7003 - accuracy: 0.2593 - val_loss: 0.6951 - val_accuracy: 0.3333\n",
            "Epoch 8/200\n",
            "9/9 [==============================] - 0s 4ms/step - loss: 0.6960 - accuracy: 0.2840 - val_loss: 0.6946 - val_accuracy: 0.3333\n",
            "Epoch 9/200\n",
            "9/9 [==============================] - 0s 4ms/step - loss: 0.6960 - accuracy: 0.2840 - val_loss: 0.6942 - val_accuracy: 0.3333\n",
            "Epoch 10/200\n",
            "9/9 [==============================] - 0s 3ms/step - loss: 0.6940 - accuracy: 0.2716 - val_loss: 0.6940 - val_accuracy: 0.3333\n",
            "Epoch 11/200\n",
            "9/9 [==============================] - 0s 3ms/step - loss: 0.6937 - accuracy: 0.2716 - val_loss: 0.6939 - val_accuracy: 0.3333\n",
            "Epoch 12/200\n",
            "9/9 [==============================] - 0s 3ms/step - loss: 0.6941 - accuracy: 0.2716 - val_loss: 0.6938 - val_accuracy: 0.3333\n",
            "Epoch 13/200\n",
            "9/9 [==============================] - 0s 4ms/step - loss: 0.6938 - accuracy: 0.2593 - val_loss: 0.6937 - val_accuracy: 0.3333\n",
            "Epoch 14/200\n",
            "9/9 [==============================] - 0s 4ms/step - loss: 0.6938 - accuracy: 0.2840 - val_loss: 0.6936 - val_accuracy: 0.3333\n",
            "Epoch 15/200\n",
            "9/9 [==============================] - 0s 3ms/step - loss: 0.6948 - accuracy: 0.2716 - val_loss: 0.6935 - val_accuracy: 0.3333\n",
            "Epoch 16/200\n",
            "9/9 [==============================] - 0s 3ms/step - loss: 0.6945 - accuracy: 0.2716 - val_loss: 0.6934 - val_accuracy: 0.3333\n",
            "Epoch 17/200\n",
            "9/9 [==============================] - 0s 3ms/step - loss: 0.6933 - accuracy: 0.2593 - val_loss: 0.6934 - val_accuracy: 0.3333\n",
            "Epoch 18/200\n",
            "9/9 [==============================] - 0s 3ms/step - loss: 0.6933 - accuracy: 0.2716 - val_loss: 0.6934 - val_accuracy: 0.3333\n",
            "Epoch 19/200\n",
            "9/9 [==============================] - 0s 3ms/step - loss: 0.6965 - accuracy: 0.2716 - val_loss: 0.6933 - val_accuracy: 0.3333\n",
            "Epoch 20/200\n",
            "9/9 [==============================] - 0s 3ms/step - loss: 0.6938 - accuracy: 0.2963 - val_loss: 0.6933 - val_accuracy: 0.3333\n",
            "Epoch 21/200\n",
            "9/9 [==============================] - 0s 3ms/step - loss: 0.6936 - accuracy: 0.2716 - val_loss: 0.6933 - val_accuracy: 0.3333\n",
            "Epoch 22/200\n",
            "9/9 [==============================] - 0s 3ms/step - loss: 0.6933 - accuracy: 0.2716 - val_loss: 0.6933 - val_accuracy: 0.3333\n",
            "Epoch 23/200\n",
            "9/9 [==============================] - 0s 4ms/step - loss: 0.6932 - accuracy: 0.2716 - val_loss: 0.6932 - val_accuracy: 0.3333\n",
            "Epoch 24/200\n",
            "9/9 [==============================] - 0s 4ms/step - loss: 0.6933 - accuracy: 0.2716 - val_loss: 0.6932 - val_accuracy: 0.3333\n",
            "Epoch 25/200\n",
            "9/9 [==============================] - 0s 3ms/step - loss: 0.6935 - accuracy: 0.2716 - val_loss: 0.6932 - val_accuracy: 0.3333\n",
            "Epoch 26/200\n",
            "9/9 [==============================] - 0s 3ms/step - loss: 0.6931 - accuracy: 0.2716 - val_loss: 0.6932 - val_accuracy: 0.3333\n",
            "Epoch 27/200\n",
            "9/9 [==============================] - 0s 3ms/step - loss: 0.6932 - accuracy: 0.2716 - val_loss: 0.6932 - val_accuracy: 0.3333\n",
            "Epoch 28/200\n",
            "9/9 [==============================] - 0s 3ms/step - loss: 0.6939 - accuracy: 0.2716 - val_loss: 0.6932 - val_accuracy: 0.3333\n",
            "Epoch 29/200\n",
            "9/9 [==============================] - 0s 4ms/step - loss: 0.6931 - accuracy: 0.2716 - val_loss: 0.6932 - val_accuracy: 0.3333\n",
            "Epoch 30/200\n",
            "9/9 [==============================] - 0s 3ms/step - loss: 0.6944 - accuracy: 0.2716 - val_loss: 0.6932 - val_accuracy: 0.3333\n",
            "Epoch 31/200\n",
            "9/9 [==============================] - 0s 3ms/step - loss: 0.6933 - accuracy: 0.2593 - val_loss: 0.6932 - val_accuracy: 0.3333\n",
            "Epoch 32/200\n",
            "9/9 [==============================] - 0s 3ms/step - loss: 0.6934 - accuracy: 0.2716 - val_loss: 0.6932 - val_accuracy: 0.3333\n",
            "Epoch 33/200\n",
            "9/9 [==============================] - 0s 4ms/step - loss: 0.6932 - accuracy: 0.2716 - val_loss: 0.6932 - val_accuracy: 0.3333\n",
            "Epoch 34/200\n",
            "9/9 [==============================] - 0s 4ms/step - loss: 0.6932 - accuracy: 0.2716 - val_loss: 0.6932 - val_accuracy: 0.3333\n",
            "Epoch 35/200\n",
            "9/9 [==============================] - 0s 4ms/step - loss: 0.6932 - accuracy: 0.2716 - val_loss: 0.6932 - val_accuracy: 0.3333\n",
            "Epoch 36/200\n",
            "9/9 [==============================] - 0s 3ms/step - loss: 0.6932 - accuracy: 0.2716 - val_loss: 0.6932 - val_accuracy: 0.3333\n",
            "Epoch 37/200\n",
            "9/9 [==============================] - 0s 4ms/step - loss: 0.6931 - accuracy: 0.2716 - val_loss: 0.6932 - val_accuracy: 0.3333\n",
            "Epoch 38/200\n",
            "9/9 [==============================] - 0s 4ms/step - loss: 0.6932 - accuracy: 0.2716 - val_loss: 0.6932 - val_accuracy: 0.3333\n",
            "Epoch 39/200\n",
            "9/9 [==============================] - 0s 4ms/step - loss: 0.6932 - accuracy: 0.2716 - val_loss: 0.6932 - val_accuracy: 0.3333\n",
            "Epoch 40/200\n",
            "9/9 [==============================] - 0s 4ms/step - loss: 0.6932 - accuracy: 0.2716 - val_loss: 0.6932 - val_accuracy: 0.3333\n",
            "Epoch 41/200\n",
            "9/9 [==============================] - 0s 4ms/step - loss: 0.6932 - accuracy: 0.2840 - val_loss: 0.6932 - val_accuracy: 0.3333\n",
            "Epoch 42/200\n",
            "9/9 [==============================] - 0s 4ms/step - loss: 0.6936 - accuracy: 0.2716 - val_loss: 0.6932 - val_accuracy: 0.3333\n",
            "Epoch 43/200\n",
            "9/9 [==============================] - 0s 4ms/step - loss: 0.6933 - accuracy: 0.2716 - val_loss: 0.6932 - val_accuracy: 0.3333\n",
            "Epoch 44/200\n",
            "9/9 [==============================] - 0s 4ms/step - loss: 0.6938 - accuracy: 0.2716 - val_loss: 0.6932 - val_accuracy: 0.3333\n",
            "Epoch 45/200\n",
            "9/9 [==============================] - 0s 4ms/step - loss: 0.6932 - accuracy: 0.2716 - val_loss: 0.6932 - val_accuracy: 0.3333\n",
            "Epoch 46/200\n",
            "9/9 [==============================] - 0s 4ms/step - loss: 0.6932 - accuracy: 0.2716 - val_loss: 0.6932 - val_accuracy: 0.3333\n",
            "Epoch 47/200\n",
            "9/9 [==============================] - 0s 4ms/step - loss: 0.6932 - accuracy: 0.2716 - val_loss: 0.6932 - val_accuracy: 0.3333\n",
            "Epoch 48/200\n",
            "9/9 [==============================] - 0s 4ms/step - loss: 0.6932 - accuracy: 0.2716 - val_loss: 0.6932 - val_accuracy: 0.3333\n",
            "Epoch 49/200\n",
            "9/9 [==============================] - 0s 4ms/step - loss: 0.6932 - accuracy: 0.2716 - val_loss: 0.6932 - val_accuracy: 0.3333\n",
            "Epoch 50/200\n",
            "9/9 [==============================] - 0s 4ms/step - loss: 0.6932 - accuracy: 0.2716 - val_loss: 0.6932 - val_accuracy: 0.3333\n",
            "Epoch 51/200\n",
            "9/9 [==============================] - 0s 3ms/step - loss: 0.6932 - accuracy: 0.2716 - val_loss: 0.6932 - val_accuracy: 0.3333\n",
            "Epoch 52/200\n",
            "9/9 [==============================] - 0s 4ms/step - loss: 0.6934 - accuracy: 0.2716 - val_loss: 0.6932 - val_accuracy: 0.3333\n",
            "Epoch 53/200\n",
            "9/9 [==============================] - 0s 3ms/step - loss: 0.6932 - accuracy: 0.2716 - val_loss: 0.6932 - val_accuracy: 0.3333\n",
            "Epoch 54/200\n",
            "9/9 [==============================] - 0s 3ms/step - loss: 0.6932 - accuracy: 0.2716 - val_loss: 0.6932 - val_accuracy: 0.3333\n",
            "Epoch 55/200\n",
            "9/9 [==============================] - 0s 3ms/step - loss: 0.6932 - accuracy: 0.2716 - val_loss: 0.6932 - val_accuracy: 0.3333\n",
            "Epoch 56/200\n",
            "9/9 [==============================] - 0s 4ms/step - loss: 0.6932 - accuracy: 0.2716 - val_loss: 0.6932 - val_accuracy: 0.3333\n",
            "Epoch 57/200\n",
            "9/9 [==============================] - 0s 3ms/step - loss: 0.6933 - accuracy: 0.2716 - val_loss: 0.6932 - val_accuracy: 0.3333\n",
            "Epoch 58/200\n",
            "9/9 [==============================] - 0s 3ms/step - loss: 0.6938 - accuracy: 0.2716 - val_loss: 0.6932 - val_accuracy: 0.3333\n",
            "Epoch 59/200\n",
            "9/9 [==============================] - 0s 4ms/step - loss: 0.6931 - accuracy: 0.2716 - val_loss: 0.6932 - val_accuracy: 0.3333\n",
            "Epoch 60/200\n",
            "9/9 [==============================] - 0s 4ms/step - loss: 0.6932 - accuracy: 0.2716 - val_loss: 0.6932 - val_accuracy: 0.3333\n",
            "Epoch 61/200\n",
            "9/9 [==============================] - 0s 4ms/step - loss: 0.6932 - accuracy: 0.2716 - val_loss: 0.6932 - val_accuracy: 0.3333\n",
            "Epoch 62/200\n",
            "9/9 [==============================] - 0s 3ms/step - loss: 0.6932 - accuracy: 0.2716 - val_loss: 0.6932 - val_accuracy: 0.3333\n",
            "Epoch 63/200\n",
            "9/9 [==============================] - 0s 3ms/step - loss: 0.6932 - accuracy: 0.2716 - val_loss: 0.6932 - val_accuracy: 0.3333\n",
            "Epoch 64/200\n",
            "9/9 [==============================] - 0s 3ms/step - loss: 0.6932 - accuracy: 0.2716 - val_loss: 0.6932 - val_accuracy: 0.3333\n",
            "Epoch 65/200\n",
            "9/9 [==============================] - 0s 3ms/step - loss: 0.6932 - accuracy: 0.2716 - val_loss: 0.6932 - val_accuracy: 0.3333\n",
            "Epoch 66/200\n",
            "9/9 [==============================] - 0s 3ms/step - loss: 0.6932 - accuracy: 0.2716 - val_loss: 0.6932 - val_accuracy: 0.3333\n",
            "Epoch 67/200\n",
            "9/9 [==============================] - 0s 3ms/step - loss: 0.6932 - accuracy: 0.2716 - val_loss: 0.6932 - val_accuracy: 0.3333\n",
            "Epoch 68/200\n",
            "9/9 [==============================] - 0s 4ms/step - loss: 0.6932 - accuracy: 0.2716 - val_loss: 0.6932 - val_accuracy: 0.3333\n",
            "Epoch 69/200\n",
            "9/9 [==============================] - 0s 3ms/step - loss: 0.6932 - accuracy: 0.2716 - val_loss: 0.6932 - val_accuracy: 0.3333\n",
            "Epoch 70/200\n",
            "9/9 [==============================] - 0s 4ms/step - loss: 0.6932 - accuracy: 0.2716 - val_loss: 0.6932 - val_accuracy: 0.3333\n",
            "Epoch 71/200\n",
            "9/9 [==============================] - 0s 4ms/step - loss: 0.6934 - accuracy: 0.2716 - val_loss: 0.6932 - val_accuracy: 0.3333\n",
            "Epoch 72/200\n",
            "9/9 [==============================] - 0s 4ms/step - loss: 0.6932 - accuracy: 0.2716 - val_loss: 0.6932 - val_accuracy: 0.3333\n",
            "Epoch 73/200\n",
            "9/9 [==============================] - 0s 3ms/step - loss: 0.6932 - accuracy: 0.2716 - val_loss: 0.6932 - val_accuracy: 0.3333\n",
            "Epoch 74/200\n",
            "9/9 [==============================] - 0s 4ms/step - loss: 0.6932 - accuracy: 0.2716 - val_loss: 0.6932 - val_accuracy: 0.3333\n",
            "Epoch 75/200\n",
            "9/9 [==============================] - 0s 4ms/step - loss: 0.6932 - accuracy: 0.2716 - val_loss: 0.6932 - val_accuracy: 0.3333\n",
            "Epoch 76/200\n",
            "9/9 [==============================] - 0s 4ms/step - loss: 0.6932 - accuracy: 0.2716 - val_loss: 0.6932 - val_accuracy: 0.3333\n",
            "Epoch 77/200\n",
            "9/9 [==============================] - 0s 4ms/step - loss: 0.6932 - accuracy: 0.2716 - val_loss: 0.6931 - val_accuracy: 0.3333\n",
            "Epoch 78/200\n",
            "9/9 [==============================] - 0s 4ms/step - loss: 0.6932 - accuracy: 0.2716 - val_loss: 0.6931 - val_accuracy: 0.3333\n",
            "Epoch 79/200\n",
            "9/9 [==============================] - 0s 4ms/step - loss: 0.6932 - accuracy: 0.2716 - val_loss: 0.6931 - val_accuracy: 0.3333\n",
            "Epoch 80/200\n",
            "9/9 [==============================] - 0s 4ms/step - loss: 0.6932 - accuracy: 0.2716 - val_loss: 0.6931 - val_accuracy: 0.3333\n",
            "Epoch 81/200\n",
            "9/9 [==============================] - 0s 3ms/step - loss: 0.6931 - accuracy: 0.2716 - val_loss: 0.6931 - val_accuracy: 0.3333\n",
            "Epoch 82/200\n",
            "9/9 [==============================] - 0s 3ms/step - loss: 0.6932 - accuracy: 0.2716 - val_loss: 0.6931 - val_accuracy: 0.3333\n",
            "Epoch 83/200\n",
            "9/9 [==============================] - 0s 4ms/step - loss: 0.6932 - accuracy: 0.2716 - val_loss: 0.6931 - val_accuracy: 0.3333\n",
            "Epoch 84/200\n",
            "9/9 [==============================] - 0s 4ms/step - loss: 0.6931 - accuracy: 0.2716 - val_loss: 0.6931 - val_accuracy: 0.3333\n",
            "Epoch 85/200\n",
            "9/9 [==============================] - 0s 5ms/step - loss: 0.6931 - accuracy: 0.2716 - val_loss: 0.6931 - val_accuracy: 0.3333\n",
            "Epoch 86/200\n",
            "9/9 [==============================] - 0s 4ms/step - loss: 0.6932 - accuracy: 0.2716 - val_loss: 0.6931 - val_accuracy: 0.3333\n",
            "Epoch 87/200\n",
            "9/9 [==============================] - 0s 4ms/step - loss: 0.6932 - accuracy: 0.2716 - val_loss: 0.6931 - val_accuracy: 0.3333\n",
            "Epoch 88/200\n",
            "9/9 [==============================] - 0s 4ms/step - loss: 0.6932 - accuracy: 0.2716 - val_loss: 0.6931 - val_accuracy: 0.3333\n",
            "Epoch 89/200\n",
            "9/9 [==============================] - 0s 4ms/step - loss: 0.6932 - accuracy: 0.2716 - val_loss: 0.6931 - val_accuracy: 0.3333\n",
            "Epoch 90/200\n",
            "9/9 [==============================] - 0s 3ms/step - loss: 0.6931 - accuracy: 0.2716 - val_loss: 0.6931 - val_accuracy: 0.3333\n",
            "Epoch 91/200\n",
            "9/9 [==============================] - 0s 3ms/step - loss: 0.6932 - accuracy: 0.2716 - val_loss: 0.6931 - val_accuracy: 0.3333\n",
            "Epoch 92/200\n",
            "9/9 [==============================] - 0s 4ms/step - loss: 0.6932 - accuracy: 0.2716 - val_loss: 0.6931 - val_accuracy: 0.3333\n",
            "Epoch 93/200\n",
            "9/9 [==============================] - 0s 4ms/step - loss: 0.6931 - accuracy: 0.2716 - val_loss: 0.6931 - val_accuracy: 0.3333\n",
            "Epoch 94/200\n",
            "9/9 [==============================] - 0s 4ms/step - loss: 0.6932 - accuracy: 0.2716 - val_loss: 0.6931 - val_accuracy: 0.3333\n",
            "Epoch 95/200\n",
            "9/9 [==============================] - 0s 5ms/step - loss: 0.6932 - accuracy: 0.2716 - val_loss: 0.6931 - val_accuracy: 0.3333\n",
            "Epoch 96/200\n",
            "9/9 [==============================] - 0s 4ms/step - loss: 0.6932 - accuracy: 0.2840 - val_loss: 0.6931 - val_accuracy: 0.3333\n",
            "Epoch 97/200\n",
            "9/9 [==============================] - 0s 4ms/step - loss: 0.6932 - accuracy: 0.2716 - val_loss: 0.6931 - val_accuracy: 0.3333\n",
            "Epoch 98/200\n",
            "9/9 [==============================] - 0s 3ms/step - loss: 0.6932 - accuracy: 0.2716 - val_loss: 0.6931 - val_accuracy: 0.3333\n",
            "Epoch 99/200\n",
            "9/9 [==============================] - 0s 3ms/step - loss: 0.6932 - accuracy: 0.2716 - val_loss: 0.6931 - val_accuracy: 0.3333\n",
            "Epoch 100/200\n",
            "9/9 [==============================] - 0s 3ms/step - loss: 0.6932 - accuracy: 0.2716 - val_loss: 0.6931 - val_accuracy: 0.3333\n",
            "Epoch 101/200\n",
            "9/9 [==============================] - 0s 4ms/step - loss: 0.6932 - accuracy: 0.2716 - val_loss: 0.6931 - val_accuracy: 0.3333\n",
            "Epoch 102/200\n",
            "9/9 [==============================] - 0s 4ms/step - loss: 0.6932 - accuracy: 0.2716 - val_loss: 0.6931 - val_accuracy: 0.3333\n",
            "Epoch 103/200\n",
            "9/9 [==============================] - 0s 4ms/step - loss: 0.6932 - accuracy: 0.2716 - val_loss: 0.6931 - val_accuracy: 0.3333\n",
            "Epoch 104/200\n",
            "9/9 [==============================] - 0s 4ms/step - loss: 0.6932 - accuracy: 0.2716 - val_loss: 0.6931 - val_accuracy: 0.3333\n",
            "Epoch 105/200\n",
            "9/9 [==============================] - 0s 3ms/step - loss: 0.6932 - accuracy: 0.2716 - val_loss: 0.6931 - val_accuracy: 0.3333\n",
            "Epoch 106/200\n",
            "9/9 [==============================] - 0s 4ms/step - loss: 0.6932 - accuracy: 0.2716 - val_loss: 0.6931 - val_accuracy: 0.3333\n",
            "Epoch 107/200\n",
            "9/9 [==============================] - 0s 4ms/step - loss: 0.6931 - accuracy: 0.2716 - val_loss: 0.6931 - val_accuracy: 0.3333\n",
            "Epoch 108/200\n",
            "9/9 [==============================] - 0s 4ms/step - loss: 0.6932 - accuracy: 0.2716 - val_loss: 0.6931 - val_accuracy: 0.3333\n",
            "Epoch 109/200\n",
            "9/9 [==============================] - 0s 4ms/step - loss: 0.6931 - accuracy: 0.2716 - val_loss: 0.6931 - val_accuracy: 0.3333\n",
            "Epoch 110/200\n",
            "9/9 [==============================] - 0s 4ms/step - loss: 0.6931 - accuracy: 0.2716 - val_loss: 0.6931 - val_accuracy: 0.3333\n",
            "Epoch 111/200\n",
            "9/9 [==============================] - 0s 4ms/step - loss: 0.6932 - accuracy: 0.2716 - val_loss: 0.6931 - val_accuracy: 0.3333\n",
            "Epoch 112/200\n",
            "9/9 [==============================] - 0s 3ms/step - loss: 0.6932 - accuracy: 0.2716 - val_loss: 0.6931 - val_accuracy: 0.3333\n",
            "Epoch 113/200\n",
            "9/9 [==============================] - 0s 3ms/step - loss: 0.6932 - accuracy: 0.2716 - val_loss: 0.6931 - val_accuracy: 0.3333\n",
            "Epoch 114/200\n",
            "9/9 [==============================] - 0s 4ms/step - loss: 0.6931 - accuracy: 0.2716 - val_loss: 0.6931 - val_accuracy: 0.3333\n",
            "Epoch 115/200\n",
            "9/9 [==============================] - 0s 4ms/step - loss: 0.6931 - accuracy: 0.2716 - val_loss: 0.6931 - val_accuracy: 0.3333\n",
            "Epoch 116/200\n",
            "9/9 [==============================] - 0s 4ms/step - loss: 0.6931 - accuracy: 0.2716 - val_loss: 0.6931 - val_accuracy: 0.3333\n",
            "Epoch 117/200\n",
            "9/9 [==============================] - 0s 3ms/step - loss: 0.6931 - accuracy: 0.2716 - val_loss: 0.6931 - val_accuracy: 0.3333\n",
            "Epoch 118/200\n",
            "9/9 [==============================] - 0s 3ms/step - loss: 0.6932 - accuracy: 0.2716 - val_loss: 0.6931 - val_accuracy: 0.3333\n",
            "Epoch 119/200\n",
            "9/9 [==============================] - 0s 4ms/step - loss: 0.6932 - accuracy: 0.2716 - val_loss: 0.6931 - val_accuracy: 0.3333\n",
            "Epoch 120/200\n",
            "9/9 [==============================] - 0s 4ms/step - loss: 0.6931 - accuracy: 0.2716 - val_loss: 0.6931 - val_accuracy: 0.3333\n",
            "Epoch 121/200\n",
            "9/9 [==============================] - 0s 4ms/step - loss: 0.6932 - accuracy: 0.2716 - val_loss: 0.6931 - val_accuracy: 0.3333\n",
            "Epoch 122/200\n",
            "9/9 [==============================] - 0s 4ms/step - loss: 0.6931 - accuracy: 0.2716 - val_loss: 0.6931 - val_accuracy: 0.3333\n",
            "Epoch 123/200\n",
            "9/9 [==============================] - 0s 4ms/step - loss: 0.6932 - accuracy: 0.2716 - val_loss: 0.6931 - val_accuracy: 0.3333\n",
            "Epoch 124/200\n",
            "9/9 [==============================] - 0s 4ms/step - loss: 0.6931 - accuracy: 0.2716 - val_loss: 0.6931 - val_accuracy: 0.3333\n",
            "Epoch 125/200\n",
            "9/9 [==============================] - 0s 4ms/step - loss: 0.6931 - accuracy: 0.2716 - val_loss: 0.6931 - val_accuracy: 0.3333\n",
            "Epoch 126/200\n",
            "9/9 [==============================] - 0s 4ms/step - loss: 0.6932 - accuracy: 0.2716 - val_loss: 0.6931 - val_accuracy: 0.3333\n",
            "Epoch 127/200\n",
            "9/9 [==============================] - 0s 4ms/step - loss: 0.6932 - accuracy: 0.2716 - val_loss: 0.6931 - val_accuracy: 0.3333\n",
            "Epoch 128/200\n",
            "9/9 [==============================] - 0s 4ms/step - loss: 0.6932 - accuracy: 0.2716 - val_loss: 0.6931 - val_accuracy: 0.3333\n",
            "Epoch 129/200\n",
            "9/9 [==============================] - 0s 3ms/step - loss: 0.6932 - accuracy: 0.2716 - val_loss: 0.6931 - val_accuracy: 0.3333\n",
            "Epoch 130/200\n",
            "9/9 [==============================] - 0s 4ms/step - loss: 0.6931 - accuracy: 0.2716 - val_loss: 0.6931 - val_accuracy: 0.3333\n",
            "Epoch 131/200\n",
            "9/9 [==============================] - 0s 4ms/step - loss: 0.6932 - accuracy: 0.2716 - val_loss: 0.6931 - val_accuracy: 0.3333\n",
            "Epoch 132/200\n",
            "9/9 [==============================] - 0s 4ms/step - loss: 0.6931 - accuracy: 0.2716 - val_loss: 0.6931 - val_accuracy: 0.3333\n",
            "Epoch 133/200\n",
            "9/9 [==============================] - 0s 4ms/step - loss: 0.6931 - accuracy: 0.2716 - val_loss: 0.6931 - val_accuracy: 0.3333\n",
            "Epoch 134/200\n",
            "9/9 [==============================] - 0s 3ms/step - loss: 0.6931 - accuracy: 0.2716 - val_loss: 0.6931 - val_accuracy: 0.3333\n",
            "Epoch 135/200\n",
            "9/9 [==============================] - 0s 4ms/step - loss: 0.6931 - accuracy: 0.2716 - val_loss: 0.6931 - val_accuracy: 0.3333\n",
            "Epoch 136/200\n",
            "9/9 [==============================] - 0s 4ms/step - loss: 0.6931 - accuracy: 0.2716 - val_loss: 0.6931 - val_accuracy: 0.3333\n",
            "Epoch 137/200\n",
            "9/9 [==============================] - 0s 5ms/step - loss: 0.6931 - accuracy: 0.2716 - val_loss: 0.6931 - val_accuracy: 0.3333\n",
            "Epoch 138/200\n",
            "9/9 [==============================] - 0s 4ms/step - loss: 0.6931 - accuracy: 0.2716 - val_loss: 0.6931 - val_accuracy: 0.3333\n",
            "Epoch 139/200\n",
            "9/9 [==============================] - 0s 4ms/step - loss: 0.6932 - accuracy: 0.2716 - val_loss: 0.6931 - val_accuracy: 0.3333\n",
            "Epoch 140/200\n",
            "9/9 [==============================] - 0s 3ms/step - loss: 0.6931 - accuracy: 0.2716 - val_loss: 0.6931 - val_accuracy: 0.3333\n",
            "Epoch 141/200\n",
            "9/9 [==============================] - 0s 4ms/step - loss: 0.6931 - accuracy: 0.2716 - val_loss: 0.6931 - val_accuracy: 0.3333\n",
            "Epoch 142/200\n",
            "9/9 [==============================] - 0s 4ms/step - loss: 0.6931 - accuracy: 0.2716 - val_loss: 0.6931 - val_accuracy: 0.3333\n",
            "Epoch 143/200\n",
            "9/9 [==============================] - 0s 4ms/step - loss: 0.6931 - accuracy: 0.2716 - val_loss: 0.6931 - val_accuracy: 0.3333\n",
            "Epoch 144/200\n",
            "9/9 [==============================] - 0s 4ms/step - loss: 0.6932 - accuracy: 0.2716 - val_loss: 0.6931 - val_accuracy: 0.3333\n",
            "Epoch 145/200\n",
            "9/9 [==============================] - 0s 4ms/step - loss: 0.6931 - accuracy: 0.2716 - val_loss: 0.6931 - val_accuracy: 0.3333\n",
            "Epoch 146/200\n",
            "9/9 [==============================] - 0s 4ms/step - loss: 0.6931 - accuracy: 0.2716 - val_loss: 0.6931 - val_accuracy: 0.3333\n",
            "Epoch 147/200\n",
            "9/9 [==============================] - 0s 4ms/step - loss: 0.6932 - accuracy: 0.2716 - val_loss: 0.6931 - val_accuracy: 0.3333\n",
            "Epoch 148/200\n",
            "9/9 [==============================] - 0s 4ms/step - loss: 0.6932 - accuracy: 0.2716 - val_loss: 0.6931 - val_accuracy: 0.3333\n",
            "Epoch 149/200\n",
            "9/9 [==============================] - 0s 4ms/step - loss: 0.6931 - accuracy: 0.2716 - val_loss: 0.6931 - val_accuracy: 0.3333\n",
            "Epoch 150/200\n",
            "9/9 [==============================] - 0s 3ms/step - loss: 0.6932 - accuracy: 0.2716 - val_loss: 0.6931 - val_accuracy: 0.3333\n",
            "Epoch 151/200\n",
            "9/9 [==============================] - 0s 4ms/step - loss: 0.6931 - accuracy: 0.2716 - val_loss: 0.6931 - val_accuracy: 0.3333\n",
            "Epoch 152/200\n",
            "9/9 [==============================] - 0s 4ms/step - loss: 0.6931 - accuracy: 0.2716 - val_loss: 0.6931 - val_accuracy: 0.3333\n",
            "Epoch 153/200\n",
            "9/9 [==============================] - 0s 4ms/step - loss: 0.6932 - accuracy: 0.2716 - val_loss: 0.6931 - val_accuracy: 0.3333\n",
            "Epoch 154/200\n",
            "9/9 [==============================] - 0s 4ms/step - loss: 0.6932 - accuracy: 0.2716 - val_loss: 0.6931 - val_accuracy: 0.3333\n",
            "Epoch 155/200\n",
            "9/9 [==============================] - 0s 4ms/step - loss: 0.6931 - accuracy: 0.2716 - val_loss: 0.6931 - val_accuracy: 0.3333\n",
            "Epoch 156/200\n",
            "9/9 [==============================] - 0s 4ms/step - loss: 0.6932 - accuracy: 0.2716 - val_loss: 0.6931 - val_accuracy: 0.3333\n",
            "Epoch 157/200\n",
            "9/9 [==============================] - 0s 4ms/step - loss: 0.6934 - accuracy: 0.2716 - val_loss: 0.6931 - val_accuracy: 0.3333\n",
            "Epoch 158/200\n",
            "9/9 [==============================] - 0s 4ms/step - loss: 0.6932 - accuracy: 0.2716 - val_loss: 0.6931 - val_accuracy: 0.2222\n",
            "Epoch 159/200\n",
            "9/9 [==============================] - 0s 3ms/step - loss: 0.6932 - accuracy: 0.2716 - val_loss: 0.6931 - val_accuracy: 0.2222\n",
            "Epoch 160/200\n",
            "9/9 [==============================] - 0s 4ms/step - loss: 0.6931 - accuracy: 0.2716 - val_loss: 0.6931 - val_accuracy: 0.2222\n",
            "Epoch 161/200\n",
            "9/9 [==============================] - 0s 4ms/step - loss: 0.6932 - accuracy: 0.2716 - val_loss: 0.6931 - val_accuracy: 0.2222\n",
            "Epoch 162/200\n",
            "9/9 [==============================] - 0s 4ms/step - loss: 0.6931 - accuracy: 0.2716 - val_loss: 0.6931 - val_accuracy: 0.2222\n",
            "Epoch 163/200\n",
            "9/9 [==============================] - 0s 4ms/step - loss: 0.6931 - accuracy: 0.2716 - val_loss: 0.6931 - val_accuracy: 0.2222\n",
            "Epoch 164/200\n",
            "9/9 [==============================] - 0s 4ms/step - loss: 0.6932 - accuracy: 0.2716 - val_loss: 0.6931 - val_accuracy: 0.2222\n",
            "Epoch 165/200\n",
            "9/9 [==============================] - 0s 4ms/step - loss: 0.6931 - accuracy: 0.2593 - val_loss: 0.6931 - val_accuracy: 0.2222\n",
            "Epoch 166/200\n",
            "9/9 [==============================] - 0s 4ms/step - loss: 0.6932 - accuracy: 0.2716 - val_loss: 0.6931 - val_accuracy: 0.2222\n",
            "Epoch 167/200\n",
            "9/9 [==============================] - 0s 4ms/step - loss: 0.6932 - accuracy: 0.2716 - val_loss: 0.6931 - val_accuracy: 0.2222\n",
            "Epoch 168/200\n",
            "9/9 [==============================] - 0s 5ms/step - loss: 0.6932 - accuracy: 0.2716 - val_loss: 0.6931 - val_accuracy: 0.2222\n",
            "Epoch 169/200\n",
            "9/9 [==============================] - 0s 4ms/step - loss: 0.6932 - accuracy: 0.2593 - val_loss: 0.6931 - val_accuracy: 0.2222\n",
            "Epoch 170/200\n",
            "9/9 [==============================] - 0s 4ms/step - loss: 0.6931 - accuracy: 0.2716 - val_loss: 0.6931 - val_accuracy: 0.2222\n",
            "Epoch 171/200\n",
            "9/9 [==============================] - 0s 4ms/step - loss: 0.6931 - accuracy: 0.2716 - val_loss: 0.6931 - val_accuracy: 0.2222\n",
            "Epoch 172/200\n",
            "9/9 [==============================] - 0s 4ms/step - loss: 0.6931 - accuracy: 0.2716 - val_loss: 0.6931 - val_accuracy: 0.2222\n",
            "Epoch 173/200\n",
            "9/9 [==============================] - 0s 4ms/step - loss: 0.6931 - accuracy: 0.2716 - val_loss: 0.6931 - val_accuracy: 0.2222\n",
            "Epoch 174/200\n",
            "9/9 [==============================] - 0s 4ms/step - loss: 0.6932 - accuracy: 0.2716 - val_loss: 0.6931 - val_accuracy: 0.2222\n",
            "Epoch 175/200\n",
            "9/9 [==============================] - 0s 5ms/step - loss: 0.6931 - accuracy: 0.2716 - val_loss: 0.6931 - val_accuracy: 0.2222\n",
            "Epoch 176/200\n",
            "9/9 [==============================] - 0s 4ms/step - loss: 0.6931 - accuracy: 0.2716 - val_loss: 0.6931 - val_accuracy: 0.2222\n",
            "Epoch 177/200\n",
            "9/9 [==============================] - 0s 4ms/step - loss: 0.6932 - accuracy: 0.2716 - val_loss: 0.6931 - val_accuracy: 0.2222\n",
            "Epoch 178/200\n",
            "9/9 [==============================] - 0s 4ms/step - loss: 0.6931 - accuracy: 0.2716 - val_loss: 0.6931 - val_accuracy: 0.2222\n",
            "Epoch 179/200\n",
            "9/9 [==============================] - 0s 5ms/step - loss: 0.6931 - accuracy: 0.2716 - val_loss: 0.6931 - val_accuracy: 0.2222\n",
            "Epoch 180/200\n",
            "9/9 [==============================] - 0s 4ms/step - loss: 0.6931 - accuracy: 0.2716 - val_loss: 0.6931 - val_accuracy: 0.2222\n",
            "Epoch 181/200\n",
            "9/9 [==============================] - 0s 5ms/step - loss: 0.6931 - accuracy: 0.2716 - val_loss: 0.6931 - val_accuracy: 0.2222\n",
            "Epoch 182/200\n",
            "9/9 [==============================] - 0s 5ms/step - loss: 0.6932 - accuracy: 0.2716 - val_loss: 0.6931 - val_accuracy: 0.2222\n",
            "Epoch 183/200\n",
            "9/9 [==============================] - 0s 4ms/step - loss: 0.6931 - accuracy: 0.2716 - val_loss: 0.6931 - val_accuracy: 0.2222\n",
            "Epoch 184/200\n",
            "9/9 [==============================] - 0s 4ms/step - loss: 0.6931 - accuracy: 0.2716 - val_loss: 0.6931 - val_accuracy: 0.2222\n",
            "Epoch 185/200\n",
            "9/9 [==============================] - 0s 4ms/step - loss: 0.6931 - accuracy: 0.2716 - val_loss: 0.6931 - val_accuracy: 0.2222\n",
            "Epoch 186/200\n",
            "9/9 [==============================] - 0s 4ms/step - loss: 0.6931 - accuracy: 0.2716 - val_loss: 0.6931 - val_accuracy: 0.2222\n",
            "Epoch 187/200\n",
            "9/9 [==============================] - 0s 4ms/step - loss: 0.6931 - accuracy: 0.2716 - val_loss: 0.6931 - val_accuracy: 0.2222\n",
            "Epoch 188/200\n",
            "9/9 [==============================] - 0s 4ms/step - loss: 0.6931 - accuracy: 0.2716 - val_loss: 0.6931 - val_accuracy: 0.2222\n",
            "Epoch 189/200\n",
            "9/9 [==============================] - 0s 5ms/step - loss: 0.6931 - accuracy: 0.2716 - val_loss: 0.6931 - val_accuracy: 0.2222\n",
            "Epoch 190/200\n",
            "9/9 [==============================] - 0s 4ms/step - loss: 0.6931 - accuracy: 0.2716 - val_loss: 0.6931 - val_accuracy: 0.2222\n",
            "Epoch 191/200\n",
            "9/9 [==============================] - 0s 4ms/step - loss: 0.6932 - accuracy: 0.2716 - val_loss: 0.6931 - val_accuracy: 0.2222\n",
            "Epoch 192/200\n",
            "9/9 [==============================] - 0s 4ms/step - loss: 0.6931 - accuracy: 0.2716 - val_loss: 0.6931 - val_accuracy: 0.2222\n",
            "Epoch 193/200\n",
            "9/9 [==============================] - 0s 4ms/step - loss: 0.6931 - accuracy: 0.2716 - val_loss: 0.6931 - val_accuracy: 0.2222\n",
            "Epoch 194/200\n",
            "9/9 [==============================] - 0s 4ms/step - loss: 0.6932 - accuracy: 0.2716 - val_loss: 0.6931 - val_accuracy: 0.2222\n",
            "Epoch 195/200\n",
            "9/9 [==============================] - 0s 4ms/step - loss: 0.6931 - accuracy: 0.2716 - val_loss: 0.6931 - val_accuracy: 0.2222\n",
            "Epoch 196/200\n",
            "9/9 [==============================] - 0s 4ms/step - loss: 0.6931 - accuracy: 0.2716 - val_loss: 0.6931 - val_accuracy: 0.2222\n",
            "Epoch 197/200\n",
            "9/9 [==============================] - 0s 4ms/step - loss: 0.6932 - accuracy: 0.2716 - val_loss: 0.6931 - val_accuracy: 0.2222\n",
            "Epoch 198/200\n",
            "9/9 [==============================] - 0s 4ms/step - loss: 0.6931 - accuracy: 0.2593 - val_loss: 0.6931 - val_accuracy: 0.2222\n",
            "Epoch 199/200\n",
            "9/9 [==============================] - 0s 4ms/step - loss: 0.6931 - accuracy: 0.2716 - val_loss: 0.6931 - val_accuracy: 0.2222\n",
            "Epoch 200/200\n",
            "9/9 [==============================] - 0s 4ms/step - loss: 0.6931 - accuracy: 0.2716 - val_loss: 0.6931 - val_accuracy: 0.2222\n"
          ],
          "name": "stdout"
        }
      ]
    },
    {
      "cell_type": "markdown",
      "metadata": {
        "id": "cJ87_H5QxOaJ"
      },
      "source": [
        "By ploting the accuracies and loss, I can see how I need to change the number of epochs as the dataset grows. Since each time the application is run, it collects more data to add to the query results dataset for training."
      ]
    },
    {
      "cell_type": "code",
      "metadata": {
        "colab": {
          "base_uri": "https://localhost:8080/",
          "height": 490
        },
        "id": "Qwzurc0FNGu6",
        "outputId": "e165b5cc-4543-43cd-9b0b-0aa45e406a10"
      },
      "source": [
        "import matplotlib.pyplot as plt\n",
        "\n",
        "acc = history.history['accuracy']\n",
        "val_acc = history.history['val_accuracy']\n",
        "\n",
        "loss=history.history['loss']\n",
        "val_loss=history.history['val_loss']\n",
        "\n",
        "epochs_range = range(len(acc))\n",
        "\n",
        "plt.figure(figsize=(15, 7), dpi=80)\n",
        "plt.subplot(1, 2, 1)\n",
        "plt.plot(epochs_range, acc, label='Training Accuracy')\n",
        "plt.plot(epochs_range, val_acc, label='Validation Accuracy')\n",
        "plt.legend(loc='lower right')\n",
        "plt.title('Training and Validation Accuracy')\n",
        "\n",
        "plt.subplot(1, 2, 2)\n",
        "plt.plot(epochs_range, loss, label='Training Loss')\n",
        "plt.plot(epochs_range, val_loss, label='Validation Loss')\n",
        "plt.legend(loc='upper right')\n",
        "plt.title('Training and Validation Loss')\n",
        "plt.show()"
      ],
      "execution_count": null,
      "outputs": [
        {
          "output_type": "display_data",
          "data": {
            "image/png": "[encoded data removed]",
            "text/plain": [
              "<Figure size 1200x560 with 2 Axes>"
            ]
          },
          "metadata": {
            "tags": [],
            "needs_background": "light"
          }
        }
      ]
    },
    {
      "cell_type": "markdown",
      "metadata": {
        "id": "mBtoRFNfxqrf"
      },
      "source": [
        "This function uses the model to indicate which result is ranked higher than the other result."
      ]
    },
    {
      "cell_type": "code",
      "metadata": {
        "id": "ZSBXRgG1xwTN"
      },
      "source": [
        "def perform_rank(result1, result2):\n",
        "  rank = model.predict((np.array([result1[1:]]), np.array([result2[1:]])))\n",
        "  return 1 if rank > 0.5 else (0 if rank == 0.5 else -1)"
      ],
      "execution_count": null,
      "outputs": []
    },
    {
      "cell_type": "markdown",
      "metadata": {
        "id": "BM8sWj9Uxymz"
      },
      "source": [
        "This step prompts the user if they would like to enter a query then prompts for a query. It then collects a list of all of the matching articles and associated features relating to the query, article and relationships between the query and article. It then uses the previously trained model to rank the results in order and presents the top 20 results. To increase the speed of the results, the model is only used for top 100 results for term frequency. The top 20 ranked results are then presented to the user and the user is then asked to provide a ranking for that article and query matching. All of these features are then collected for each result and made into a dataset."
      ]
    },
    {
      "cell_type": "code",
      "metadata": {
        "id": "ItNLqddZRHl2",
        "colab": {
          "base_uri": "https://localhost:8080/"
        },
        "outputId": "940e8b0f-ef96-425a-b137-aae3cec4eea4"
      },
      "source": [
        "import functools\n",
        "\n",
        "rating_data = {\"qid\": [], \"query\": [], \"doc_id\": [], \"rating\": [], \"tf\":  [], \n",
        "               \"p_match\": [], \"complete_count\": [], \"key_size\": [], \n",
        "               \"phrase_count\": [], \"search_size\": [], \"doc_age\": []}\n",
        "qid = 0\n",
        "while(input(\"Do you want a new query(y/n)? \").lower() == 'y'):\n",
        "  qid += 1\n",
        "  search_phrase = input(\"What query do you want to run? \")\n",
        "\n",
        "  search_words = word_tokenize(re.sub(\"[^\\w\\s]\", \"\", search_phrase.lower()))\n",
        "  clean_search = []\n",
        "  for word in search_words:\n",
        "    if word not in stopwords and word.isalpha():\n",
        "      clean_search.append(lemma.lemmatize(word))\n",
        "\n",
        "  (result_list, match_dict), complete_dict = run_search(clean_search)\n",
        "  limited_list = []\n",
        "  # Use term frequency to reduce the list to the top 500 results then use ranknet\n",
        "  # to increase the speed of finding the ranked results\n",
        "  search_limit = 100 if len(result_list) > 100 else len(result_list)\n",
        "  for idx in range(0, search_limit):\n",
        "    doc = result_list[idx][0]\n",
        "    # doc_id tf\tp_match\tcomplete_count\tkey_size\tphrase_count\tsearch_size\tdoc_age\n",
        "    limited_list.append([doc, result_list[idx][1], match_dict[doc], \n",
        "                        complete_dict[doc], df.key_word_count[doc], \n",
        "                        df.key_phase_count[doc], len(clean_search), \n",
        "                        df.ages[doc]])\n",
        "  sorted_results = sorted(limited_list, key=functools.cmp_to_key(perform_rank), reverse=True)\n",
        "\n",
        "  for idx in range(0, 20):\n",
        "    print(sorted_results[idx])\n",
        "    rating = input(\"How do you rate the link {}\".format(df.link[sorted_results[idx][0]]))\n",
        "    rating_data[\"qid\"].append(qid)\n",
        "    rating_data[\"query\"].append(search_phrase)\n",
        "    rating_data[\"doc_id\"].append(sorted_results[idx][0])\n",
        "    rating_data[\"rating\"].append(rating)\n",
        "    rating_data[\"tf\"].append(sorted_results[idx][1])\n",
        "    rating_data[\"p_match\"].append(sorted_results[idx][2])\n",
        "    rating_data[\"complete_count\"].append(sorted_results[idx][3])\n",
        "    rating_data[\"key_size\"].append(sorted_results[idx][4])\n",
        "    rating_data[\"phrase_count\"].append(sorted_results[idx][5])\n",
        "    rating_data[\"search_size\"].append(sorted_results[idx][6])\n",
        "    rating_data[\"doc_age\"].append(sorted_results[idx][7])"
      ],
      "execution_count": null,
      "outputs": [
        {
          "output_type": "stream",
          "text": [
            "Do you want a new query(y/n)? y\n",
            "What query do you want to run? identity theft prevention\n",
            "WARNING:tensorflow:Model was constructed with shape (None, 90, 7) for input Tensor(\"input_1:0\", shape=(None, 90, 7), dtype=float32), but it was called on an input with incompatible shape (None, 7).\n",
            "WARNING:tensorflow:Model was constructed with shape (None, 90, 7) for input Tensor(\"input_2:0\", shape=(None, 90, 7), dtype=float32), but it was called on an input with incompatible shape (None, 7).\n",
            "WARNING:tensorflow:Model was constructed with shape (None, 90, 7) for input Tensor(\"dense_input:0\", shape=(None, 90, 7), dtype=float32), but it was called on an input with incompatible shape (None, 7).\n",
            "WARNING:tensorflow:Model was constructed with shape (None, 90, 7) for input Tensor(\"dense_input:0\", shape=(None, 90, 7), dtype=float32), but it was called on an input with incompatible shape (None, 7).\n",
            "[8104, 1, 0.3333333333333333, 0, 7, 5, 3, 3]\n",
            "How do you rate the link https://www.huffingtonpost.com/entry/embracethelatinx-is-an-all-inclusive-tribute-to-latinos-many-identities_us_59514b21e4b0da2c731d7d790\n",
            "[61, 6, 0.6666666666666666, 0, 103, 20, 3, 5]\n",
            "How do you rate the link https://www.huffingtonpost.com/entry/5-identity-theft-facts-th_b_7347248.html4\n",
            "[4286, 3, 0.3333333333333333, 0, 79, 20, 3, 4]\n",
            "How do you rate the link https://www.huffingtonpost.com/entry/transbillma-making-transg_b_9161456.html0\n",
            "[4377, 3, 0.3333333333333333, 0, 78, 20, 3, 4]\n",
            "How do you rate the link https://www.huffingtonpost.com/entry/new-study-womens-sexual-identity_us_5755dc06e4b0ca5c7b4fca6f0\n",
            "[6562, 3, 1.0, 1, 67, 20, 3, 6]\n",
            "How do you rate the link https://www.huffingtonpost.com/entry/heartbleed-free-tool-to-c_us_5bb370fae4b0fa920b98f8793\n",
            "[8093, 3, 0.3333333333333333, 0, 70, 20, 3, 4]\n",
            "How do you rate the link https://www.huffingtonpost.com/entry/ana-navarro-to-trump-stop-fighting-broadway-start-fighting-white-supremacists_us_5835a5a3e4b000af95ed5cf80\n",
            "[9074, 3, 0.3333333333333333, 0, 78, 20, 3, 6]\n",
            "How do you rate the link https://www.huffingtonpost.com/entry/why-transgender-students-_b_6130100.html0\n",
            "[14510, 3, 0.3333333333333333, 0, 78, 20, 3, 6]\n",
            "How do you rate the link https://www.huffingtonpost.com/entry/universal-humanism-or-ide_b_5518416.html0\n",
            "[19097, 3, 0.3333333333333333, 0, 51, 20, 3, 8]\n",
            "How do you rate the link https://www.huffingtonpost.com/entry/gender-in-izolyatsia_us_5bb225bce4b0171db69dc8960\n",
            "[8464, 3, 0.3333333333333333, 0, 92, 20, 3, 5]\n",
            "How do you rate the link https://www.huffingtonpost.com/entry/developing-resiliency-in-_b_7242718.html0\n",
            "[8553, 3, 0.3333333333333333, 0, 81, 20, 3, 2]\n",
            "How do you rate the link https://www.huffingtonpost.com/entry/threat-assessments-crucial-to-prevent-school-shootings_us_5abd0af7e4b075a5c9a465f70\n",
            "[8788, 3, 0.3333333333333333, 0, 82, 20, 3, 6]\n",
            "How do you rate the link https://www.huffingtonpost.com/entry/3-strategies-for-building_b_5268583.html0\n",
            "[3041, 2, 0.3333333333333333, 0, 42, 20, 3, 6]\n",
            "How do you rate the link https://www.huffingtonpost.com/entry/black-jews_n_5587491.html0\n",
            "[3478, 2, 0.3333333333333333, 0, 64, 20, 3, 3]\n",
            "How do you rate the link https://www.huffingtonpost.com/entry/the-irony-in-the-democrats-changing-position-on-abortion_us_598382f9e4b00833d1de269f0\n",
            "[4315, 2, 0.3333333333333333, 0, 87, 20, 3, 8]\n",
            "How do you rate the link https://www.huffingtonpost.com/entry/michelle-kosilek-ruling-transgender_us_5bafab29e4b0ad76925fbc510\n",
            "[4409, 2, 0.3333333333333333, 0, 57, 20, 3, 3]\n",
            "How do you rate the link https://www.huffingtonpost.com/entry/queer-kid-stuff-asexuality_us_590b84f2e4b0e7021e95d23b0\n",
            "[5289, 2, 0.6666666666666666, 0, 81, 20, 3, 4]\n",
            "How do you rate the link https://www.huffingtonpost.com/entry/mastercard-selfie-pay_us_56ce9fd8e4b03260bf758cad3\n",
            "[8246, 2, 0.3333333333333333, 0, 52, 20, 3, 4]\n",
            "How do you rate the link https://www.huffingtonpost.com/entry/afro-latina-music-artists-talk-identity-empowerment-and-feminism_us_578d345ce4b0a0ae97c3002c0\n",
            "[9213, 2, 0.3333333333333333, 0, 77, 20, 3, 3]\n",
            "How do you rate the link https://www.huffingtonpost.com/entry/the-desirable-american-name_us_586ba0f3e4b04d7df167d74b0\n",
            "[9489, 2, 0.6666666666666666, 0, 9, 5, 3, 5]\n",
            "How do you rate the link https://www.huffingtonpost.com/entry/identity-theft-and-credit-card-fraud-who-is-really-at-risk_b_7471714.html4\n",
            "Do you want a new query(y/n)? n\n"
          ],
          "name": "stdout"
        }
      ]
    },
    {
      "cell_type": "code",
      "metadata": {
        "id": "yRc7Uqrdydyf"
      },
      "source": [
        "data = pd.DataFrame(rating_data, columns=rating_data.keys())"
      ],
      "execution_count": null,
      "outputs": []
    },
    {
      "cell_type": "markdown",
      "metadata": {
        "id": "EHmBOr0G1-x3"
      },
      "source": [
        "The following computes the Normalized Cumulative Discounted Gain for the results list based on the ratings provided by the user and the position in the list the ranking occurs. Rankings at the top of the list increase the score more than those at the bottom and these scores for each result are then summed, which is the Discounted Cumulative Gain(DCG) part. Then the scores are normalized by comparing an ideal order of the results to the actual results by taking the list of results and sorting by rating and calculating the DCG. If the results are ordered ideally, then the score is 1.0."
      ]
    },
    {
      "cell_type": "code",
      "metadata": {
        "id": "P3ON4kebsvhZ"
      },
      "source": [
        "import math\n",
        "\n",
        "def get_DCG(array):\n",
        "  DCG = 0\n",
        "\n",
        "  for i in range(0, len(array)):\n",
        "    DCG += array[i] / math.log(i + 2, 2)\n",
        "\n",
        "  return DCG"
      ],
      "execution_count": null,
      "outputs": []
    },
    {
      "cell_type": "code",
      "metadata": {
        "colab": {
          "base_uri": "https://localhost:8080/"
        },
        "id": "hOI0JEaayFp0",
        "outputId": "b3f8e3bf-ee7d-4deb-d70b-8564d45620fe"
      },
      "source": [
        "rank_array = data['rating'].astype('int32').tolist()\n",
        "get_DCG(rank_array) / get_DCG(sorted(rank_array, reverse=True))"
      ],
      "execution_count": null,
      "outputs": [
        {
          "output_type": "execute_result",
          "data": {
            "text/plain": [
              "0.5704743663854617"
            ]
          },
          "metadata": {
            "tags": []
          },
          "execution_count": 20
        }
      ]
    },
    {
      "cell_type": "markdown",
      "metadata": {
        "id": "kImlGcLS3Rcx"
      },
      "source": [
        "The results dataset is now appended to the previously imported dataset that was used to train the model then saved to a csv file to be used again at a later time to better train the model."
      ]
    },
    {
      "cell_type": "code",
      "metadata": {
        "id": "yVCF4qMjfFEg"
      },
      "source": [
        "max_id = rank_data[\"qid\"].max()\n",
        "for i in range(0, len(data['qid'])):\n",
        "  data['qid'][i] += max_id\n",
        "rank_data = rank_data.append(data, ignore_index = True)\n",
        "rank_data.to_csv('results_ranks.csv', index=False)\n",
        "rank_data"
      ],
      "execution_count": null,
      "outputs": []
    }
  ]
}