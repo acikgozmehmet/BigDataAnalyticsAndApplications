{
  "nbformat": 4,
  "nbformat_minor": 0,
  "metadata": {
    "colab": {
      "name": "CartPole.ipynb",
      "provenance": [],
      "collapsed_sections": []
    },
    "kernelspec": {
      "name": "python3",
      "display_name": "Python 3"
    }
  },
  "cells": [
    {
      "cell_type": "markdown",
      "metadata": {
        "id": "Ukp9ry-mEM0i"
      },
      "source": [
        "Let's install some libraries for visualization.\n"
      ]
    },
    {
      "cell_type": "code",
      "metadata": {
        "id": "Q4TGabNT3GJ9",
        "outputId": "3c887fe3-75cd-46ad-c610-5ca9b0a61cec",
        "colab": {
          "base_uri": "https://localhost:8080/"
        }
      },
      "source": [
        "!apt-get install python-opengl -y\n",
        "!apt install xvfb -y\n",
        "!pip install pyvirtualdisplay\n",
        "!pip install piglet"
      ],
      "execution_count": 1,
      "outputs": [
        {
          "output_type": "stream",
          "text": [
            "Reading package lists... Done\n",
            "Building dependency tree       \n",
            "Reading state information... Done\n",
            "Suggested packages:\n",
            "  libgle3\n",
            "The following NEW packages will be installed:\n",
            "  python-opengl\n",
            "0 upgraded, 1 newly installed, 0 to remove and 11 not upgraded.\n",
            "Need to get 496 kB of archives.\n",
            "After this operation, 5,416 kB of additional disk space will be used.\n",
            "Get:1 http://archive.ubuntu.com/ubuntu bionic/universe amd64 python-opengl all 3.1.0+dfsg-1 [496 kB]\n",
            "Fetched 496 kB in 1s (436 kB/s)\n",
            "Selecting previously unselected package python-opengl.\n",
            "(Reading database ... 144628 files and directories currently installed.)\n",
            "Preparing to unpack .../python-opengl_3.1.0+dfsg-1_all.deb ...\n",
            "Unpacking python-opengl (3.1.0+dfsg-1) ...\n",
            "Setting up python-opengl (3.1.0+dfsg-1) ...\n",
            "Reading package lists... Done\n",
            "Building dependency tree       \n",
            "Reading state information... Done\n",
            "The following NEW packages will be installed:\n",
            "  xvfb\n",
            "0 upgraded, 1 newly installed, 0 to remove and 11 not upgraded.\n",
            "Need to get 783 kB of archives.\n",
            "After this operation, 2,266 kB of additional disk space will be used.\n",
            "Get:1 http://archive.ubuntu.com/ubuntu bionic-updates/universe amd64 xvfb amd64 2:1.19.6-1ubuntu4.7 [783 kB]\n",
            "Fetched 783 kB in 1s (654 kB/s)\n",
            "Selecting previously unselected package xvfb.\n",
            "(Reading database ... 146983 files and directories currently installed.)\n",
            "Preparing to unpack .../xvfb_2%3a1.19.6-1ubuntu4.7_amd64.deb ...\n",
            "Unpacking xvfb (2:1.19.6-1ubuntu4.7) ...\n",
            "Setting up xvfb (2:1.19.6-1ubuntu4.7) ...\n",
            "Processing triggers for man-db (2.8.3-2ubuntu0.1) ...\n",
            "Collecting pyvirtualdisplay\n",
            "  Downloading https://files.pythonhosted.org/packages/d0/8a/643043cc70791367bee2d19eb20e00ed1a246ac48e5dbe57bbbcc8be40a9/PyVirtualDisplay-1.3.2-py2.py3-none-any.whl\n",
            "Collecting EasyProcess\n",
            "  Downloading https://files.pythonhosted.org/packages/48/3c/75573613641c90c6d094059ac28adb748560d99bd27ee6f80cce398f404e/EasyProcess-0.3-py2.py3-none-any.whl\n",
            "Installing collected packages: EasyProcess, pyvirtualdisplay\n",
            "Successfully installed EasyProcess-0.3 pyvirtualdisplay-1.3.2\n",
            "Collecting piglet\n",
            "  Downloading https://files.pythonhosted.org/packages/11/56/6840e5f45626dc7eb7cd5dff57d11880b3113723b3b7b1fb1fa537855b75/piglet-1.0.0-py2.py3-none-any.whl\n",
            "Collecting piglet-templates\n",
            "\u001b[?25l  Downloading https://files.pythonhosted.org/packages/d0/dc/d628dcdf0b38b8f230e9c2309bfa370d2e3fb95e9e9c260213d10fde91ac/piglet_templates-1.0.0-py3-none-any.whl (63kB)\n",
            "\u001b[K     |████████████████████████████████| 71kB 3.1MB/s \n",
            "\u001b[?25hRequirement already satisfied: attrs in /usr/local/lib/python3.6/dist-packages (from piglet-templates->piglet) (20.2.0)\n",
            "Requirement already satisfied: astunparse in /usr/local/lib/python3.6/dist-packages (from piglet-templates->piglet) (1.6.3)\n",
            "Requirement already satisfied: markupsafe in /usr/local/lib/python3.6/dist-packages (from piglet-templates->piglet) (1.1.1)\n",
            "Collecting Parsley\n",
            "\u001b[?25l  Downloading https://files.pythonhosted.org/packages/2b/d6/4fed8d65e28a970e1c5cb33ce9c7e22e3de745e1b2ae37af051ef16aea3b/Parsley-1.3-py2.py3-none-any.whl (88kB)\n",
            "\u001b[K     |████████████████████████████████| 92kB 6.0MB/s \n",
            "\u001b[?25hRequirement already satisfied: wheel<1.0,>=0.23.0 in /usr/local/lib/python3.6/dist-packages (from astunparse->piglet-templates->piglet) (0.35.1)\n",
            "Requirement already satisfied: six<2.0,>=1.6.1 in /usr/local/lib/python3.6/dist-packages (from astunparse->piglet-templates->piglet) (1.15.0)\n",
            "Installing collected packages: Parsley, piglet-templates, piglet\n",
            "Successfully installed Parsley-1.3 piglet-1.0.0 piglet-templates-1.0.0\n"
          ],
          "name": "stdout"
        }
      ]
    },
    {
      "cell_type": "code",
      "metadata": {
        "id": "kYhrQq7WEmYr"
      },
      "source": [
        "from pyvirtualdisplay import Display\n",
        "Display().start()\n",
        "\n",
        "from IPython import display\n",
        "import matplotlib.pyplot as plt\n",
        "%matplotlib inline\n",
        "\n",
        "import random\n",
        "import gym\n",
        "import numpy as np\n",
        "from collections import deque\n",
        "from keras.models import Sequential\n",
        "from keras.layers import Dense\n",
        "from keras.optimizers import Adam"
      ],
      "execution_count": 2,
      "outputs": []
    },
    {
      "cell_type": "code",
      "metadata": {
        "id": "DXt_cPU5CkIo"
      },
      "source": [
        "class DQNAgent:\n",
        "    def __init__(self, state_size, action_size):\n",
        "        self.state_size = state_size\n",
        "        self.action_size = action_size\n",
        "        self.memory = deque(maxlen=2000)\n",
        "\n",
        "        # hyperparameters\n",
        "        self.gamma = 0.95    # discount rate\n",
        "        self.epsilon = 1.0  # exploration rate\n",
        "        self.epsilon_min = 0.01\n",
        "        self.epsilon_decay = 0.995\n",
        "        self.learning_rate = 0.001\n",
        "        self.model = self._build_model()\n",
        "\n",
        "    def _build_model(self):\n",
        "        # Neural Net for Deep-Q learning Model\n",
        "        model = Sequential()\n",
        "        model.add(Dense(24, input_dim=self.state_size, activation='relu'))\n",
        "        model.add(Dense(24, activation='relu'))\n",
        "        model.add(Dense(self.action_size, activation='linear'))\n",
        "        model.compile(loss='mse', optimizer=Adam(lr=self.learning_rate))\n",
        "        return model\n",
        "\n",
        "    def memorize(self, state, action, reward, next_state, done):\n",
        "        self.memory.append((state, action, reward, next_state, done))\n",
        "\n",
        "    def act(self, state):\n",
        "        if np.random.rand() <= self.epsilon:\n",
        "            return random.randrange(self.action_size)\n",
        "        act_values = self.model.predict(state)\n",
        "        return np.argmax(act_values[0])  # returns action\n",
        "\n",
        "    def replay(self, batch_size):\n",
        "        minibatch = random.sample(self.memory, batch_size)\n",
        "        for state, action, reward, next_state, done in minibatch:\n",
        "            target = reward\n",
        "            if not done:\n",
        "                target = (reward + self.gamma *\n",
        "                          np.amax(self.model.predict(next_state)[0]))\n",
        "            target_f = self.model.predict(state)\n",
        "            target_f[0][action] = target\n",
        "            self.model.fit(state, target_f, epochs=1, verbose=0)\n",
        "        if self.epsilon > self.epsilon_min:\n",
        "            self.epsilon *= self.epsilon_decay\n",
        "\n",
        "    def load(self, name):\n",
        "        self.model.load_weights(name)\n",
        "\n",
        "    def save(self, name):\n",
        "        self.model.save_weights(name)"
      ],
      "execution_count": 3,
      "outputs": []
    },
    {
      "cell_type": "code",
      "metadata": {
        "id": "YZot47aCCoTG",
        "outputId": "3b7e4dd7-f280-44e3-bee2-1c5456447a28",
        "colab": {
          "base_uri": "https://localhost:8080/"
        }
      },
      "source": [
        "if __name__ == \"__main__\":\n",
        "    # creating the environment for Cart Pole\n",
        "    env = gym.make('CartPole-v1')\n",
        "    \n",
        "    # reseting the environment so that it returns the initial state\n",
        "    state = env.reset()\n",
        "\n",
        "    # img = plt.imshow(env.render('rgb_array')) # only call this once\n",
        "    # episode_dict = {}\n",
        "\n",
        "    # board is an 2x2 matrix which is used for saving the states for plotting \n",
        "    board = []\n",
        "\n",
        "    #  There are 4 states for the CartPole  [position of cart, velocity of cart, angle of pole, rotation rate of pole]\n",
        "    state_size = env.observation_space.shape[0]\n",
        "\n",
        "    # There are 2 actions available  [0:Push cart to the left, 1:\tPush cart to the right]\n",
        "    action_size = env.action_space.n\n",
        "\n",
        "    # create an agent instance \n",
        "    agent = DQNAgent(state_size, action_size)\n",
        "\n",
        "    # game is not over so that done is set to False\n",
        "    done = False\n",
        "    # batch_size is for training neural network.\n",
        "    batch_size = 10\n",
        "\n",
        "\n",
        "    # Number of games to play\n",
        "    EPISODES = 60\n",
        "\n",
        "    for e in range(EPISODES):\n",
        "        state = env.reset()\n",
        "        state = np.reshape(state, [1, state_size])\n",
        "\n",
        "        board.append([])\n",
        "\n",
        "        # maximum score is 500. \n",
        "        for time in range(500):\n",
        "        \n",
        "            # saving  each try in each episode to a 2d array. We will use it for visualization later.\n",
        "            board[e].append(env.render('rgb_array'))\n",
        "\n",
        "            #  Perform the action. Either 0 to left ot 1 to right.\n",
        "            action = agent.act(state)\n",
        "            next_state, reward, done, _ = env.step(action)\n",
        "\n",
        "            # check the new state and update the reward\n",
        "            reward = reward if not done else -10\n",
        "            next_state = np.reshape(next_state, [1, state_size])\n",
        "\n",
        "            # Save the previous episodes to use them for training later.\n",
        "            agent.memorize(state, action, reward, next_state, done)\n",
        "            state = next_state\n",
        "\n",
        "            # If we loose the game in the episode, it reports\n",
        "            if done:\n",
        "                print(\"episode: {}/{}, score: {}, e: {:.2}\"\n",
        "                      .format(e, EPISODES, time, agent.epsilon))\n",
        "                break\n",
        "\n",
        "            # If there are enough samples in the memory, use them for training\n",
        "            if len(agent.memory) > batch_size:\n",
        "                agent.replay(batch_size)"
      ],
      "execution_count": 4,
      "outputs": [
        {
          "output_type": "stream",
          "text": [
            "episode: 0/60, score: 25, e: 0.93\n",
            "episode: 1/60, score: 19, e: 0.84\n",
            "episode: 2/60, score: 13, e: 0.79\n",
            "episode: 3/60, score: 17, e: 0.73\n",
            "episode: 4/60, score: 9, e: 0.69\n",
            "episode: 5/60, score: 10, e: 0.66\n",
            "episode: 6/60, score: 12, e: 0.62\n",
            "episode: 7/60, score: 14, e: 0.58\n",
            "episode: 8/60, score: 11, e: 0.55\n",
            "episode: 9/60, score: 9, e: 0.52\n",
            "episode: 10/60, score: 13, e: 0.49\n",
            "episode: 11/60, score: 12, e: 0.46\n",
            "episode: 12/60, score: 8, e: 0.44\n",
            "episode: 13/60, score: 13, e: 0.42\n",
            "episode: 14/60, score: 8, e: 0.4\n",
            "episode: 15/60, score: 14, e: 0.37\n",
            "episode: 16/60, score: 19, e: 0.34\n",
            "episode: 17/60, score: 10, e: 0.32\n",
            "episode: 18/60, score: 8, e: 0.31\n",
            "episode: 19/60, score: 10, e: 0.29\n",
            "episode: 20/60, score: 8, e: 0.28\n",
            "episode: 21/60, score: 8, e: 0.27\n",
            "episode: 22/60, score: 8, e: 0.26\n",
            "episode: 23/60, score: 10, e: 0.25\n",
            "episode: 24/60, score: 11, e: 0.23\n",
            "episode: 25/60, score: 11, e: 0.22\n",
            "episode: 26/60, score: 12, e: 0.21\n",
            "episode: 27/60, score: 9, e: 0.2\n",
            "episode: 28/60, score: 10, e: 0.19\n",
            "episode: 29/60, score: 8, e: 0.18\n",
            "episode: 30/60, score: 8, e: 0.18\n",
            "episode: 31/60, score: 10, e: 0.17\n",
            "episode: 32/60, score: 13, e: 0.16\n",
            "episode: 33/60, score: 11, e: 0.15\n",
            "episode: 34/60, score: 11, e: 0.14\n",
            "episode: 35/60, score: 9, e: 0.13\n",
            "episode: 36/60, score: 9, e: 0.13\n",
            "episode: 37/60, score: 12, e: 0.12\n",
            "episode: 38/60, score: 13, e: 0.11\n",
            "episode: 39/60, score: 13, e: 0.11\n",
            "episode: 40/60, score: 9, e: 0.1\n",
            "episode: 41/60, score: 9, e: 0.097\n",
            "episode: 42/60, score: 11, e: 0.092\n",
            "episode: 43/60, score: 8, e: 0.088\n",
            "episode: 44/60, score: 8, e: 0.084\n",
            "episode: 45/60, score: 8, e: 0.081\n",
            "episode: 46/60, score: 15, e: 0.075\n",
            "episode: 47/60, score: 20, e: 0.068\n",
            "episode: 48/60, score: 37, e: 0.057\n",
            "episode: 49/60, score: 64, e: 0.041\n",
            "episode: 50/60, score: 12, e: 0.039\n",
            "episode: 51/60, score: 42, e: 0.031\n",
            "episode: 52/60, score: 44, e: 0.025\n",
            "episode: 53/60, score: 56, e: 0.019\n",
            "episode: 54/60, score: 23, e: 0.017\n",
            "episode: 55/60, score: 83, e: 0.011\n",
            "episode: 56/60, score: 17, e: 0.01\n",
            "episode: 57/60, score: 17, e: 0.01\n",
            "episode: 58/60, score: 33, e: 0.01\n",
            "episode: 59/60, score: 47, e: 0.01\n"
          ],
          "name": "stdout"
        }
      ]
    },
    {
      "cell_type": "code",
      "metadata": {
        "id": "t7sLhJw8QimW"
      },
      "source": [
        "def show_me_episode(episode_number):\n",
        "  img = plt.imshow(env.render('rgb_array')) # only call this once\n",
        "  for i in range(len(board[episode_number])):\n",
        "    fr = board[episode_number][i]\n",
        "    img.set_data(fr) # just update the data\n",
        "    display.display(plt.gcf())\n",
        "    display.clear_output(wait=True)"
      ],
      "execution_count": null,
      "outputs": []
    },
    {
      "cell_type": "code",
      "metadata": {
        "id": "jrXnFaqTytI5"
      },
      "source": [
        "# To see any specific episode\n",
        "show_me_episode(57)"
      ],
      "execution_count": null,
      "outputs": []
    },
    {
      "cell_type": "code",
      "metadata": {
        "id": "PslvZiX2W4UF",
        "outputId": "e2d90477-d299-41c7-959c-026b9db9d86e",
        "colab": {
          "base_uri": "https://localhost:8080/",
          "height": 269
        }
      },
      "source": [
        "for k in range(len(board)):\n",
        "  show_me_episode(k)"
      ],
      "execution_count": null,
      "outputs": [
        {
          "output_type": "display_data",
          "data": {
            "image/png": "[encoded data removed]",
            "text/plain": [
              "<Figure size 432x288 with 1 Axes>"
            ]
          },
          "metadata": {
            "tags": []
          }
        }
      ]
    }
  ]
}