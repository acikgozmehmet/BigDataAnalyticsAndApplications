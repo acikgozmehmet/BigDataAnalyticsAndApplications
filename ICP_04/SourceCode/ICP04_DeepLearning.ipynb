{
  "nbformat": 4,
  "nbformat_minor": 0,
  "metadata": {
    "colab": {
      "name": "ICP04_DeepLearning.ipynb",
      "provenance": [],
      "collapsed_sections": []
    },
    "kernelspec": {
      "name": "python3",
      "display_name": "Python 3"
    }
  },
  "cells": [
    {
      "cell_type": "code",
      "metadata": {
        "id": "DDK8OcSVkQC6",
        "colab_type": "code",
        "colab": {
          "base_uri": "https://localhost:8080/",
          "height": 890
        },
        "outputId": "c066cb94-249a-4a8d-8f9d-48de4e223d62"
      },
      "source": [
        "# Importing libraries\n",
        "import nltk\n",
        "nltk.download('popular')\n",
        "\n",
        "import pandas as pd\n",
        "import numpy as np\n",
        "import matplotlib.pyplot as plt\n",
        "import re\n",
        "\n",
        "from keras.preprocessing.text import Tokenizer\n",
        "from keras.preprocessing.sequence import pad_sequences\n",
        "from keras.models import Sequential\n",
        "from keras.layers import Dense, Dropout\n",
        "from keras.layers import Flatten\n",
        "from keras.layers.embeddings import Embedding\n",
        "from sklearn.model_selection import train_test_split\n",
        "from nltk.tokenize import sent_tokenize, word_tokenize\n",
        "from nltk.corpus import stopwords\n",
        "from nltk import WordNetLemmatizer\n",
        "from nltk.stem import PorterStemmer\n",
        "from string import punctuation"
      ],
      "execution_count": 1,
      "outputs": [
        {
          "output_type": "stream",
          "text": [
            "[nltk_data] Downloading collection 'popular'\n",
            "[nltk_data]    | \n",
            "[nltk_data]    | Downloading package cmudict to /root/nltk_data...\n",
            "[nltk_data]    |   Package cmudict is already up-to-date!\n",
            "[nltk_data]    | Downloading package gazetteers to /root/nltk_data...\n",
            "[nltk_data]    |   Package gazetteers is already up-to-date!\n",
            "[nltk_data]    | Downloading package genesis to /root/nltk_data...\n",
            "[nltk_data]    |   Package genesis is already up-to-date!\n",
            "[nltk_data]    | Downloading package gutenberg to /root/nltk_data...\n",
            "[nltk_data]    |   Package gutenberg is already up-to-date!\n",
            "[nltk_data]    | Downloading package inaugural to /root/nltk_data...\n",
            "[nltk_data]    |   Package inaugural is already up-to-date!\n",
            "[nltk_data]    | Downloading package movie_reviews to\n",
            "[nltk_data]    |     /root/nltk_data...\n",
            "[nltk_data]    |   Package movie_reviews is already up-to-date!\n",
            "[nltk_data]    | Downloading package names to /root/nltk_data...\n",
            "[nltk_data]    |   Package names is already up-to-date!\n",
            "[nltk_data]    | Downloading package shakespeare to /root/nltk_data...\n",
            "[nltk_data]    |   Package shakespeare is already up-to-date!\n",
            "[nltk_data]    | Downloading package stopwords to /root/nltk_data...\n",
            "[nltk_data]    |   Package stopwords is already up-to-date!\n",
            "[nltk_data]    | Downloading package treebank to /root/nltk_data...\n",
            "[nltk_data]    |   Package treebank is already up-to-date!\n",
            "[nltk_data]    | Downloading package twitter_samples to\n",
            "[nltk_data]    |     /root/nltk_data...\n",
            "[nltk_data]    |   Package twitter_samples is already up-to-date!\n",
            "[nltk_data]    | Downloading package omw to /root/nltk_data...\n",
            "[nltk_data]    |   Package omw is already up-to-date!\n",
            "[nltk_data]    | Downloading package wordnet to /root/nltk_data...\n",
            "[nltk_data]    |   Package wordnet is already up-to-date!\n",
            "[nltk_data]    | Downloading package wordnet_ic to /root/nltk_data...\n",
            "[nltk_data]    |   Package wordnet_ic is already up-to-date!\n",
            "[nltk_data]    | Downloading package words to /root/nltk_data...\n",
            "[nltk_data]    |   Package words is already up-to-date!\n",
            "[nltk_data]    | Downloading package maxent_ne_chunker to\n",
            "[nltk_data]    |     /root/nltk_data...\n",
            "[nltk_data]    |   Package maxent_ne_chunker is already up-to-date!\n",
            "[nltk_data]    | Downloading package punkt to /root/nltk_data...\n",
            "[nltk_data]    |   Package punkt is already up-to-date!\n",
            "[nltk_data]    | Downloading package snowball_data to\n",
            "[nltk_data]    |     /root/nltk_data...\n",
            "[nltk_data]    |   Package snowball_data is already up-to-date!\n",
            "[nltk_data]    | Downloading package averaged_perceptron_tagger to\n",
            "[nltk_data]    |     /root/nltk_data...\n",
            "[nltk_data]    |   Package averaged_perceptron_tagger is already up-\n",
            "[nltk_data]    |       to-date!\n",
            "[nltk_data]    | \n",
            "[nltk_data]  Done downloading collection popular\n"
          ],
          "name": "stdout"
        }
      ]
    },
    {
      "cell_type": "code",
      "metadata": {
        "id": "6fJFH4PjNFTy",
        "colab_type": "code",
        "colab": {}
      },
      "source": [
        "# Defining constants used in the code\n",
        "SAMPLE_PERCENTAGE = 0.10\n",
        "FIRST_N_RECORDS = 10"
      ],
      "execution_count": 2,
      "outputs": []
    },
    {
      "cell_type": "markdown",
      "metadata": {
        "id": "vpnxw_FUmkbh",
        "colab_type": "text"
      },
      "source": [
        "**Reading data and removing unnecessary cloumns and data**\n",
        "\n",
        "\n"
      ]
    },
    {
      "cell_type": "code",
      "metadata": {
        "id": "Edx2lmDckdwc",
        "colab_type": "code",
        "colab": {
          "base_uri": "https://localhost:8080/",
          "height": 366
        },
        "outputId": "988710df-9b07-4f0c-8088-8739e7b9fc96"
      },
      "source": [
        "file_path = 'https://raw.githubusercontent.com/dD2405/Twitter_Sentiment_Analysis/master/train.csv'\n",
        "df = pd.read_csv(file_path, encoding='ISO-8859-1', names=['label','tweet'])\n",
        "\n",
        "# To Remove top row from a dataframe\n",
        "df = df[1:] \n",
        "\n",
        "# To show the full column\n",
        "pd.set_option('display.max_colwidth', None) \n",
        "\n",
        "print(df.shape)\n",
        "df.head(FIRST_N_RECORDS)"
      ],
      "execution_count": 4,
      "outputs": [
        {
          "output_type": "stream",
          "text": [
            "(31962, 2)\n"
          ],
          "name": "stdout"
        },
        {
          "output_type": "execute_result",
          "data": {
            "text/html": [
              "<div>\n",
              "<style scoped>\n",
              "    .dataframe tbody tr th:only-of-type {\n",
              "        vertical-align: middle;\n",
              "    }\n",
              "\n",
              "    .dataframe tbody tr th {\n",
              "        vertical-align: top;\n",
              "    }\n",
              "\n",
              "    .dataframe thead th {\n",
              "        text-align: right;\n",
              "    }\n",
              "</style>\n",
              "<table border=\"1\" class=\"dataframe\">\n",
              "  <thead>\n",
              "    <tr style=\"text-align: right;\">\n",
              "      <th></th>\n",
              "      <th>label</th>\n",
              "      <th>tweet</th>\n",
              "    </tr>\n",
              "  </thead>\n",
              "  <tbody>\n",
              "    <tr>\n",
              "      <th>1</th>\n",
              "      <td>0</td>\n",
              "      <td>@user when a father is dysfunctional and is so selfish he drags his kids into his dysfunction.   #run</td>\n",
              "    </tr>\n",
              "    <tr>\n",
              "      <th>2</th>\n",
              "      <td>0</td>\n",
              "      <td>@user @user thanks for #lyft credit i can't use cause they don't offer wheelchair vans in pdx.    #disapointed #getthanked</td>\n",
              "    </tr>\n",
              "    <tr>\n",
              "      <th>3</th>\n",
              "      <td>0</td>\n",
              "      <td>bihday your majesty</td>\n",
              "    </tr>\n",
              "    <tr>\n",
              "      <th>4</th>\n",
              "      <td>0</td>\n",
              "      <td>#model   i love u take with u all the time in urÃ°ÂÂÂ±!!! Ã°ÂÂÂÃ°ÂÂÂÃ°ÂÂÂÃ°ÂÂÂÃ°ÂÂÂ¦Ã°ÂÂÂ¦Ã°ÂÂÂ¦</td>\n",
              "    </tr>\n",
              "    <tr>\n",
              "      <th>5</th>\n",
              "      <td>0</td>\n",
              "      <td>factsguide: society now    #motivation</td>\n",
              "    </tr>\n",
              "    <tr>\n",
              "      <th>6</th>\n",
              "      <td>0</td>\n",
              "      <td>[2/2] huge fan fare and big talking before they leave. chaos and pay disputes when they get there. #allshowandnogo</td>\n",
              "    </tr>\n",
              "    <tr>\n",
              "      <th>7</th>\n",
              "      <td>0</td>\n",
              "      <td>@user camping tomorrow @user @user @user @user @user @user @user dannyÃ¢ÂÂ¦</td>\n",
              "    </tr>\n",
              "    <tr>\n",
              "      <th>8</th>\n",
              "      <td>0</td>\n",
              "      <td>the next school year is the year for exams.Ã°ÂÂÂ¯ can't think about that Ã°ÂÂÂ­ #school #exams   #hate #imagine #actorslife #revolutionschool #girl</td>\n",
              "    </tr>\n",
              "    <tr>\n",
              "      <th>9</th>\n",
              "      <td>0</td>\n",
              "      <td>we won!!! love the land!!! #allin #cavs #champions #cleveland #clevelandcavaliers  Ã¢ÂÂ¦</td>\n",
              "    </tr>\n",
              "    <tr>\n",
              "      <th>10</th>\n",
              "      <td>0</td>\n",
              "      <td>@user @user welcome here !  i'm   it's so #gr8 !</td>\n",
              "    </tr>\n",
              "  </tbody>\n",
              "</table>\n",
              "</div>"
            ],
            "text/plain": [
              "   label                                                                                                                                                    tweet\n",
              "1      0                                                    @user when a father is dysfunctional and is so selfish he drags his kids into his dysfunction.   #run\n",
              "2      0                               @user @user thanks for #lyft credit i can't use cause they don't offer wheelchair vans in pdx.    #disapointed #getthanked\n",
              "3      0                                                                                                                                      bihday your majesty\n",
              "4      0                                   #model   i love u take with u all the time in urÃ°ÂÂÂ±!!! Ã°ÂÂÂÃ°ÂÂÂÃ°ÂÂÂÃ°ÂÂÂ\n",
              "Ã°ÂÂÂ¦Ã°ÂÂÂ¦Ã°ÂÂÂ¦  \n",
              "5      0                                                                                                                   factsguide: society now    #motivation\n",
              "6      0                                     [2/2] huge fan fare and big talking before they leave. chaos and pay disputes when they get there. #allshowandnogo  \n",
              "7      0                                                                             @user camping tomorrow @user @user @user @user @user @user @user dannyÃ¢ÂÂ¦\n",
              "8      0  the next school year is the year for exams.Ã°ÂÂÂ¯ can't think about that Ã°ÂÂÂ­ #school #exams   #hate #imagine #actorslife #revolutionschool #girl\n",
              "9      0                                                               we won!!! love the land!!! #allin #cavs #champions #cleveland #clevelandcavaliers  Ã¢ÂÂ¦ \n",
              "10     0                                                                                                        @user @user welcome here !  i'm   it's so #gr8 ! "
            ]
          },
          "metadata": {
            "tags": []
          },
          "execution_count": 4
        }
      ]
    },
    {
      "cell_type": "markdown",
      "metadata": {
        "id": "19HTHZNnvukB",
        "colab_type": "text"
      },
      "source": [
        "**To get some percentage of the data as sample for modelling in terms of reducing the computation burden**"
      ]
    },
    {
      "cell_type": "code",
      "metadata": {
        "id": "pw1lHbAEuxvW",
        "colab_type": "code",
        "colab": {
          "base_uri": "https://localhost:8080/",
          "height": 54
        },
        "outputId": "b1f76022-993f-4d26-efd9-2e2b207d450f"
      },
      "source": [
        "sample_size = int(np.array(df.shape[0])*SAMPLE_PERCENTAGE)\n",
        "df = df.sample(sample_size, replace=False)\n",
        "print(f\"Sample size is {sample_size}\")\n",
        "print(f\"Sample data dimension is {df.shape}\")\n"
      ],
      "execution_count": 5,
      "outputs": [
        {
          "output_type": "stream",
          "text": [
            "Sample size is 3196\n",
            "Sample data dimension is (3196, 2)\n"
          ],
          "name": "stdout"
        }
      ]
    },
    {
      "cell_type": "code",
      "metadata": {
        "id": "6uw8z9PZtUZA",
        "colab_type": "code",
        "colab": {
          "base_uri": "https://localhost:8080/",
          "height": 348
        },
        "outputId": "67c3d466-003e-44c9-d2a6-845dcfb37f8e"
      },
      "source": [
        "df.head(FIRST_N_RECORDS)"
      ],
      "execution_count": 6,
      "outputs": [
        {
          "output_type": "execute_result",
          "data": {
            "text/html": [
              "<div>\n",
              "<style scoped>\n",
              "    .dataframe tbody tr th:only-of-type {\n",
              "        vertical-align: middle;\n",
              "    }\n",
              "\n",
              "    .dataframe tbody tr th {\n",
              "        vertical-align: top;\n",
              "    }\n",
              "\n",
              "    .dataframe thead th {\n",
              "        text-align: right;\n",
              "    }\n",
              "</style>\n",
              "<table border=\"1\" class=\"dataframe\">\n",
              "  <thead>\n",
              "    <tr style=\"text-align: right;\">\n",
              "      <th></th>\n",
              "      <th>label</th>\n",
              "      <th>tweet</th>\n",
              "    </tr>\n",
              "  </thead>\n",
              "  <tbody>\n",
              "    <tr>\n",
              "      <th>30563</th>\n",
              "      <td>0</td>\n",
              "      <td>i cannot wait to go see finding dory! Ã°ÂÂÂÃ°ÂÂÂÃ°ÂÂÂÃ°ÂÂÂ  #findingdory #cantwait</td>\n",
              "    </tr>\n",
              "    <tr>\n",
              "      <th>4513</th>\n",
              "      <td>1</td>\n",
              "      <td>video men and womenmalayalam girl with dreads porn video</td>\n",
              "    </tr>\n",
              "    <tr>\n",
              "      <th>13946</th>\n",
              "      <td>0</td>\n",
              "      <td>@user well here i am...just waiting...all alone...   #lonely #writing #amwriting #scifi #novel #author</td>\n",
              "    </tr>\n",
              "    <tr>\n",
              "      <th>4188</th>\n",
              "      <td>0</td>\n",
              "      <td>passenger hits brooklyn bus driver with bottle after argument #jobs #jobsearch #news: #an irate passen...</td>\n",
              "    </tr>\n",
              "    <tr>\n",
              "      <th>11391</th>\n",
              "      <td>0</td>\n",
              "      <td>@user and now we've got @user   #fangirling @user</td>\n",
              "    </tr>\n",
              "    <tr>\n",
              "      <th>21857</th>\n",
              "      <td>0</td>\n",
              "      <td>@user @user i saw the rubik's cube in my prof's office and fell in love bc i love matlab so much. and i lost it in a library :(</td>\n",
              "    </tr>\n",
              "    <tr>\n",
              "      <th>1435</th>\n",
              "      <td>0</td>\n",
              "      <td>i am thankful for vacation days. #thankful #positive</td>\n",
              "    </tr>\n",
              "    <tr>\n",
              "      <th>13726</th>\n",
              "      <td>0</td>\n",
              "      <td>@user agreed, if you study the history of the united states, we always put others down that are different than the status quo</td>\n",
              "    </tr>\n",
              "    <tr>\n",
              "      <th>22576</th>\n",
              "      <td>0</td>\n",
              "      <td>@user 3 more sleeps until @user Ã°ÂÂÂ´Ã°ÂÂÂ´Ã°ÂÂÂ´   #hurryup  @user @user @user @user #conquercancer</td>\n",
              "    </tr>\n",
              "    <tr>\n",
              "      <th>1239</th>\n",
              "      <td>0</td>\n",
              "      <td>stay tuned! saint issue #4 is at the printers!   #comics #makecomics</td>\n",
              "    </tr>\n",
              "  </tbody>\n",
              "</table>\n",
              "</div>"
            ],
            "text/plain": [
              "      label                                                                                                                              tweet\n",
              "30563     0                                    i cannot wait to go see finding dory! Ã°ÂÂÂÃ°ÂÂÂÃ°ÂÂÂÃ°ÂÂÂ  #findingdory #cantwait  \n",
              "4513      1                                                                          video men and womenmalayalam girl with dreads porn video \n",
              "13946     0                             @user well here i am...just waiting...all alone...   #lonely #writing #amwriting #scifi #novel #author\n",
              "4188      0                         passenger hits brooklyn bus driver with bottle after argument #jobs #jobsearch #news: #an irate passen... \n",
              "11391     0                                                                                 @user and now we've got @user   #fangirling @user \n",
              "21857     0  @user @user i saw the rubik's cube in my prof's office and fell in love bc i love matlab so much. and i lost it in a library :(  \n",
              "1435      0                                                                          i am thankful for vacation days. #thankful #positive     \n",
              "13726     0    @user agreed, if you study the history of the united states, we always put others down that are different than the status quo  \n",
              "22576     0                       @user 3 more sleeps until @user Ã°ÂÂÂ´Ã°ÂÂÂ´Ã°ÂÂÂ´   #hurryup  @user @user @user @user #conquercancer \n",
              "1239      0                                                             stay tuned! saint issue #4 is at the printers!   #comics #makecomics  "
            ]
          },
          "metadata": {
            "tags": []
          },
          "execution_count": 6
        }
      ]
    },
    {
      "cell_type": "markdown",
      "metadata": {
        "id": "0p7UJZDVrk7o",
        "colab_type": "text"
      },
      "source": [
        "**Removing the Twitter Handles and Hashtags**\n",
        "\n",
        "\n"
      ]
    },
    {
      "cell_type": "code",
      "metadata": {
        "id": "hYvmBWpMqJBw",
        "colab_type": "code",
        "colab": {}
      },
      "source": [
        "def remove_pattern(input_txt, pattern):\n",
        "  '''\n",
        "  This removes the twitter handles from the pandas dataframe\n",
        "  https://stackoverflow.com/questions/50830214/remove-usernames-from-twitter-data-using-python \n",
        "\n",
        "  '''\n",
        "  r = re.findall(pattern, input_txt)\n",
        "  for i in r:\n",
        "      input_txt = re.sub(i, '', input_txt)\n",
        "  return input_txt    "
      ],
      "execution_count": 7,
      "outputs": []
    },
    {
      "cell_type": "code",
      "metadata": {
        "id": "2u8536p_tit0",
        "colab_type": "code",
        "colab": {
          "base_uri": "https://localhost:8080/",
          "height": 348
        },
        "outputId": "989e5cb6-bcf4-4e3b-ccb5-36ae5099cc42"
      },
      "source": [
        "# To remove the twitter handles\n",
        "df['tweet'] = np.vectorize(remove_pattern)(df['tweet'], \"@[\\w]*\") \n",
        "df.head(FIRST_N_RECORDS)"
      ],
      "execution_count": 8,
      "outputs": [
        {
          "output_type": "execute_result",
          "data": {
            "text/html": [
              "<div>\n",
              "<style scoped>\n",
              "    .dataframe tbody tr th:only-of-type {\n",
              "        vertical-align: middle;\n",
              "    }\n",
              "\n",
              "    .dataframe tbody tr th {\n",
              "        vertical-align: top;\n",
              "    }\n",
              "\n",
              "    .dataframe thead th {\n",
              "        text-align: right;\n",
              "    }\n",
              "</style>\n",
              "<table border=\"1\" class=\"dataframe\">\n",
              "  <thead>\n",
              "    <tr style=\"text-align: right;\">\n",
              "      <th></th>\n",
              "      <th>label</th>\n",
              "      <th>tweet</th>\n",
              "    </tr>\n",
              "  </thead>\n",
              "  <tbody>\n",
              "    <tr>\n",
              "      <th>30563</th>\n",
              "      <td>0</td>\n",
              "      <td>i cannot wait to go see finding dory! Ã°ÂÂÂÃ°ÂÂÂÃ°ÂÂÂÃ°ÂÂÂ  #findingdory #cantwait</td>\n",
              "    </tr>\n",
              "    <tr>\n",
              "      <th>4513</th>\n",
              "      <td>1</td>\n",
              "      <td>video men and womenmalayalam girl with dreads porn video</td>\n",
              "    </tr>\n",
              "    <tr>\n",
              "      <th>13946</th>\n",
              "      <td>0</td>\n",
              "      <td>well here i am...just waiting...all alone...   #lonely #writing #amwriting #scifi #novel #author</td>\n",
              "    </tr>\n",
              "    <tr>\n",
              "      <th>4188</th>\n",
              "      <td>0</td>\n",
              "      <td>passenger hits brooklyn bus driver with bottle after argument #jobs #jobsearch #news: #an irate passen...</td>\n",
              "    </tr>\n",
              "    <tr>\n",
              "      <th>11391</th>\n",
              "      <td>0</td>\n",
              "      <td>and now we've got    #fangirling</td>\n",
              "    </tr>\n",
              "    <tr>\n",
              "      <th>21857</th>\n",
              "      <td>0</td>\n",
              "      <td>i saw the rubik's cube in my prof's office and fell in love bc i love matlab so much. and i lost it in a library :(</td>\n",
              "    </tr>\n",
              "    <tr>\n",
              "      <th>1435</th>\n",
              "      <td>0</td>\n",
              "      <td>i am thankful for vacation days. #thankful #positive</td>\n",
              "    </tr>\n",
              "    <tr>\n",
              "      <th>13726</th>\n",
              "      <td>0</td>\n",
              "      <td>agreed, if you study the history of the united states, we always put others down that are different than the status quo</td>\n",
              "    </tr>\n",
              "    <tr>\n",
              "      <th>22576</th>\n",
              "      <td>0</td>\n",
              "      <td>3 more sleeps until  Ã°ÂÂÂ´Ã°ÂÂÂ´Ã°ÂÂÂ´   #hurryup      #conquercancer</td>\n",
              "    </tr>\n",
              "    <tr>\n",
              "      <th>1239</th>\n",
              "      <td>0</td>\n",
              "      <td>stay tuned! saint issue #4 is at the printers!   #comics #makecomics</td>\n",
              "    </tr>\n",
              "  </tbody>\n",
              "</table>\n",
              "</div>"
            ],
            "text/plain": [
              "      label                                                                                                                       tweet\n",
              "30563     0                             i cannot wait to go see finding dory! Ã°ÂÂÂÃ°ÂÂÂÃ°ÂÂÂÃ°ÂÂÂ  #findingdory #cantwait  \n",
              "4513      1                                                                   video men and womenmalayalam girl with dreads porn video \n",
              "13946     0                            well here i am...just waiting...all alone...   #lonely #writing #amwriting #scifi #novel #author\n",
              "4188      0                  passenger hits brooklyn bus driver with bottle after argument #jobs #jobsearch #news: #an irate passen... \n",
              "11391     0                                                                                          and now we've got    #fangirling  \n",
              "21857     0       i saw the rubik's cube in my prof's office and fell in love bc i love matlab so much. and i lost it in a library :(  \n",
              "1435      0                                                                   i am thankful for vacation days. #thankful #positive     \n",
              "13726     0   agreed, if you study the history of the united states, we always put others down that are different than the status quo  \n",
              "22576     0                                               3 more sleeps until  Ã°ÂÂÂ´Ã°ÂÂÂ´Ã°ÂÂÂ´   #hurryup      #conquercancer \n",
              "1239      0                                                      stay tuned! saint issue #4 is at the printers!   #comics #makecomics  "
            ]
          },
          "metadata": {
            "tags": []
          },
          "execution_count": 8
        }
      ]
    },
    {
      "cell_type": "code",
      "metadata": {
        "id": "9JIAUZXjepgl",
        "colab_type": "code",
        "colab": {}
      },
      "source": [
        ""
      ],
      "execution_count": 8,
      "outputs": []
    },
    {
      "cell_type": "markdown",
      "metadata": {
        "id": "i91xi-jI9ijj",
        "colab_type": "text"
      },
      "source": [
        "**Creating the set of stopwords and punctuation**"
      ]
    },
    {
      "cell_type": "code",
      "metadata": {
        "id": "TKmSETOTguNQ",
        "colab_type": "code",
        "colab": {
          "base_uri": "https://localhost:8080/",
          "height": 74
        },
        "outputId": "2e723759-aa4d-4b18-ce46-66686e7a0afa"
      },
      "source": [
        "stop_words = set(stopwords.words('english')+list(punctuation))\n",
        "print(f'Number of stopwords : {len(stop_words)}')\n",
        "print(stop_words)"
      ],
      "execution_count": 9,
      "outputs": [
        {
          "output_type": "stream",
          "text": [
            "Number of stopwords : 211\n",
            "{'herself', 'again', 'those', 'himself', \"it's\", 'd', 've', '\\\\', 'these', 't', 'does', 'through', '<', 'further', 'at', \"wouldn't\", 'few', 'against', 'wouldn', 'haven', 'don', 'both', '!', '$', 'am', 'has', 'do', 'while', ',', 'about', 'into', 'which', 'doesn', \"haven't\", '=', '@', '.', '/', 'as', 'so', 'couldn', 'whom', 'wasn', '+', 'more', \"shan't\", 'been', 'you', \"you've\", 'nor', 'very', 'will', '~', 'a', '>', 'myself', \"she's\", 'here', 'me', 'up', 'when', 'now', 'below', 'have', 'not', 'each', 'during', '#', 'until', \"hadn't\", 'too', 'mustn', \"shouldn't\", 'be', '?', 'who', 'had', '[', \"hasn't\", 'm', ']', \"wasn't\", \"mightn't\", 'shan', 'for', 'did', 's', \"aren't\", \"won't\", '*', 'i', 'out', 'y', 'over', 'are', ')', \"isn't\", 'it', 'is', 'there', 'if', 'needn', 'yours', 'other', 'theirs', 'than', 'ma', 'after', 'off', 'an', 'should', 'in', 'can', 'shouldn', 'before', 'them', 'itself', '%', 'by', 'having', 'being', 'hers', 'such', '&', \"didn't\", 'what', 'all', 'my', 'from', \"don't\", 'yourselves', 'that', 'we', 'didn', 'on', 'was', 're', 'won', '`', 'because', \"you'd\", \"you'll\", 'your', 'our', \"you're\", '\"', '(', 'above', \"needn't\", 'or', 'only', 'isn', 'his', 'yourself', \"weren't\", 'where', '{', 'him', 'they', 'then', 'but', '|', 'between', 'mightn', 'how', 'of', 'ourselves', 'weren', 'with', 'hadn', \"couldn't\", 'most', ':', 'her', \"doesn't\", 'this', '_', 'were', 'doing', \"mustn't\", 'under', 'once', 'the', 'down', 'some', 'own', 'same', \"'\", '^', 'she', '-', ';', 'why', \"should've\", 'aren', '}', 'to', 'ours', 'its', 'just', 'no', 'o', 'ain', 'll', 'hasn', 'he', 'their', 'and', 'themselves', \"that'll\", 'any'}\n"
          ],
          "name": "stdout"
        }
      ]
    },
    {
      "cell_type": "code",
      "metadata": {
        "id": "7WV3p1jnewxM",
        "colab_type": "code",
        "colab": {}
      },
      "source": [
        "# Cretaing the lemmatizer and stemmer\n",
        "lemmatizer = WordNetLemmatizer() \n",
        "stemmer = PorterStemmer() "
      ],
      "execution_count": 10,
      "outputs": []
    },
    {
      "cell_type": "code",
      "metadata": {
        "id": "jOxIPoy2gTBk",
        "colab_type": "code",
        "colab": {}
      },
      "source": [
        "def clean_tweet_data(text):\n",
        "  ''' \n",
        "     input : tweet data as pandas.series \n",
        "\n",
        "     returns: list of sentences which meet these requirements : lemmatized, lowercase, alpha and non-stopwords\n",
        "  '''\n",
        "  cleaned_tweet_list = []\n",
        "  for sentence in  text.to_list():\n",
        "    words = [lemmatizer.lemmatize(word) for word in word_tokenize(sentence.lower()) if ((word.isalpha()== True) & (word not in stop_words))]\n",
        "    newsentence = (\" \".join(words)).strip()\n",
        "    cleaned_tweet_list.append(newsentence)\n",
        "\n",
        "  return cleaned_tweet_list\n",
        "\n"
      ],
      "execution_count": 11,
      "outputs": []
    },
    {
      "cell_type": "code",
      "metadata": {
        "id": "jyHBdnVBE0A3",
        "colab_type": "code",
        "colab": {
          "base_uri": "https://localhost:8080/",
          "height": 199
        },
        "outputId": "eb3922a5-b5ea-418b-d290-6dbfcae59bf7"
      },
      "source": [
        "cleaned_sentences = clean_tweet_data(df.tweet)\n",
        "cleaned_sentences[:FIRST_N_RECORDS]\n"
      ],
      "execution_count": 12,
      "outputs": [
        {
          "output_type": "execute_result",
          "data": {
            "text/plain": [
              "['wait go see finding dory findingdory cantwait',\n",
              " 'video men womenmalayalam girl dread porn video',\n",
              " 'well waiting alone lonely writing amwriting scifi novel author',\n",
              " 'passenger hit brooklyn bus driver bottle argument job jobsearch news irate passen',\n",
              " 'got fangirling',\n",
              " 'saw rubik cube prof office fell love bc love matlab much lost library',\n",
              " 'thankful vacation day thankful positive',\n",
              " 'agreed study history united state always put others different status quo',\n",
              " 'sleep hurryup conquercancer',\n",
              " 'stay tuned saint issue printer comic makecomics']"
            ]
          },
          "metadata": {
            "tags": []
          },
          "execution_count": 12
        }
      ]
    },
    {
      "cell_type": "code",
      "metadata": {
        "id": "jJ48YjLQhtp2",
        "colab_type": "code",
        "colab": {
          "base_uri": "https://localhost:8080/",
          "height": 348
        },
        "outputId": "939f74f6-c19e-405f-bb06-617991cfbe0c"
      },
      "source": [
        "# Regenarate the df\n",
        "df = pd.DataFrame(zip(df.label.to_list(), cleaned_sentences), columns=['label','tweet'])\n",
        "df.head(FIRST_N_RECORDS)"
      ],
      "execution_count": 13,
      "outputs": [
        {
          "output_type": "execute_result",
          "data": {
            "text/html": [
              "<div>\n",
              "<style scoped>\n",
              "    .dataframe tbody tr th:only-of-type {\n",
              "        vertical-align: middle;\n",
              "    }\n",
              "\n",
              "    .dataframe tbody tr th {\n",
              "        vertical-align: top;\n",
              "    }\n",
              "\n",
              "    .dataframe thead th {\n",
              "        text-align: right;\n",
              "    }\n",
              "</style>\n",
              "<table border=\"1\" class=\"dataframe\">\n",
              "  <thead>\n",
              "    <tr style=\"text-align: right;\">\n",
              "      <th></th>\n",
              "      <th>label</th>\n",
              "      <th>tweet</th>\n",
              "    </tr>\n",
              "  </thead>\n",
              "  <tbody>\n",
              "    <tr>\n",
              "      <th>0</th>\n",
              "      <td>0</td>\n",
              "      <td>wait go see finding dory findingdory cantwait</td>\n",
              "    </tr>\n",
              "    <tr>\n",
              "      <th>1</th>\n",
              "      <td>1</td>\n",
              "      <td>video men womenmalayalam girl dread porn video</td>\n",
              "    </tr>\n",
              "    <tr>\n",
              "      <th>2</th>\n",
              "      <td>0</td>\n",
              "      <td>well waiting alone lonely writing amwriting scifi novel author</td>\n",
              "    </tr>\n",
              "    <tr>\n",
              "      <th>3</th>\n",
              "      <td>0</td>\n",
              "      <td>passenger hit brooklyn bus driver bottle argument job jobsearch news irate passen</td>\n",
              "    </tr>\n",
              "    <tr>\n",
              "      <th>4</th>\n",
              "      <td>0</td>\n",
              "      <td>got fangirling</td>\n",
              "    </tr>\n",
              "    <tr>\n",
              "      <th>5</th>\n",
              "      <td>0</td>\n",
              "      <td>saw rubik cube prof office fell love bc love matlab much lost library</td>\n",
              "    </tr>\n",
              "    <tr>\n",
              "      <th>6</th>\n",
              "      <td>0</td>\n",
              "      <td>thankful vacation day thankful positive</td>\n",
              "    </tr>\n",
              "    <tr>\n",
              "      <th>7</th>\n",
              "      <td>0</td>\n",
              "      <td>agreed study history united state always put others different status quo</td>\n",
              "    </tr>\n",
              "    <tr>\n",
              "      <th>8</th>\n",
              "      <td>0</td>\n",
              "      <td>sleep hurryup conquercancer</td>\n",
              "    </tr>\n",
              "    <tr>\n",
              "      <th>9</th>\n",
              "      <td>0</td>\n",
              "      <td>stay tuned saint issue printer comic makecomics</td>\n",
              "    </tr>\n",
              "  </tbody>\n",
              "</table>\n",
              "</div>"
            ],
            "text/plain": [
              "  label                                                                              tweet\n",
              "0     0                                      wait go see finding dory findingdory cantwait\n",
              "1     1                                     video men womenmalayalam girl dread porn video\n",
              "2     0                     well waiting alone lonely writing amwriting scifi novel author\n",
              "3     0  passenger hit brooklyn bus driver bottle argument job jobsearch news irate passen\n",
              "4     0                                                                     got fangirling\n",
              "5     0              saw rubik cube prof office fell love bc love matlab much lost library\n",
              "6     0                                            thankful vacation day thankful positive\n",
              "7     0           agreed study history united state always put others different status quo\n",
              "8     0                                                        sleep hurryup conquercancer\n",
              "9     0                                    stay tuned saint issue printer comic makecomics"
            ]
          },
          "metadata": {
            "tags": []
          },
          "execution_count": 13
        }
      ]
    },
    {
      "cell_type": "code",
      "metadata": {
        "id": "1WQiJilKuvky",
        "colab_type": "code",
        "colab": {
          "base_uri": "https://localhost:8080/",
          "height": 35
        },
        "outputId": "39edeb68-eb95-412e-be5d-d1c7892dff48"
      },
      "source": [
        "df.shape"
      ],
      "execution_count": 14,
      "outputs": [
        {
          "output_type": "execute_result",
          "data": {
            "text/plain": [
              "(3196, 2)"
            ]
          },
          "metadata": {
            "tags": []
          },
          "execution_count": 14
        }
      ]
    },
    {
      "cell_type": "code",
      "metadata": {
        "id": "TYcKlGulE5DZ",
        "colab_type": "code",
        "colab": {}
      },
      "source": [
        "# Removing duplicate records\n",
        "def drop_duplicate_records(df):\n",
        "  num_of_duplicate_records = len(df)-len(df.drop_duplicates(inplace=False))\n",
        "  df.drop_duplicates(inplace=True)\n",
        "  print(f\"{num_of_duplicate_records} duplicate records are dropped.\\nThe number of unique records is {df.shape[0]}\")"
      ],
      "execution_count": 15,
      "outputs": []
    },
    {
      "cell_type": "code",
      "metadata": {
        "id": "YG5Jk0gFUtWw",
        "colab_type": "code",
        "colab": {
          "base_uri": "https://localhost:8080/",
          "height": 54
        },
        "outputId": "3ed5fdbd-aede-4310-d208-bf69ea13b91d"
      },
      "source": [
        "drop_duplicate_records(df)"
      ],
      "execution_count": 16,
      "outputs": [
        {
          "output_type": "stream",
          "text": [
            "165 duplicate records are dropped.\n",
            "The number of unique records is 3031\n"
          ],
          "name": "stdout"
        }
      ]
    },
    {
      "cell_type": "code",
      "metadata": {
        "id": "rJfCO6r3ucFu",
        "colab_type": "code",
        "colab": {
          "base_uri": "https://localhost:8080/",
          "height": 168
        },
        "outputId": "657cee67-5b37-4240-adb9-7c8f6d696c13"
      },
      "source": [
        "# To explore the data\n",
        "df.describe()"
      ],
      "execution_count": 17,
      "outputs": [
        {
          "output_type": "execute_result",
          "data": {
            "text/html": [
              "<div>\n",
              "<style scoped>\n",
              "    .dataframe tbody tr th:only-of-type {\n",
              "        vertical-align: middle;\n",
              "    }\n",
              "\n",
              "    .dataframe tbody tr th {\n",
              "        vertical-align: top;\n",
              "    }\n",
              "\n",
              "    .dataframe thead th {\n",
              "        text-align: right;\n",
              "    }\n",
              "</style>\n",
              "<table border=\"1\" class=\"dataframe\">\n",
              "  <thead>\n",
              "    <tr style=\"text-align: right;\">\n",
              "      <th></th>\n",
              "      <th>label</th>\n",
              "      <th>tweet</th>\n",
              "    </tr>\n",
              "  </thead>\n",
              "  <tbody>\n",
              "    <tr>\n",
              "      <th>count</th>\n",
              "      <td>3031</td>\n",
              "      <td>3031</td>\n",
              "    </tr>\n",
              "    <tr>\n",
              "      <th>unique</th>\n",
              "      <td>2</td>\n",
              "      <td>3030</td>\n",
              "    </tr>\n",
              "    <tr>\n",
              "      <th>top</th>\n",
              "      <td>0</td>\n",
              "      <td></td>\n",
              "    </tr>\n",
              "    <tr>\n",
              "      <th>freq</th>\n",
              "      <td>2802</td>\n",
              "      <td>2</td>\n",
              "    </tr>\n",
              "  </tbody>\n",
              "</table>\n",
              "</div>"
            ],
            "text/plain": [
              "       label tweet\n",
              "count   3031  3031\n",
              "unique     2  3030\n",
              "top        0      \n",
              "freq    2802     2"
            ]
          },
          "metadata": {
            "tags": []
          },
          "execution_count": 17
        }
      ]
    },
    {
      "cell_type": "code",
      "metadata": {
        "id": "l0uxYShh8BLh",
        "colab_type": "code",
        "colab": {
          "base_uri": "https://localhost:8080/",
          "height": 72
        },
        "outputId": "6ce106aa-d508-4f0b-a4c3-f5ea21f139a5"
      },
      "source": [
        "# To check the missing/null values\n",
        "df.isnull().sum()"
      ],
      "execution_count": 18,
      "outputs": [
        {
          "output_type": "execute_result",
          "data": {
            "text/plain": [
              "label    0\n",
              "tweet    0\n",
              "dtype: int64"
            ]
          },
          "metadata": {
            "tags": []
          },
          "execution_count": 18
        }
      ]
    },
    {
      "cell_type": "code",
      "metadata": {
        "id": "GUkJXUHI5Pk9",
        "colab_type": "code",
        "colab": {
          "base_uri": "https://localhost:8080/",
          "height": 72
        },
        "outputId": "ef7779ec-a957-4c6f-cf2c-131d27f112ac"
      },
      "source": [
        "\n",
        "df.label.value_counts()"
      ],
      "execution_count": 19,
      "outputs": [
        {
          "output_type": "execute_result",
          "data": {
            "text/plain": [
              "0    2802\n",
              "1     229\n",
              "Name: label, dtype: int64"
            ]
          },
          "metadata": {
            "tags": []
          },
          "execution_count": 19
        }
      ]
    },
    {
      "cell_type": "code",
      "metadata": {
        "id": "Gp4b-K8jsivY",
        "colab_type": "code",
        "colab": {
          "base_uri": "https://localhost:8080/",
          "height": 370
        },
        "outputId": "cb41327d-423c-44c2-e473-ceed91a3527b"
      },
      "source": [
        "import seaborn as sns\n",
        "fig= plt.figure(figsize=(3,5))\n",
        "\n",
        "\n",
        "sns.countplot(x='label', data = df);"
      ],
      "execution_count": 20,
      "outputs": [
        {
          "output_type": "stream",
          "text": [
            "/usr/local/lib/python3.6/dist-packages/statsmodels/tools/_testing.py:19: FutureWarning: pandas.util.testing is deprecated. Use the functions in the public API at pandas.testing instead.\n",
            "  import pandas.util.testing as tm\n"
          ],
          "name": "stderr"
        },
        {
          "output_type": "display_data",
          "data": {
            "image/png": "[encoded data removed]",
            "text/plain": [
              "<Figure size 216x360 with 1 Axes>"
            ]
          },
          "metadata": {
            "tags": [],
            "needs_background": "light"
          }
        }
      ]
    },
    {
      "cell_type": "code",
      "metadata": {
        "id": "iyE9mx15iEbx",
        "colab_type": "code",
        "colab": {}
      },
      "source": [
        ""
      ],
      "execution_count": 20,
      "outputs": []
    },
    {
      "cell_type": "code",
      "metadata": {
        "id": "GvlDf98lFOpS",
        "colab_type": "code",
        "colab": {
          "base_uri": "https://localhost:8080/",
          "height": 199
        },
        "outputId": "4127c372-850b-43a5-f6e9-7b692b23f794"
      },
      "source": [
        "# Determining the most common words in all words\n",
        "words = word_tokenize(\" \".join(df.tweet.to_list()))\n",
        "\n",
        "from nltk.probability import FreqDist\n",
        "freq_dist= FreqDist(words)\n",
        "freq_dist.most_common(10)"
      ],
      "execution_count": 21,
      "outputs": [
        {
          "output_type": "execute_result",
          "data": {
            "text/plain": [
              "[('day', 270),\n",
              " ('love', 259),\n",
              " ('amp', 195),\n",
              " ('happy', 148),\n",
              " ('life', 113),\n",
              " ('today', 108),\n",
              " ('new', 108),\n",
              " ('like', 104),\n",
              " ('u', 102),\n",
              " ('get', 96)]"
            ]
          },
          "metadata": {
            "tags": []
          },
          "execution_count": 21
        }
      ]
    },
    {
      "cell_type": "code",
      "metadata": {
        "id": "E2vsF4tSFdOL",
        "colab_type": "code",
        "colab": {
          "base_uri": "https://localhost:8080/",
          "height": 409
        },
        "outputId": "5b6fc8e3-32f8-4cda-8037-ee156f674334"
      },
      "source": [
        "fig= plt.figure(figsize=(12,6))\n",
        "freq_dist.plot(10)"
      ],
      "execution_count": 22,
      "outputs": [
        {
          "output_type": "display_data",
          "data": {
            "image/png": "[encoded data removed]",
            "text/plain": [
              "<Figure size 864x432 with 1 Axes>"
            ]
          },
          "metadata": {
            "tags": [],
            "needs_background": "light"
          }
        }
      ]
    },
    {
      "cell_type": "code",
      "metadata": {
        "id": "vWgKhWTYiDuq",
        "colab_type": "code",
        "colab": {}
      },
      "source": [
        "word_tokenizer = Tokenizer()\n",
        "word_tokenizer.fit_on_texts(df.tweet.to_list())"
      ],
      "execution_count": 23,
      "outputs": []
    },
    {
      "cell_type": "code",
      "metadata": {
        "id": "XGaAtNyQixi9",
        "colab_type": "code",
        "colab": {
          "base_uri": "https://localhost:8080/",
          "height": 35
        },
        "outputId": "4597c2f1-ade6-4543-ea53-c8b33c8c9cb3"
      },
      "source": [
        "vocab_length = len(word_tokenizer.word_index)+1\n",
        "print(f'vocab_length : {vocab_length}')"
      ],
      "execution_count": 24,
      "outputs": [
        {
          "output_type": "stream",
          "text": [
            "vocab_length : 7552\n"
          ],
          "name": "stdout"
        }
      ]
    },
    {
      "cell_type": "code",
      "metadata": {
        "id": "tlfDyp7UiyTC",
        "colab_type": "code",
        "colab": {
          "base_uri": "https://localhost:8080/",
          "height": 199
        },
        "outputId": "9895ef1e-de06-458b-c947-628bd521ce77"
      },
      "source": [
        "embedded_sentences = word_tokenizer.texts_to_sequences(df.tweet.to_list())\n",
        "embedded_sentences[:FIRST_N_RECORDS]"
      ],
      "execution_count": 25,
      "outputs": [
        {
          "output_type": "execute_result",
          "data": {
            "text/plain": [
              "[[40, 20, 16, 442, 1125, 866, 867],\n",
              " [79, 252, 2508, 29, 2509, 354, 79],\n",
              " [103, 508, 308, 868, 713, 869, 1554, 1555, 870],\n",
              " [1556, 610, 1557, 1558, 2510, 714, 2511, 188, 1559, 212, 2512, 2513],\n",
              " [28, 2514],\n",
              " [393, 2515, 2516, 1560, 871, 1561, 2, 715, 2, 2517, 145, 146, 1126],\n",
              " [17, 509, 1, 17, 24],\n",
              " [1127, 2518, 226, 510, 511, 156, 394, 395, 396, 1128, 2519],\n",
              " [213, 1562, 2520],\n",
              " [397, 1563, 2521, 443, 1564, 1565, 2522]]"
            ]
          },
          "metadata": {
            "tags": []
          },
          "execution_count": 25
        }
      ]
    },
    {
      "cell_type": "code",
      "metadata": {
        "id": "wZeNmrW8vCbO",
        "colab_type": "code",
        "colab": {
          "base_uri": "https://localhost:8080/",
          "height": 35
        },
        "outputId": "1c96b8b0-99ae-4594-e8f1-f7fd0a5939e8"
      },
      "source": [
        "len(embedded_sentences), len(df.tweet.to_list())"
      ],
      "execution_count": 26,
      "outputs": [
        {
          "output_type": "execute_result",
          "data": {
            "text/plain": [
              "(3031, 3031)"
            ]
          },
          "metadata": {
            "tags": []
          },
          "execution_count": 26
        }
      ]
    },
    {
      "cell_type": "code",
      "metadata": {
        "id": "KgIzP-wkjVnK",
        "colab_type": "code",
        "colab": {
          "base_uri": "https://localhost:8080/",
          "height": 399
        },
        "outputId": "e27cf280-a58b-4d3b-93c7-ef67dc07a36c"
      },
      "source": [
        "# Padding the sequences\n",
        "\n",
        "word_count =  lambda sentence: len(word_tokenize(sentence))\n",
        "longest_sentence = max(df.tweet.to_list(),key=word_count)\n",
        "length_longest_sentence = len(word_tokenize(longest_sentence))\n",
        "print(f'Longest sentence: \"{longest_sentence}\", with {length_longest_sentence}  words ' )\n",
        "padded_sentences = pad_sequences(embedded_sentences, length_longest_sentence,padding='post')\n",
        "print(padded_sentences[:FIRST_N_RECORDS])"
      ],
      "execution_count": 27,
      "outputs": [
        {
          "output_type": "stream",
          "text": [
            "Longest sentence: \"judge let rapist johnrkhoward wlk aftr rape special need blk teen ddnt wnt tht record wud nevr work n reverse\", with 20  words \n",
            "[[  40   20   16  442 1125  866  867    0    0    0    0    0    0    0\n",
            "     0    0    0    0    0    0]\n",
            " [  79  252 2508   29 2509  354   79    0    0    0    0    0    0    0\n",
            "     0    0    0    0    0    0]\n",
            " [ 103  508  308  868  713  869 1554 1555  870    0    0    0    0    0\n",
            "     0    0    0    0    0    0]\n",
            " [1556  610 1557 1558 2510  714 2511  188 1559  212 2512 2513    0    0\n",
            "     0    0    0    0    0    0]\n",
            " [  28 2514    0    0    0    0    0    0    0    0    0    0    0    0\n",
            "     0    0    0    0    0    0]\n",
            " [ 393 2515 2516 1560  871 1561    2  715    2 2517  145  146 1126    0\n",
            "     0    0    0    0    0    0]\n",
            " [  17  509    1   17   24    0    0    0    0    0    0    0    0    0\n",
            "     0    0    0    0    0    0]\n",
            " [1127 2518  226  510  511  156  394  395  396 1128 2519    0    0    0\n",
            "     0    0    0    0    0    0]\n",
            " [ 213 1562 2520    0    0    0    0    0    0    0    0    0    0    0\n",
            "     0    0    0    0    0    0]\n",
            " [ 397 1563 2521  443 1564 1565 2522    0    0    0    0    0    0    0\n",
            "     0    0    0    0    0    0]]\n"
          ],
          "name": "stdout"
        }
      ]
    },
    {
      "cell_type": "code",
      "metadata": {
        "id": "j8iH-JR5kjOg",
        "colab_type": "code",
        "colab": {}
      },
      "source": [
        "dimension_for_each_word = 32"
      ],
      "execution_count": 28,
      "outputs": []
    },
    {
      "cell_type": "code",
      "metadata": {
        "id": "f5DrwHODlZgf",
        "colab_type": "code",
        "colab": {}
      },
      "source": [
        "model = Sequential()\n",
        "model.add(Embedding(vocab_length, dimension_for_each_word, input_length=length_longest_sentence))\n",
        "# model.add(Dense(64, activation='relu'))\n",
        "model.add(Dropout(0.2))\n",
        "model.add(Dense(32, activation='relu'))\n",
        "model.add(Flatten())\n",
        "model.add(Dense(1, activation='sigmoid'))"
      ],
      "execution_count": 57,
      "outputs": []
    },
    {
      "cell_type": "code",
      "metadata": {
        "id": "QYLco7rKlgxB",
        "colab_type": "code",
        "colab": {
          "base_uri": "https://localhost:8080/",
          "height": 345
        },
        "outputId": "5f918c9d-1775-484d-cdd8-638c7d1f0359"
      },
      "source": [
        "model.compile(optimizer='adam',loss='binary_crossentropy', metrics=['acc'])\n",
        "model.summary()"
      ],
      "execution_count": 58,
      "outputs": [
        {
          "output_type": "stream",
          "text": [
            "Model: \"sequential_4\"\n",
            "_________________________________________________________________\n",
            "Layer (type)                 Output Shape              Param #   \n",
            "=================================================================\n",
            "embedding_4 (Embedding)      (None, 20, 32)            241664    \n",
            "_________________________________________________________________\n",
            "dropout_4 (Dropout)          (None, 20, 32)            0         \n",
            "_________________________________________________________________\n",
            "dense_12 (Dense)             (None, 20, 32)            1056      \n",
            "_________________________________________________________________\n",
            "flatten_4 (Flatten)          (None, 640)               0         \n",
            "_________________________________________________________________\n",
            "dense_13 (Dense)             (None, 1)                 641       \n",
            "=================================================================\n",
            "Total params: 243,361\n",
            "Trainable params: 243,361\n",
            "Non-trainable params: 0\n",
            "_________________________________________________________________\n"
          ],
          "name": "stdout"
        }
      ]
    },
    {
      "cell_type": "code",
      "metadata": {
        "id": "wKL7HS7Nq8-x",
        "colab_type": "code",
        "colab": {
          "base_uri": "https://localhost:8080/",
          "height": 35
        },
        "outputId": "7892729a-1c79-4b7e-f821-eda0885e71f2"
      },
      "source": [
        "# Converting the target values into integer\n",
        "sentiments = np.array(df.label.astype('int32').to_list())\n",
        "sentiments"
      ],
      "execution_count": 59,
      "outputs": [
        {
          "output_type": "execute_result",
          "data": {
            "text/plain": [
              "array([0, 1, 0, ..., 0, 0, 0])"
            ]
          },
          "metadata": {
            "tags": []
          },
          "execution_count": 59
        }
      ]
    },
    {
      "cell_type": "code",
      "metadata": {
        "id": "_ViYztImpFR5",
        "colab_type": "code",
        "colab": {
          "base_uri": "https://localhost:8080/",
          "height": 35
        },
        "outputId": "e31afede-6b97-4540-f36c-739e3979d8e1"
      },
      "source": [
        "X_train, X_test, y_train, y_test = train_test_split( padded_sentences, sentiments, test_size=0.20, random_state=42)\n",
        "X_train.shape, y_train.shape, X_test.shape, y_test.shape"
      ],
      "execution_count": 60,
      "outputs": [
        {
          "output_type": "execute_result",
          "data": {
            "text/plain": [
              "((2424, 20), (2424,), (607, 20), (607,))"
            ]
          },
          "metadata": {
            "tags": []
          },
          "execution_count": 60
        }
      ]
    },
    {
      "cell_type": "code",
      "metadata": {
        "id": "AxGWBTx-lheB",
        "colab_type": "code",
        "colab": {
          "base_uri": "https://localhost:8080/",
          "height": 763
        },
        "outputId": "9737f3a3-8edc-4936-fc0c-ebc792eb2d94"
      },
      "source": [
        "model.fit(X_train, y_train, epochs=20, verbose =1, validation_data=(X_test,y_test), batch_size=256)"
      ],
      "execution_count": 61,
      "outputs": [
        {
          "output_type": "stream",
          "text": [
            "Epoch 1/20\n",
            "10/10 [==============================] - 0s 24ms/step - loss: 0.6587 - acc: 0.8523 - val_loss: 0.6107 - val_acc: 0.9226\n",
            "Epoch 2/20\n",
            "10/10 [==============================] - 0s 10ms/step - loss: 0.5549 - acc: 0.9249 - val_loss: 0.4888 - val_acc: 0.9226\n",
            "Epoch 3/20\n",
            "10/10 [==============================] - 0s 10ms/step - loss: 0.4128 - acc: 0.9249 - val_loss: 0.3474 - val_acc: 0.9226\n",
            "Epoch 4/20\n",
            "10/10 [==============================] - 0s 10ms/step - loss: 0.2902 - acc: 0.9249 - val_loss: 0.2701 - val_acc: 0.9226\n",
            "Epoch 5/20\n",
            "10/10 [==============================] - 0s 10ms/step - loss: 0.2487 - acc: 0.9249 - val_loss: 0.2670 - val_acc: 0.9226\n",
            "Epoch 6/20\n",
            "10/10 [==============================] - 0s 10ms/step - loss: 0.2453 - acc: 0.9249 - val_loss: 0.2631 - val_acc: 0.9226\n",
            "Epoch 7/20\n",
            "10/10 [==============================] - 0s 11ms/step - loss: 0.2348 - acc: 0.9249 - val_loss: 0.2578 - val_acc: 0.9226\n",
            "Epoch 8/20\n",
            "10/10 [==============================] - 0s 11ms/step - loss: 0.2262 - acc: 0.9249 - val_loss: 0.2540 - val_acc: 0.9226\n",
            "Epoch 9/20\n",
            "10/10 [==============================] - 0s 11ms/step - loss: 0.2189 - acc: 0.9249 - val_loss: 0.2499 - val_acc: 0.9226\n",
            "Epoch 10/20\n",
            "10/10 [==============================] - 0s 10ms/step - loss: 0.2090 - acc: 0.9249 - val_loss: 0.2447 - val_acc: 0.9226\n",
            "Epoch 11/20\n",
            "10/10 [==============================] - 0s 12ms/step - loss: 0.1983 - acc: 0.9249 - val_loss: 0.2393 - val_acc: 0.9226\n",
            "Epoch 12/20\n",
            "10/10 [==============================] - 0s 10ms/step - loss: 0.1864 - acc: 0.9249 - val_loss: 0.2333 - val_acc: 0.9226\n",
            "Epoch 13/20\n",
            "10/10 [==============================] - 0s 10ms/step - loss: 0.1729 - acc: 0.9249 - val_loss: 0.2265 - val_acc: 0.9226\n",
            "Epoch 14/20\n",
            "10/10 [==============================] - 0s 10ms/step - loss: 0.1581 - acc: 0.9249 - val_loss: 0.2198 - val_acc: 0.9226\n",
            "Epoch 15/20\n",
            "10/10 [==============================] - 0s 10ms/step - loss: 0.1424 - acc: 0.9249 - val_loss: 0.2132 - val_acc: 0.9226\n",
            "Epoch 16/20\n",
            "10/10 [==============================] - 0s 10ms/step - loss: 0.1263 - acc: 0.9249 - val_loss: 0.2072 - val_acc: 0.9226\n",
            "Epoch 17/20\n",
            "10/10 [==============================] - 0s 10ms/step - loss: 0.1094 - acc: 0.9270 - val_loss: 0.2019 - val_acc: 0.9226\n",
            "Epoch 18/20\n",
            "10/10 [==============================] - 0s 11ms/step - loss: 0.0925 - acc: 0.9414 - val_loss: 0.1969 - val_acc: 0.9226\n",
            "Epoch 19/20\n",
            "10/10 [==============================] - 0s 10ms/step - loss: 0.0763 - acc: 0.9662 - val_loss: 0.1922 - val_acc: 0.9242\n",
            "Epoch 20/20\n",
            "10/10 [==============================] - 0s 10ms/step - loss: 0.0608 - acc: 0.9856 - val_loss: 0.1886 - val_acc: 0.9275\n"
          ],
          "name": "stdout"
        },
        {
          "output_type": "execute_result",
          "data": {
            "text/plain": [
              "<tensorflow.python.keras.callbacks.History at 0x7ff6611d66a0>"
            ]
          },
          "metadata": {
            "tags": []
          },
          "execution_count": 61
        }
      ]
    },
    {
      "cell_type": "code",
      "metadata": {
        "id": "aKmEOFSEpAcG",
        "colab_type": "code",
        "colab": {
          "base_uri": "https://localhost:8080/",
          "height": 54
        },
        "outputId": "d76bbea1-44c8-4b88-ae31-0c811812bf90"
      },
      "source": [
        "[train_loss, train_acc] = model.evaluate(X_train, y_train, verbose=0)\n",
        "print(\"Evaluation result on Training Data : Loss = {}, accuracy = {}\".format(train_loss, train_acc))\n",
        "\n",
        "[test_loss, test_acc] = model.evaluate(X_test, y_test, verbose=0)\n",
        "print(\"Evaluation result on Test Data : Loss = {}, accuracy = {}\".format(test_loss, test_acc))"
      ],
      "execution_count": 62,
      "outputs": [
        {
          "output_type": "stream",
          "text": [
            "Evaluation result on Training Data : Loss = 0.05196419730782509, accuracy = 0.9900990128517151\n",
            "Evaluation result on Test Data : Loss = 0.18857063353061676, accuracy = 0.9275123476982117\n"
          ],
          "name": "stdout"
        }
      ]
    },
    {
      "cell_type": "code",
      "metadata": {
        "id": "V_lcH3PIrxY_",
        "colab_type": "code",
        "colab": {
          "base_uri": "https://localhost:8080/",
          "height": 417
        },
        "outputId": "318da579-632a-40c0-c589-8627f65e93c4"
      },
      "source": [
        "# Confusion matrix and calssification report\n",
        "\n",
        "actual = y_test\n",
        "predicted = model.predict_classes(X_test)\n",
        "\n",
        "from sklearn.metrics import confusion_matrix\n",
        "from sklearn.metrics import classification_report\n",
        "\n",
        "# confusion matrix\n",
        "matrix = confusion_matrix(actual,predicted, labels=[0,1])\n",
        "print('Confusion matrix : \\n',matrix)\n",
        "\n",
        "# outcome values order in sklearn\n",
        "tp, fn, fp, tn = confusion_matrix(actual,predicted,labels=[1,0]).reshape(-1)\n",
        "print(f'\\n\\nOutcome values : \\n True Positive  : {tp} \\n False Negative : {fn} \\n False Positive : {fp} \\n True Negative  : {tn}')\n",
        "\n",
        "# classification report for precision, recall f1-score and accuracy\n",
        "matrix = classification_report(actual,predicted,labels=[1,0])\n",
        "print('\\n\\nClassification report : \\n',matrix)"
      ],
      "execution_count": 63,
      "outputs": [
        {
          "output_type": "stream",
          "text": [
            "Confusion matrix : \n",
            " [[560   0]\n",
            " [ 44   3]]\n",
            "\n",
            "\n",
            "Outcome values : \n",
            " True Positive  : 3 \n",
            " False Negative : 44 \n",
            " False Positive : 0 \n",
            " True Negative  : 560\n",
            "\n",
            "\n",
            "Classification report : \n",
            "               precision    recall  f1-score   support\n",
            "\n",
            "           1       1.00      0.06      0.12        47\n",
            "           0       0.93      1.00      0.96       560\n",
            "\n",
            "    accuracy                           0.93       607\n",
            "   macro avg       0.96      0.53      0.54       607\n",
            "weighted avg       0.93      0.93      0.90       607\n",
            "\n"
          ],
          "name": "stdout"
        }
      ]
    },
    {
      "cell_type": "markdown",
      "metadata": {
        "id": "zmnXCn-Cz3xv",
        "colab_type": "text"
      },
      "source": [
        "## Prediction"
      ]
    },
    {
      "cell_type": "code",
      "metadata": {
        "id": "2GlHKTnyt9xb",
        "colab_type": "code",
        "colab": {
          "base_uri": "https://localhost:8080/",
          "height": 72
        },
        "outputId": "447b3825-d07f-482e-9bb2-61c7b8e77ad9"
      },
      "source": [
        "# Tweet for the prediction\n",
        "\n",
        "text = [['A lot of good things are happening. We are respected again throughout the world, and thats a great '\n",
        "         'thing. @realDonaldTrump']]\n",
        "\n",
        "#  Preprocessing the tweet\n",
        "\n",
        "#  Coverting the tweet to Pandas dataframe and cleaning the tweet (ie: lemmatized, lowercase, alpha and non-stopwords)\n",
        "dframe = pd.DataFrame(text, index=range(0,1,1), columns = ['text'])\n",
        "cleaned_text = clean_tweet_data(dframe.text)\n",
        "\n",
        "dframe = pd.DataFrame(cleaned_text, columns=['text'])\n",
        "\n",
        "#Regenerating the dataframe for the next steps\n",
        "print(f'Cleaned text :\\n {dframe.text}')\n"
      ],
      "execution_count": 64,
      "outputs": [
        {
          "output_type": "stream",
          "text": [
            "Cleaned text :\n",
            " 0    lot good thing happening respected throughout world thats great thing realdonaldtrump\n",
            "Name: text, dtype: object\n"
          ],
          "name": "stdout"
        }
      ]
    },
    {
      "cell_type": "code",
      "metadata": {
        "id": "EDuSGgQMvKS8",
        "colab_type": "code",
        "colab": {
          "base_uri": "https://localhost:8080/",
          "height": 72
        },
        "outputId": "90e4b69d-cd44-4ce1-e5c9-65d48c040715"
      },
      "source": [
        "# Vectorizing and padding\n",
        "word_tokenizer.fit_on_texts(dframe.text)\n",
        "X = word_tokenizer.texts_to_sequences(dframe.text)\n",
        "X = pad_sequences(X, maxlen=length_longest_sentence)\n",
        "print(f'Vectorized and paddedd sentence: \\n{X} ')"
      ],
      "execution_count": 67,
      "outputs": [
        {
          "output_type": "stream",
          "text": [
            "Vectorized and paddedd sentence: \n",
            "[[   0    0    0    0    0    0    0    0    0  170   19   38  505 1551\n",
            "  2509   66  635   47   38 2510]] \n"
          ],
          "name": "stdout"
        }
      ]
    },
    {
      "cell_type": "code",
      "metadata": {
        "id": "m2FquHvSyaQ0",
        "colab_type": "code",
        "colab": {
          "base_uri": "https://localhost:8080/",
          "height": 35
        },
        "outputId": "2e6ff966-97b0-4ac8-8200-0d6bebc24d26"
      },
      "source": [
        "pred_class = model.predict_classes(X)\n",
        "print(\"Predicted value  :\" +str(pred_class))\n"
      ],
      "execution_count": 71,
      "outputs": [
        {
          "output_type": "stream",
          "text": [
            "Predicted value  :[[0]]\n"
          ],
          "name": "stdout"
        }
      ]
    },
    {
      "cell_type": "code",
      "metadata": {
        "id": "5Ye9psaPGoP3",
        "colab_type": "code",
        "colab": {}
      },
      "source": [
        ""
      ],
      "execution_count": null,
      "outputs": []
    }
  ]
}